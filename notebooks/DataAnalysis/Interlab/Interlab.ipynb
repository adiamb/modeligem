{
 "metadata": {
  "name": "",
  "signature": "sha256:7d9fc53f160bcf325fb7e2e77c5a10f59e4693646b7aed82fb618b2684f04364"
 },
 "nbformat": 3,
 "nbformat_minor": 0,
 "worksheets": [
  {
   "cells": [
    {
     "cell_type": "markdown",
     "metadata": {},
     "source": [
      "# Interlab Study"
     ]
    },
    {
     "cell_type": "code",
     "collapsed": false,
     "input": [
      "%matplotlib inline\n",
      "\n",
      "import sys\n",
      "sys.path.insert(0, '../')\n",
      "import BrasilUSP_iGEM_LabLib as LabLib\n",
      "\n",
      "import scipy.stats\n",
      "import pylab as pl\n",
      "import numpy as np\n",
      "from math import sqrt\n",
      "\n",
      "def biolrepl(wells):\n",
      "    return np.array( [ wells[0:3].mean(), wells[3:6].mean(), wells[6:9].mean() ] ), \\\n",
      "        np.array( [ np.std(wells[0:3]), np.std(wells[3:6]), np.std(wells[6:9]) ] )"
     ],
     "language": "python",
     "metadata": {},
     "outputs": [],
     "prompt_number": 1
    },
    {
     "cell_type": "markdown",
     "metadata": {},
     "source": [
      "### Reading measurements"
     ]
    },
    {
     "cell_type": "code",
     "collapsed": false,
     "input": [
      "filename = 'interlab sem assign.txt'\n",
      "Times, fl = LabLib.ReadFluor_nanomed(filename)\n",
      "mfl = fl[0]"
     ],
     "language": "python",
     "metadata": {},
     "outputs": [],
     "prompt_number": 2
    },
    {
     "cell_type": "code",
     "collapsed": false,
     "input": [
      "RowNames = {\n",
      "    0 : \"LB\",\n",
      "    1 : \"LB + Cam\",\n",
      "    2 : \"Device 1\",\n",
      "    3 : \"Device 2\",\n",
      "    4 : \"Device 3\",\n",
      "    5 : \"+ control\",\n",
      "    6 : \"- control 1\",\n",
      "    7 : \"- control 2\",\n",
      "}"
     ],
     "language": "python",
     "metadata": {},
     "outputs": [],
     "prompt_number": 3
    },
    {
     "cell_type": "markdown",
     "metadata": {},
     "source": [
      "### Control"
     ]
    },
    {
     "cell_type": "markdown",
     "metadata": {},
     "source": [
      "Part of the control was contamined. To compute the average we have simply removed those points (all colony 3 and last column of colony 2)."
     ]
    },
    {
     "cell_type": "code",
     "collapsed": false,
     "input": [
      "LB_mean = np.mean( mfl[0][1:5] )\n",
      "LBCam_mean = np.mean( mfl[1][:4] ) \n",
      "\n",
      "print 'Mean with LB: \\t\\t', LB_mean\n",
      "print 'Mean with LB+Cam: \\t', LBCam_mean"
     ],
     "language": "python",
     "metadata": {},
     "outputs": [
      {
       "output_type": "stream",
       "stream": "stdout",
       "text": [
        "Mean with LB: \t\t26.795\n",
        "Mean with LB+Cam: \t26.6385\n"
       ]
      }
     ],
     "prompt_number": 4
    },
    {
     "cell_type": "markdown",
     "metadata": {},
     "source": [
      "Let's test if there are statistically significant differences between colonies with and without antibiotics."
     ]
    },
    {
     "cell_type": "code",
     "collapsed": false,
     "input": [
      "scipy.stats.mannwhitneyu(mfl[0][1:5], mfl[1][:4])"
     ],
     "language": "python",
     "metadata": {},
     "outputs": [
      {
       "metadata": {},
       "output_type": "pyout",
       "prompt_number": 5,
       "text": [
        "(6.0, 0.33250277105101456)"
       ]
      }
     ],
     "prompt_number": 5
    },
    {
     "cell_type": "markdown",
     "metadata": {},
     "source": [
      "According to the above p-value (~0.24), we have no reason whatsoever to distinguish both."
     ]
    },
    {
     "cell_type": "markdown",
     "metadata": {},
     "source": [
      "### Normalizing the fluorescence measurements"
     ]
    },
    {
     "cell_type": "code",
     "collapsed": false,
     "input": [
      "Devs = np.zeros( (3,9) )\n",
      "\n",
      "for j in [0,1,2]:\n",
      "    Devs[j,:] = np.array( mfl[j+2] ) / LBCam_mean"
     ],
     "language": "python",
     "metadata": {},
     "outputs": [],
     "prompt_number": 6
    },
    {
     "cell_type": "markdown",
     "metadata": {},
     "source": [
      "Let's start by checking if the differences are statistically significant"
     ]
    },
    {
     "cell_type": "code",
     "collapsed": false,
     "input": [
      "U, p01 = scipy.stats.mannwhitneyu(Devs[0], Devs[1])\n",
      "U, p12 = scipy.stats.mannwhitneyu(Devs[1], Devs[2])\n",
      "U, p02 = scipy.stats.mannwhitneyu(Devs[0], Devs[2])\n",
      "\n",
      "print '1 vs 2: \\t', p01\n",
      "print '2 vs 3: \\t', p12\n",
      "print '1 vs 3: \\t', p02"
     ],
     "language": "python",
     "metadata": {},
     "outputs": [
      {
       "output_type": "stream",
       "stream": "stdout",
       "text": [
        "1 vs 2: \t0.000206147401031\n",
        "2 vs 3: \t0.000206147401031\n",
        "1 vs 3: \t0.000206147401031\n"
       ]
      }
     ],
     "prompt_number": 7
    },
    {
     "cell_type": "markdown",
     "metadata": {},
     "source": [
      "Since they are all below 2.5%, their differences are statistically significant."
     ]
    },
    {
     "cell_type": "markdown",
     "metadata": {},
     "source": [
      "### Plotting normalized results"
     ]
    },
    {
     "cell_type": "code",
     "collapsed": false,
     "input": [
      "colors = [(0.2, 0.2, 1.0), (0.2, 1.0, 0.2), (1.0,0.2,0.2)]\n",
      "x = [0.8, 1.0, 1.2, 1.8, 2.0, 2.2, 2.8, 3.0, 3.2]\n",
      "colonies = np.array( [1.0, 2.0, 3.0] )"
     ],
     "language": "python",
     "metadata": {},
     "outputs": [],
     "prompt_number": 8
    },
    {
     "cell_type": "code",
     "collapsed": false,
     "input": [
      "pl.figure( figsize=(8,4) )\n",
      "\n",
      "for linen in [0,1,2]:\n",
      "    pl.plot( x, Devs[linen,:] , 's', markersize=12., markeredgewidth=2.,\n",
      "            markerfacecolor=colors[linen], markeredgecolor=(0.1,0.1,0.1))\n",
      "    \n",
      "    vals, stds = biolrepl( Devs[linen,:] )\n",
      "    pl.bar(colonies + linen*0.2 - 0.3, vals, 0.18, color=colors[linen], label = RowNames[linen])\n",
      "    \n",
      "pl.xlabel('Colony')\n",
      "pl.ylabel('Fluorescence (a.u.)')\n",
      "pl.xlim(0.3,3.4)\n",
      "pl.xticks([1.0, 2.0, 3.0])\n",
      "pl.ylim(0,40)\n",
      "pl.legend(bbox_to_anchor=(1.25, 0.7))\n",
      "pl.show()"
     ],
     "language": "python",
     "metadata": {},
     "outputs": [
      {
       "metadata": {},
       "output_type": "display_data",
       "png": "[encoded data removed]",
       "text": [
        "<matplotlib.figure.Figure at 0xabad522c>"
       ]
      }
     ],
     "prompt_number": 9
    },
    {
     "cell_type": "code",
     "collapsed": false,
     "input": [
      "pl.figure( figsize=(8,4) )\n",
      "\n",
      "error_config = {'ecolor': '0.', 'width': 10.0, 'linewidth' : 2.}\n",
      "\n",
      "for linen in [0,1,2]:\n",
      "    vals, stds = biolrepl( Devs[linen,:] )\n",
      "    pl.bar(colonies + linen*0.2 - 0.3, vals, 0.18, yerr=stds, \n",
      "           error_kw=error_config, color=colors[linen], label = RowNames[linen])\n",
      "\n",
      "pl.xlabel('Colony')\n",
      "pl.ylabel('Fluorescence (a.u.)')\n",
      "pl.xlim(0.5,3.4)\n",
      "pl.xticks([1.0, 2.0, 3.0])\n",
      "pl.ylim(0,40)\n",
      "pl.legend(bbox_to_anchor=(1.25, 0.7))\n",
      "pl.show()"
     ],
     "language": "python",
     "metadata": {},
     "outputs": [
      {
       "metadata": {},
       "output_type": "display_data",
       "png": "[encoded data removed]",
       "text": [
        "<matplotlib.figure.Figure at 0xabce298c>"
       ]
      }
     ],
     "prompt_number": 10
    },
    {
     "cell_type": "markdown",
     "metadata": {},
     "source": [
      "### Relative fluorescence"
     ]
    },
    {
     "cell_type": "code",
     "collapsed": false,
     "input": [
      "print Devs[0].mean() / Devs[1].mean()\n",
      "print Devs[1].mean() / Devs[2].mean()"
     ],
     "language": "python",
     "metadata": {},
     "outputs": [
      {
       "output_type": "stream",
       "stream": "stdout",
       "text": [
        "0.48900991159\n",
        "4.26734182483\n"
       ]
      }
     ],
     "prompt_number": 11
    },
    {
     "cell_type": "code",
     "collapsed": false,
     "input": [],
     "language": "python",
     "metadata": {},
     "outputs": []
    }
   ],
   "metadata": {}
  }
 ]
}