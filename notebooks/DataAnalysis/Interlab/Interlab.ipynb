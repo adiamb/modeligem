{
 "cells": [
  {
   "cell_type": "markdown",
   "metadata": {},
   "source": [
    "# Interlab Study"
   ]
  },
  {
   "cell_type": "markdown",
   "metadata": {},
   "source": [
    "This is our [Interlab study](http://2015.igem.org/Tracks/Measurement/Interlab_study). We studied three devices:\n",
    "\n",
    "* Device 1 - J23101\n",
    "\n",
    "* Device 2 - J23106\n",
    "\n",
    "* Device 3 -  J23117\n"
   ]
  },
  {
   "cell_type": "code",
   "execution_count": 2,
   "metadata": {
    "collapsed": false
   },
   "outputs": [],
   "source": [
    "%matplotlib inline\n",
    "\n",
    "import sys\n",
    "sys.path.insert(0, '../')\n",
    "import BrasilUSP_iGEM_LabLib as LabLib\n",
    "\n",
    "import scipy.stats\n",
    "import pylab as pl\n",
    "import numpy as np\n",
    "from math import sqrt\n",
    "\n",
    "def biolrepl(wells):\n",
    "    return np.array( [ wells[0:3].mean(), wells[3:6].mean(), wells[6:9].mean() ] ), \\\n",
    "        np.array( [ np.std(wells[0:3]), np.std(wells[3:6]), np.std(wells[6:9]) ] )"
   ]
  },
  {
   "cell_type": "markdown",
   "metadata": {},
   "source": [
    "### Reading measurements"
   ]
  },
  {
   "cell_type": "markdown",
   "metadata": {},
   "source": [
    "Reading the file with the measurements."
   ]
  },
  {
   "cell_type": "code",
   "execution_count": 3,
   "metadata": {
    "collapsed": false
   },
   "outputs": [],
   "source": [
    "filename = 'interlab sem assign.txt'\n",
    "Times, fl = LabLib.ReadFluor_nanomed(filename)\n",
    "mfl = fl[0]"
   ]
  },
  {
   "cell_type": "markdown",
   "metadata": {},
   "source": [
    "Name for each row."
   ]
  },
  {
   "cell_type": "code",
   "execution_count": 4,
   "metadata": {
    "collapsed": false
   },
   "outputs": [],
   "source": [
    "RowNames = {\n",
    "    0 : \"LB\",\n",
    "    1 : \"LB + Cam\",\n",
    "    2 : \"Device 1\",\n",
    "    3 : \"Device 2\",\n",
    "    4 : \"Device 3\",\n",
    "    5 : \"+ control\",\n",
    "    6 : \"- control 1\",\n",
    "    7 : \"- control 2\",\n",
    "}"
   ]
  },
  {
   "cell_type": "markdown",
   "metadata": {},
   "source": [
    "### Control"
   ]
  },
  {
   "cell_type": "markdown",
   "metadata": {},
   "source": [
    "Part of the control was contamined. To compute the average we have simply removed those points (all colony 3 and last column of colony 2)."
   ]
  },
  {
   "cell_type": "code",
   "execution_count": 5,
   "metadata": {
    "collapsed": false
   },
   "outputs": [
    {
     "name": "stdout",
     "output_type": "stream",
     "text": [
      "Mean with LB: \t\t26.795\n",
      "Mean with LB+Cam: \t26.6385\n"
     ]
    }
   ],
   "source": [
    "LB_mean = np.mean( mfl[0][1:5] )\n",
    "LBCam_mean = np.mean( mfl[1][:4] ) \n",
    "\n",
    "print 'Mean with LB: \\t\\t', LB_mean\n",
    "print 'Mean with LB+Cam: \\t', LBCam_mean"
   ]
  },
  {
   "cell_type": "markdown",
   "metadata": {},
   "source": [
    "Let's test if there are statistically significant differences between colonies with and without antibiotics. The two-sample [Mann-Whitney U test](https://en.wikipedia.org/wiki/Mann%E2%80%93Whitney_U_test) checks two samples whether one of them is consistently smaller than the other."
   ]
  },
  {
   "cell_type": "code",
   "execution_count": 6,
   "metadata": {
    "collapsed": false
   },
   "outputs": [
    {
     "data": {
      "text/plain": [
       "(6.0, 0.33250277105101456)"
      ]
     },
     "execution_count": 6,
     "metadata": {},
     "output_type": "execute_result"
    }
   ],
   "source": [
    "scipy.stats.mannwhitneyu(mfl[0][1:5], mfl[1][:4])"
   ]
  },
  {
   "cell_type": "markdown",
   "metadata": {},
   "source": [
    "According to the above p-value (~$24$%), we have no reason whatsoever to distinguish both."
   ]
  },
  {
   "cell_type": "markdown",
   "metadata": {},
   "source": [
    "### Normalizing the fluorescence measurements"
   ]
  },
  {
   "cell_type": "markdown",
   "metadata": {},
   "source": [
    "Since LB and LB+Cam are pretty much the same, we will use them to normalize our measurements."
   ]
  },
  {
   "cell_type": "code",
   "execution_count": 8,
   "metadata": {
    "collapsed": false
   },
   "outputs": [],
   "source": [
    "Devs = np.zeros( (3,9) )\n",
    "\n",
    "for j in [0,1,2]:\n",
    "    Devs[j,:] = np.array( mfl[j+2] ) / LBCam_mean"
   ]
  },
  {
   "cell_type": "markdown",
   "metadata": {},
   "source": [
    "In Devs we have the now normalized measurements for all three devices. Let's start by checking if the differences are statistically significant"
   ]
  },
  {
   "cell_type": "code",
   "execution_count": 12,
   "metadata": {
    "collapsed": false
   },
   "outputs": [
    {
     "name": "stdout",
     "output_type": "stream",
     "text": [
      "1 vs 2:  0.000206147401031\n",
      "2 vs 3:  0.000206147401031\n",
      "1 vs 3:  0.000206147401031\n"
     ]
    }
   ],
   "source": [
    "U, p01 = scipy.stats.mannwhitneyu(Devs[0,:], Devs[1,:])\n",
    "U, p12 = scipy.stats.mannwhitneyu(Devs[1,:], Devs[2,:])\n",
    "U, p02 = scipy.stats.mannwhitneyu(Devs[0,:], Devs[2,:])\n",
    "\n",
    "print '1 vs 2: ', p01\n",
    "print '2 vs 3: ', p12\n",
    "print '1 vs 3: ', p02"
   ]
  },
  {
   "cell_type": "markdown",
   "metadata": {},
   "source": [
    "All p-values are around $0.02$%. Since they are all below $2.5$%, their differences are statistically significant."
   ]
  },
  {
   "cell_type": "markdown",
   "metadata": {},
   "source": [
    "### Plotting normalized results"
   ]
  },
  {
   "cell_type": "markdown",
   "metadata": {},
   "source": [
    "Let's visualize now the data."
   ]
  },
  {
   "cell_type": "code",
   "execution_count": 13,
   "metadata": {
    "collapsed": false
   },
   "outputs": [],
   "source": [
    "colors = [(0.2, 0.2, 1.0), (0.2, 1.0, 0.2), (1.0,0.2,0.2)]\n",
    "x = [0.8, 1.0, 1.2, 1.8, 2.0, 2.2, 2.8, 3.0, 3.2]\n",
    "colonies = np.array( [1.0, 2.0, 3.0] )"
   ]
  },
  {
   "cell_type": "code",
   "execution_count": 20,
   "metadata": {
    "collapsed": false
   },
   "outputs": [
    {
     "data": {
      "image/png": "[encoded data removed]",
      "text/plain": [
       "<matplotlib.figure.Figure at 0x4ad1650>"
      ]
     },
     "metadata": {},
     "output_type": "display_data"
    }
   ],
   "source": [
    "pl.figure( figsize=(8,4) )\n",
    "\n",
    "for linen in [0,1,2]:\n",
    "    pl.plot( x, Devs[linen] , 's', markersize=12., markeredgewidth=2.,\n",
    "            markerfacecolor=colors[linen], markeredgecolor=(0.1,0.1,0.1))\n",
    "    \n",
    "    vals, stds = biolrepl( Devs[linen] )\n",
    "    pl.bar(colonies + linen*0.2 - 0.3, vals, 0.18, color=colors[linen], label = RowNames[linen])\n",
    "    \n",
    "pl.xlabel('Colony')\n",
    "pl.ylabel('Fluorescence (a.u.)')\n",
    "pl.xlim(0.3,3.4)\n",
    "pl.xticks([1.0, 2.0, 3.0])\n",
    "pl.ylim(0,40)\n",
    "pl.legend(bbox_to_anchor=(1.25, 0.7))\n",
    "pl.show()"
   ]
  },
  {
   "cell_type": "markdown",
   "metadata": {},
   "source": [
    "In the graph above, we have two different measurements: Square points are each value of each technical replicates, and bars represent average within the same colony. This is not the **best** visualization in fact, see below for a better graph."
   ]
  },
  {
   "cell_type": "code",
   "execution_count": 18,
   "metadata": {
    "collapsed": false
   },
   "outputs": [
    {
     "data": {
      "image/png": "[encoded data removed]",
      "text/plain": [
       "<matplotlib.figure.Figure at 0x4ecd1d0>"
      ]
     },
     "metadata": {},
     "output_type": "display_data"
    }
   ],
   "source": [
    "pl.figure( figsize=(8,4) )\n",
    "\n",
    "error_config = {'ecolor': '0.', 'width': 10.0, 'linewidth' : 2.}\n",
    "\n",
    "for linen in [0,1,2]:\n",
    "    vals, stds = biolrepl( Devs[linen] )\n",
    "    pl.bar(colonies + linen*0.2 - 0.3, vals, 0.18, yerr=stds, \n",
    "           error_kw=error_config, color=colors[linen], label = RowNames[linen])\n",
    "\n",
    "pl.xlabel('Colony')\n",
    "pl.ylabel('Fluorescence (a.u.)')\n",
    "pl.xlim(0.5,3.4)\n",
    "pl.xticks([1.0, 2.0, 3.0])\n",
    "pl.ylim(0,40)\n",
    "pl.legend(bbox_to_anchor=(1.25, 0.7))\n",
    "pl.show()"
   ]
  },
  {
   "cell_type": "markdown",
   "metadata": {},
   "source": [
    "Notice that the error bars are rather small, almost not visible in most cases.\n",
    "\n",
    "Each average fluorescence for each device:"
   ]
  },
  {
   "cell_type": "code",
   "execution_count": 37,
   "metadata": {
    "collapsed": false
   },
   "outputs": [
    {
     "name": "stdout",
     "output_type": "stream",
     "text": [
      "Device 1: 15.39\n",
      "Device 2: 31.48\n",
      "Device 3: 7.38\n"
     ]
    }
   ],
   "source": [
    "for j in [0,1,2]:\n",
    "    print \"Device %1d: %4.2f\" % (j+1, Devs[j].mean())"
   ]
  },
  {
   "cell_type": "markdown",
   "metadata": {},
   "source": [
    "### Relative fluorescence"
   ]
  },
  {
   "cell_type": "markdown",
   "metadata": {},
   "source": [
    "All promoters are part of the known [Anderson's collection](http://parts.igem.org/Promoters/Catalog/Anderson), and all promoters have their *relative promoter strenghts* measured. A simple measure to have an initial insight on how each device operate relative to the others is to calculate the ratio between each average fluorescence measure."
   ]
  },
  {
   "cell_type": "code",
   "execution_count": 11,
   "metadata": {
    "collapsed": false
   },
   "outputs": [
    {
     "name": "stdout",
     "output_type": "stream",
     "text": [
      "0.48900991159\n",
      "4.26734182483\n"
     ]
    }
   ],
   "source": [
    "print Devs[0].mean() / Devs[1].mean()\n",
    "print Devs[1].mean() / Devs[2].mean()"
   ]
  },
  {
   "cell_type": "markdown",
   "metadata": {
    "collapsed": false
   },
   "source": [
    "We can also use the original definition of the relative promoter strength to make a more appropriate comparison [cite here the paper]."
   ]
  }
 ],
 "metadata": {
  "kernelspec": {
   "display_name": "Python 2",
   "language": "python",
   "name": "python2"
  },
  "language_info": {
   "codemirror_mode": {
    "name": "ipython",
    "version": 2
   },
   "file_extension": ".py",
   "mimetype": "text/x-python",
   "name": "python",
   "nbconvert_exporter": "python",
   "pygments_lexer": "ipython2",
   "version": "2.7.5"
  }
 },
 "nbformat": 4,
 "nbformat_minor": 0
}
