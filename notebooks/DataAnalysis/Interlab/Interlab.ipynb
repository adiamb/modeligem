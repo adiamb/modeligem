{
 "cells": [
  {
   "cell_type": "markdown",
   "metadata": {},
   "source": [
    "# Interlab Study"
   ]
  },
  {
   "cell_type": "markdown",
   "metadata": {},
   "source": [
    "This is our [Interlab study](http://2015.igem.org/Tracks/Measurement/Interlab_study). We studied three devices:\n",
    "\n",
    "* Device 1 - J23101\n",
    "\n",
    "* Device 2 - J23106\n",
    "\n",
    "* Device 3 -  J23117\n",
    "\n",
    "Fluorescence measurements were performed using an excitation at 485nm, followed by an end-point measure at 525nm."
   ]
  },
  {
   "cell_type": "code",
   "execution_count": 1,
   "metadata": {
    "collapsed": false
   },
   "outputs": [],
   "source": [
    "%matplotlib inline\n",
    "\n",
    "import sys\n",
    "sys.path.insert(0, '../')\n",
    "import BrasilUSP_iGEM_LabLib as LabLib\n",
    "\n",
    "import scipy.stats\n",
    "import pylab as pl\n",
    "import numpy as np\n",
    "import glob\n",
    "from math import sqrt\n",
    "\n",
    "\n",
    "\n",
    "## Definitions...\n",
    "\n",
    "def biolrepl(wells):\n",
    "    return np.array( [ wells[0:3].mean(), wells[3:6].mean(), wells[6:9].mean() ] ), \\\n",
    "        np.array( [ np.std(wells[0:3]), np.std(wells[3:6]), np.std(wells[6:9]) ] )\n",
    "\n",
    "ColumnNames = {\n",
    "    'A' : \"LB\",\n",
    "    'B' : \"LB+Cam\",\n",
    "    'C' : \"Dev1\",\n",
    "    'D' : \"Dev2\",\n",
    "    'E' : \"Dev3\",\n",
    "    'F' : \"+control\",\n",
    "    'G' : \"-control1\",\n",
    "    'H' : \"-control2\",\n",
    "}\n",
    "\n",
    "MeaningColNames = { v: k for k, v in ColumnNames.items()}\n",
    "\n",
    "def allCols(labels, r0 = 1, rf = 9):\n",
    "    if type(labels) != list: \n",
    "        labels = [labels]\n",
    "    cols = []\n",
    "    for label in labels:\n",
    "        row  = MeaningColNames[label]\n",
    "        for j in range(r0,rf+1):\n",
    "            cols.append(row + '0' + str(j))\n",
    "    return cols"
   ]
  },
  {
   "cell_type": "markdown",
   "metadata": {},
   "source": [
    "### Reading measurements"
   ]
  },
  {
   "cell_type": "markdown",
   "metadata": {},
   "source": [
    "Reading the file with the measurements. In these files we have two fluorescence measurements:\n",
    "\n",
    "* GFP: excited 485nm, probed 525nm\n",
    "* RFP: excited 584nm, probed 607nm"
   ]
  },
  {
   "cell_type": "code",
   "execution_count": 2,
   "metadata": {
    "collapsed": false
   },
   "outputs": [
    {
     "name": "stdout",
     "output_type": "stream",
     "text": [
      "['medida 1.txt' 'medida 2.txt' 'medida 3.txt' 'medida 4.txt' 'medida 5.txt'\n",
      " 'medida 6.txt' 'medida 7.txt' 'medida 8.txt' 'medida 9.txt'\n",
      " 'medida 10.txt' 'medida 11.txt' 'medida 12.txt' 'medida 13.txt']\n"
     ]
    }
   ],
   "source": [
    "FLlist = []\n",
    "ODlist = []\n",
    "tidx   = []\n",
    "for file in glob.glob(\"medida*.txt\"):\n",
    "    tidx.append( float( file.split(' ')[1].split('.')[0] ) )\n",
    "    FLlist.append(file)\n",
    "    ODlist.append('OD'+file.split(' ')[1].split('.')[0]+'.txt')\n",
    "\n",
    "Idx = np.argsort(tidx)\n",
    "FLlist = np.array(FLlist)[Idx]\n",
    "ODlist = np.array(ODlist)[Idx]\n",
    "\n",
    "# Do we have the list of files sorted properly?\n",
    "print FLlist"
   ]
  },
  {
   "cell_type": "markdown",
   "metadata": {},
   "source": [
    "Reading all the data..."
   ]
  },
  {
   "cell_type": "code",
   "execution_count": 3,
   "metadata": {
    "collapsed": false
   },
   "outputs": [],
   "source": [
    "fldata = LabLib.ReadFluor_timefmt_nanomed(FLlist)\n",
    "#oddata = LabLib.ReadFluor_timefmt_nanomed(ODlist, nr_header=2)"
   ]
  },
  {
   "cell_type": "markdown",
   "metadata": {},
   "source": [
    "Let's take a look at the LB row..."
   ]
  },
  {
   "cell_type": "code",
   "execution_count": 4,
   "metadata": {
    "collapsed": false
   },
   "outputs": [
    {
     "data": {
      "text/html": [
       "<div style=\"max-height:1000px;max-width:1500px;overflow:auto;\">\n",
       "<table border=\"1\" class=\"dataframe\">\n",
       "  <thead>\n",
       "    <tr style=\"text-align: right;\">\n",
       "      <th></th>\n",
       "      <th>A01</th>\n",
       "      <th>A02</th>\n",
       "      <th>A03</th>\n",
       "      <th>A04</th>\n",
       "      <th>A05</th>\n",
       "      <th>A06</th>\n",
       "      <th>A07</th>\n",
       "      <th>A08</th>\n",
       "      <th>A09</th>\n",
       "    </tr>\n",
       "  </thead>\n",
       "  <tbody>\n",
       "    <tr>\n",
       "      <th>0</th>\n",
       "      <td> 896.879</td>\n",
       "      <td> 924.144</td>\n",
       "      <td> 899.629</td>\n",
       "      <td> 796.180</td>\n",
       "      <td> 936.492</td>\n",
       "      <td> 826.367</td>\n",
       "      <td> 759.291</td>\n",
       "      <td> 792.928</td>\n",
       "      <td> 946.623</td>\n",
       "    </tr>\n",
       "    <tr>\n",
       "      <th>1</th>\n",
       "      <td> 946.583</td>\n",
       "      <td> 938.596</td>\n",
       "      <td> 928.959</td>\n",
       "      <td> 790.242</td>\n",
       "      <td> 946.989</td>\n",
       "      <td> 838.949</td>\n",
       "      <td> 777.353</td>\n",
       "      <td> 790.383</td>\n",
       "      <td> 963.707</td>\n",
       "    </tr>\n",
       "    <tr>\n",
       "      <th>2</th>\n",
       "      <td> 694.778</td>\n",
       "      <td> 774.716</td>\n",
       "      <td> 718.264</td>\n",
       "      <td> 533.280</td>\n",
       "      <td> 735.652</td>\n",
       "      <td> 606.997</td>\n",
       "      <td> 629.488</td>\n",
       "      <td> 703.695</td>\n",
       "      <td> 852.307</td>\n",
       "    </tr>\n",
       "  </tbody>\n",
       "</table>\n",
       "</div>"
      ],
      "text/plain": [
       "       A01      A02      A03      A04      A05      A06      A07      A08  \\\n",
       "0  896.879  924.144  899.629  796.180  936.492  826.367  759.291  792.928   \n",
       "1  946.583  938.596  928.959  790.242  946.989  838.949  777.353  790.383   \n",
       "2  694.778  774.716  718.264  533.280  735.652  606.997  629.488  703.695   \n",
       "\n",
       "       A09  \n",
       "0  946.623  \n",
       "1  963.707  \n",
       "2  852.307  "
      ]
     },
     "execution_count": 4,
     "metadata": {},
     "output_type": "execute_result"
    }
   ],
   "source": [
    "fldata[allCols('LB')].head(3)"
   ]
  },
  {
   "cell_type": "markdown",
   "metadata": {},
   "source": [
    "Name for each row."
   ]
  },
  {
   "cell_type": "markdown",
   "metadata": {},
   "source": [
    "Let's quickly check how the temperature varied during the experiment."
   ]
  },
  {
   "cell_type": "code",
   "execution_count": 5,
   "metadata": {
    "collapsed": false
   },
   "outputs": [
    {
     "name": "stdout",
     "output_type": "stream",
     "text": [
      "Average temperature: 24.6'C\n",
      "Temperature range: 23.0'C - 26.2'C\n"
     ]
    },
    {
     "data": {
      "image/png": "[encoded data removed]",
      "text/plain": [
       "<matplotlib.figure.Figure at 0x7f0824576d50>"
      ]
     },
     "metadata": {},
     "output_type": "display_data"
    }
   ],
   "source": [
    "print \"Average temperature: %4.1f'C\" % (fldata['T(oC)'].mean())\n",
    "print \"Temperature range: %4.1f'C - %4.1f'C\" % (fldata['T(oC)'].min(), fldata['T(oC)'].max())\n",
    "\n",
    "pl.plot(fldata['T(oC)'], 'o--', lw=1.5, markersize=13., color=(0.3,0.5,1.0), markeredgecolor=(0.2,0.2,0.2))\n",
    "pl.xlabel('Time (h)')\n",
    "pl.xlim(-0.5,11.5)\n",
    "pl.ylabel('Temperature (oC)')\n",
    "pl.ylim(22.6,26.4)\n",
    "pl.show()"
   ]
  },
  {
   "cell_type": "markdown",
   "metadata": {},
   "source": [
    "### Control"
   ]
  },
  {
   "cell_type": "markdown",
   "metadata": {},
   "source": [
    "Part of the control was contamined. To compute the average we have simply removed those points (all colony 3 and last column of colony 2)."
   ]
  },
  {
   "cell_type": "code",
   "execution_count": 6,
   "metadata": {
    "collapsed": false
   },
   "outputs": [
    {
     "data": {
      "text/html": [
       "<div style=\"max-height:1000px;max-width:1500px;overflow:auto;\">\n",
       "<table border=\"1\" class=\"dataframe\">\n",
       "  <thead>\n",
       "    <tr style=\"text-align: right;\">\n",
       "      <th></th>\n",
       "      <th>A01</th>\n",
       "      <th>A02</th>\n",
       "      <th>A03</th>\n",
       "      <th>A04</th>\n",
       "      <th>A05</th>\n",
       "      <th>A06</th>\n",
       "      <th>A07</th>\n",
       "      <th>A08</th>\n",
       "      <th>A09</th>\n",
       "    </tr>\n",
       "  </thead>\n",
       "  <tbody>\n",
       "    <tr>\n",
       "      <th>0 </th>\n",
       "      <td> 896.879</td>\n",
       "      <td> 924.144</td>\n",
       "      <td> 899.629</td>\n",
       "      <td> 796.180</td>\n",
       "      <td> 936.492</td>\n",
       "      <td> 826.367</td>\n",
       "      <td> 759.291</td>\n",
       "      <td> 792.928</td>\n",
       "      <td>  946.623</td>\n",
       "    </tr>\n",
       "    <tr>\n",
       "      <th>1 </th>\n",
       "      <td> 946.583</td>\n",
       "      <td> 938.596</td>\n",
       "      <td> 928.959</td>\n",
       "      <td> 790.242</td>\n",
       "      <td> 946.989</td>\n",
       "      <td> 838.949</td>\n",
       "      <td> 777.353</td>\n",
       "      <td> 790.383</td>\n",
       "      <td>  963.707</td>\n",
       "    </tr>\n",
       "    <tr>\n",
       "      <th>2 </th>\n",
       "      <td> 694.778</td>\n",
       "      <td> 774.716</td>\n",
       "      <td> 718.264</td>\n",
       "      <td> 533.280</td>\n",
       "      <td> 735.652</td>\n",
       "      <td> 606.997</td>\n",
       "      <td> 629.488</td>\n",
       "      <td> 703.695</td>\n",
       "      <td>  852.307</td>\n",
       "    </tr>\n",
       "    <tr>\n",
       "      <th>3 </th>\n",
       "      <td> 737.650</td>\n",
       "      <td> 821.107</td>\n",
       "      <td> 748.746</td>\n",
       "      <td> 606.770</td>\n",
       "      <td> 802.477</td>\n",
       "      <td> 799.081</td>\n",
       "      <td> 726.210</td>\n",
       "      <td> 740.538</td>\n",
       "      <td>  888.691</td>\n",
       "    </tr>\n",
       "    <tr>\n",
       "      <th>4 </th>\n",
       "      <td> 743.555</td>\n",
       "      <td> 825.443</td>\n",
       "      <td> 746.563</td>\n",
       "      <td> 639.481</td>\n",
       "      <td> 820.822</td>\n",
       "      <td> 844.555</td>\n",
       "      <td> 816.009</td>\n",
       "      <td> 911.706</td>\n",
       "      <td>  952.603</td>\n",
       "    </tr>\n",
       "    <tr>\n",
       "      <th>5 </th>\n",
       "      <td> 799.255</td>\n",
       "      <td> 882.934</td>\n",
       "      <td> 779.688</td>\n",
       "      <td> 688.916</td>\n",
       "      <td> 839.220</td>\n",
       "      <td> 888.245</td>\n",
       "      <td> 860.381</td>\n",
       "      <td> 905.064</td>\n",
       "      <td> 1024.023</td>\n",
       "    </tr>\n",
       "    <tr>\n",
       "      <th>6 </th>\n",
       "      <td> 782.279</td>\n",
       "      <td> 809.345</td>\n",
       "      <td> 773.809</td>\n",
       "      <td> 742.165</td>\n",
       "      <td> 820.198</td>\n",
       "      <td> 836.612</td>\n",
       "      <td> 880.490</td>\n",
       "      <td> 901.366</td>\n",
       "      <td> 1014.964</td>\n",
       "    </tr>\n",
       "    <tr>\n",
       "      <th>7 </th>\n",
       "      <td> 776.692</td>\n",
       "      <td> 817.415</td>\n",
       "      <td> 761.893</td>\n",
       "      <td> 736.503</td>\n",
       "      <td> 852.735</td>\n",
       "      <td> 841.259</td>\n",
       "      <td> 858.177</td>\n",
       "      <td> 837.875</td>\n",
       "      <td> 1007.036</td>\n",
       "    </tr>\n",
       "    <tr>\n",
       "      <th>8 </th>\n",
       "      <td> 776.348</td>\n",
       "      <td> 877.195</td>\n",
       "      <td> 747.081</td>\n",
       "      <td> 723.228</td>\n",
       "      <td> 825.820</td>\n",
       "      <td> 858.616</td>\n",
       "      <td> 866.621</td>\n",
       "      <td> 996.143</td>\n",
       "      <td>  998.920</td>\n",
       "    </tr>\n",
       "    <tr>\n",
       "      <th>9 </th>\n",
       "      <td> 798.767</td>\n",
       "      <td> 861.578</td>\n",
       "      <td> 771.524</td>\n",
       "      <td> 721.548</td>\n",
       "      <td> 820.004</td>\n",
       "      <td> 959.323</td>\n",
       "      <td> 911.240</td>\n",
       "      <td> 914.218</td>\n",
       "      <td> 1003.483</td>\n",
       "    </tr>\n",
       "    <tr>\n",
       "      <th>10</th>\n",
       "      <td> 799.387</td>\n",
       "      <td> 803.411</td>\n",
       "      <td> 754.331</td>\n",
       "      <td> 795.254</td>\n",
       "      <td> 810.677</td>\n",
       "      <td> 911.880</td>\n",
       "      <td> 878.620</td>\n",
       "      <td> 951.304</td>\n",
       "      <td> 1000.373</td>\n",
       "    </tr>\n",
       "    <tr>\n",
       "      <th>11</th>\n",
       "      <td> 805.383</td>\n",
       "      <td> 781.910</td>\n",
       "      <td> 757.113</td>\n",
       "      <td> 868.415</td>\n",
       "      <td> 835.914</td>\n",
       "      <td> 871.879</td>\n",
       "      <td> 899.879</td>\n",
       "      <td> 911.064</td>\n",
       "      <td>  999.358</td>\n",
       "    </tr>\n",
       "  </tbody>\n",
       "</table>\n",
       "</div>"
      ],
      "text/plain": [
       "        A01      A02      A03      A04      A05      A06      A07      A08  \\\n",
       "0   896.879  924.144  899.629  796.180  936.492  826.367  759.291  792.928   \n",
       "1   946.583  938.596  928.959  790.242  946.989  838.949  777.353  790.383   \n",
       "2   694.778  774.716  718.264  533.280  735.652  606.997  629.488  703.695   \n",
       "3   737.650  821.107  748.746  606.770  802.477  799.081  726.210  740.538   \n",
       "4   743.555  825.443  746.563  639.481  820.822  844.555  816.009  911.706   \n",
       "5   799.255  882.934  779.688  688.916  839.220  888.245  860.381  905.064   \n",
       "6   782.279  809.345  773.809  742.165  820.198  836.612  880.490  901.366   \n",
       "7   776.692  817.415  761.893  736.503  852.735  841.259  858.177  837.875   \n",
       "8   776.348  877.195  747.081  723.228  825.820  858.616  866.621  996.143   \n",
       "9   798.767  861.578  771.524  721.548  820.004  959.323  911.240  914.218   \n",
       "10  799.387  803.411  754.331  795.254  810.677  911.880  878.620  951.304   \n",
       "11  805.383  781.910  757.113  868.415  835.914  871.879  899.879  911.064   \n",
       "\n",
       "         A09  \n",
       "0    946.623  \n",
       "1    963.707  \n",
       "2    852.307  \n",
       "3    888.691  \n",
       "4    952.603  \n",
       "5   1024.023  \n",
       "6   1014.964  \n",
       "7   1007.036  \n",
       "8    998.920  \n",
       "9   1003.483  \n",
       "10  1000.373  \n",
       "11   999.358  "
      ]
     },
     "execution_count": 6,
     "metadata": {},
     "output_type": "execute_result"
    }
   ],
   "source": [
    "fldata[allCols('LB')]"
   ]
  },
  {
   "cell_type": "code",
   "execution_count": 7,
   "metadata": {
    "collapsed": false
   },
   "outputs": [
    {
     "name": "stdout",
     "output_type": "stream",
     "text": [
      "Red curve = LB+Cam\n",
      "Black curve = LB\n"
     ]
    },
    {
     "data": {
      "image/png": "[encoded data removed]",
      "text/plain": [
       "<matplotlib.figure.Figure at 0x7f07fd6a7d50>"
      ]
     },
     "metadata": {},
     "output_type": "display_data"
    }
   ],
   "source": [
    "print 'Red curve = LB+Cam'\n",
    "print 'Black curve = LB'\n",
    "\n",
    "pl.plot(fldata[allCols('LB')], color=(0.7,0.7,0.7))\n",
    "pl.plot(fldata[allCols('LB+Cam')], color=(1.0,0.7,0.7))\n",
    "\n",
    "pl.plot(np.mean(np.array(fldata[allCols('LB')]), axis=1), 'o-',\n",
    "        markersize=13, lw=3, color=(0.3,0.3,0.3), label='LB')\n",
    "pl.plot(np.mean(np.array(fldata[allCols('LB+Cam')]), axis=1), 'o-', \n",
    "        markersize=13, lw=3, color=(1.0,0.3,0.3), label='LB+Cam')\n",
    "\n",
    "pl.xlabel('Time')\n",
    "pl.xlim(-0.5,11.5)\n",
    "pl.ylabel('Fluorescence')\n",
    "pl.legend()\n",
    "pl.show()"
   ]
  },
  {
   "cell_type": "code",
   "execution_count": 8,
   "metadata": {
    "collapsed": false
   },
   "outputs": [
    {
     "name": "stdout",
     "output_type": "stream",
     "text": [
      "Mean with LB: \t\t 830.6 \n",
      "Mean with LB+Cam: \t 877.6 \n",
      "\n",
      "Difference: \t\t  47.0\n"
     ]
    }
   ],
   "source": [
    "LB_mean    = fldata[allCols('LB')].mean().mean()\n",
    "LBCam_mean = fldata[allCols('LB+Cam')].mean().mean()\n",
    "\n",
    "print \"Mean with LB: \\t\\t %5.1f \" % (LB_mean)\n",
    "print \"Mean with LB+Cam: \\t %5.1f \" % (LBCam_mean)\n",
    "print \"\\nDifference: \\t\\t %5.1f\"  % (np.abs(LB_mean - LBCam_mean))"
   ]
  },
  {
   "cell_type": "markdown",
   "metadata": {},
   "source": [
    "Let's test if there are statistically significant differences between colonies with and without antibiotics. The two-sample [Mann-Whitney U test](https://en.wikipedia.org/wiki/Mann%E2%80%93Whitney_U_test) checks two samples whether one of them is consistently smaller than the other."
   ]
  },
  {
   "cell_type": "code",
   "execution_count": 9,
   "metadata": {
    "collapsed": false
   },
   "outputs": [
    {
     "data": {
      "text/plain": [
       "(12, 9)"
      ]
     },
     "execution_count": 9,
     "metadata": {},
     "output_type": "execute_result"
    }
   ],
   "source": [
    "fldata[allCols('LB')].shape"
   ]
  },
  {
   "cell_type": "code",
   "execution_count": 10,
   "metadata": {
    "collapsed": false
   },
   "outputs": [
    {
     "data": {
      "text/plain": [
       "(4300.0, 0.00042698997509228736)"
      ]
     },
     "execution_count": 10,
     "metadata": {},
     "output_type": "execute_result"
    }
   ],
   "source": [
    "# Putting all data in a single row...\n",
    "LB    = np.reshape( np.array( fldata[allCols('LB')] ), (12*9) )\n",
    "LBCam = np.reshape( np.array( fldata[allCols('LB+Cam')] ), (12*9) )\n",
    "\n",
    "scipy.stats.mannwhitneyu(LB, LBCam)"
   ]
  },
  {
   "cell_type": "markdown",
   "metadata": {},
   "source": [
    "According to the above p-value (~$0.4$%), the antibiotic is inducing a bit o fluorescence."
   ]
  },
  {
   "cell_type": "markdown",
   "metadata": {},
   "source": [
    "### Normalizing the fluorescence measurements"
   ]
  },
  {
   "cell_type": "markdown",
   "metadata": {},
   "source": [
    "Since all colonies have antibiotics, we will normalize all fluorescence with respect to LB+Cam. Thus, from now on all values are given in units of LBCam_mean."
   ]
  },
  {
   "cell_type": "code",
   "execution_count": 11,
   "metadata": {
    "collapsed": false
   },
   "outputs": [
    {
     "data": {
      "text/html": [
       "<div style=\"max-height:1000px;max-width:1500px;overflow:auto;\">\n",
       "<table border=\"1\" class=\"dataframe\">\n",
       "  <thead>\n",
       "    <tr style=\"text-align: right;\">\n",
       "      <th></th>\n",
       "      <th>C01</th>\n",
       "      <th>D01</th>\n",
       "      <th>E01</th>\n",
       "    </tr>\n",
       "  </thead>\n",
       "  <tbody>\n",
       "    <tr>\n",
       "      <th>0</th>\n",
       "      <td> 2.085633</td>\n",
       "      <td> 1.371107</td>\n",
       "      <td> 1.181830</td>\n",
       "    </tr>\n",
       "    <tr>\n",
       "      <th>1</th>\n",
       "      <td> 2.168587</td>\n",
       "      <td> 1.525179</td>\n",
       "      <td> 1.251136</td>\n",
       "    </tr>\n",
       "    <tr>\n",
       "      <th>2</th>\n",
       "      <td> 2.208550</td>\n",
       "      <td> 1.516833</td>\n",
       "      <td> 0.982312</td>\n",
       "    </tr>\n",
       "    <tr>\n",
       "      <th>3</th>\n",
       "      <td> 2.792530</td>\n",
       "      <td> 1.943513</td>\n",
       "      <td> 1.168060</td>\n",
       "    </tr>\n",
       "    <tr>\n",
       "      <th>4</th>\n",
       "      <td> 3.441266</td>\n",
       "      <td> 2.229200</td>\n",
       "      <td> 1.088706</td>\n",
       "    </tr>\n",
       "  </tbody>\n",
       "</table>\n",
       "</div>"
      ],
      "text/plain": [
       "        C01       D01       E01\n",
       "0  2.085633  1.371107  1.181830\n",
       "1  2.168587  1.525179  1.251136\n",
       "2  2.208550  1.516833  0.982312\n",
       "3  2.792530  1.943513  1.168060\n",
       "4  3.441266  2.229200  1.088706"
      ]
     },
     "execution_count": 11,
     "metadata": {},
     "output_type": "execute_result"
    }
   ],
   "source": [
    "NormDevs = fldata[allCols( ['Dev1', 'Dev2', 'Dev3'] )]/LBCam_mean\n",
    "NormDevs[['C01', 'D01', 'E01']].head(5)"
   ]
  },
  {
   "cell_type": "code",
   "execution_count": 12,
   "metadata": {
    "collapsed": false
   },
   "outputs": [
    {
     "name": "stdout",
     "output_type": "stream",
     "text": [
      "Plotting fluorescence for each population\n"
     ]
    },
    {
     "data": {
      "image/png": "[encoded data removed]",
      "text/plain": [
       "<matplotlib.figure.Figure at 0x7f07fd6d6f50>"
      ]
     },
     "metadata": {},
     "output_type": "display_data"
    }
   ],
   "source": [
    "print 'Plotting fluorescence for each population'\n",
    "\n",
    "colors = {'1':(0.3,0.5,1.0), '2':(0.5,1.0,0.3), '3':(1.0,0.5,0.3)}\n",
    "for dev in ['1','2','3']:\n",
    "    pl.plot(NormDevs[allCols('Dev'+dev)], 'o-', lw=1.5, markersize=12., color=colors[dev])\n",
    "\n",
    "pl.xlabel('Time (h)')\n",
    "pl.xlim(-0.5, 11.5)\n",
    "pl.ylabel('Rel. Fluorescence')\n",
    "pl.show()"
   ]
  },
  {
   "cell_type": "code",
   "execution_count": 13,
   "metadata": {
    "collapsed": false
   },
   "outputs": [
    {
     "name": "stdout",
     "output_type": "stream",
     "text": [
      "Plotting averages over all replicates\n"
     ]
    },
    {
     "data": {
      "image/png": "[encoded data removed]",
      "text/plain": [
       "<matplotlib.figure.Figure at 0x7f07fdf1ce10>"
      ]
     },
     "metadata": {},
     "output_type": "display_data"
    }
   ],
   "source": [
    "print 'Plotting averages over all replicates'\n",
    "\n",
    "for dev in ['1','2','3']:\n",
    "    pl.plot(np.mean(np.array(NormDevs[allCols('Dev'+dev)]), axis=1), \n",
    "            'o-', lw=1.5, markersize=12., color=colors[dev])\n",
    "\n",
    "pl.xlabel('Time (h)')\n",
    "pl.xlim(-0.5, 11.5)\n",
    "pl.ylabel('Rel. Fluorescence')\n",
    "pl.show()\n"
   ]
  },
  {
   "cell_type": "markdown",
   "metadata": {},
   "source": [
    "In Devs we have the now normalized measurements for all three devices. Let's start by checking if the differences are statistically significant"
   ]
  },
  {
   "cell_type": "code",
   "execution_count": 14,
   "metadata": {
    "collapsed": false
   },
   "outputs": [
    {
     "name": "stdout",
     "output_type": "stream",
     "text": [
      "1 vs 2:  5.96053278077e-17\n",
      "2 vs 3:  5.37185636276e-36\n",
      "1 vs 3:  3.05351690116e-37\n"
     ]
    }
   ],
   "source": [
    "Dev1all = np.reshape( np.array( NormDevs[allCols('Dev1')] ), (12*9) )\n",
    "Dev2all = np.reshape( np.array( NormDevs[allCols('Dev2')] ), (12*9) )\n",
    "Dev3all = np.reshape( np.array( NormDevs[allCols('Dev3')] ), (12*9) )\n",
    "\n",
    "U, p12 = scipy.stats.mannwhitneyu(Dev1all,Dev2all)\n",
    "U, p23 = scipy.stats.mannwhitneyu(Dev2all,Dev3all)\n",
    "U, p13 = scipy.stats.mannwhitneyu(Dev1all,Dev3all)\n",
    "\n",
    "print '1 vs 2: ', p12\n",
    "print '2 vs 3: ', p23\n",
    "print '1 vs 3: ', p13"
   ]
  },
  {
   "cell_type": "markdown",
   "metadata": {},
   "source": [
    "All p-values are basically zero. Since they are all below $2.5$%, their differences are statistically significant."
   ]
  },
  {
   "cell_type": "markdown",
   "metadata": {},
   "source": [
    "### Plotting normalized results"
   ]
  },
  {
   "cell_type": "markdown",
   "metadata": {},
   "source": [
    "Let's visualize now the data."
   ]
  },
  {
   "cell_type": "code",
   "execution_count": 15,
   "metadata": {
    "collapsed": false
   },
   "outputs": [],
   "source": [
    "colors = [(0.3, 0.5, 1.0), (0.2, 1.0, 0.2), (1.0,0.2,0.2)]\n",
    "x = [0.8, 1.0, 1.2, 1.8, 2.0, 2.2, 2.8, 3.0, 3.2]\n",
    "colonies = np.array( [1.0, 2.0, 3.0] )"
   ]
  },
  {
   "cell_type": "code",
   "execution_count": 16,
   "metadata": {
    "collapsed": false
   },
   "outputs": [
    {
     "data": {
      "image/png": "[encoded data removed]",
      "text/plain": [
       "<matplotlib.figure.Figure at 0x7f07fd7255d0>"
      ]
     },
     "metadata": {},
     "output_type": "display_data"
    }
   ],
   "source": [
    "pl.figure( figsize=(8,4) )\n",
    "\n",
    "time = 3\n",
    "maxF = 2.\n",
    "RowNames = ['Dev1', 'Dev2', 'Dev3']\n",
    "\n",
    "for linen in [1,2,3]:\n",
    "    X = NormDevs[allCols('Dev'+str(linen))].iloc[time]\n",
    "    maxF = max(X.max(), maxF)\n",
    "    pl.plot(x, X, 's', markersize=12., markeredgewidth=2.,\n",
    "            markerfacecolor=colors[linen-1], markeredgecolor=(0.1,0.1,0.1))\n",
    "    vals, stds = biolrepl( X )\n",
    "    pl.bar(colonies + linen*0.2 - 0.5, vals, 0.18, color=colors[linen-1], label = RowNames[linen-1])\n",
    "    \n",
    "pl.xlabel('Colony')\n",
    "pl.ylabel('Fluorescence (a.u.)')\n",
    "pl.xlim(0.3,3.4)\n",
    "pl.xticks([1.0, 2.0, 3.0])\n",
    "pl.ylim(0, maxF + 0.5)\n",
    "pl.legend(bbox_to_anchor=(1.25, 0.7))\n",
    "pl.show()"
   ]
  },
  {
   "cell_type": "markdown",
   "metadata": {},
   "source": [
    "In the graph above, we have two different measurements: Square points are each value of each technical replicates, and bars represent average within the same colony. This is not the **best** visualization in fact, see below for a better graph."
   ]
  },
  {
   "cell_type": "code",
   "execution_count": 17,
   "metadata": {
    "collapsed": false
   },
   "outputs": [
    {
     "data": {
      "image/png": "[encoded data removed]",
      "text/plain": [
       "<matplotlib.figure.Figure at 0x7f07fd549610>"
      ]
     },
     "metadata": {},
     "output_type": "display_data"
    }
   ],
   "source": [
    "pl.figure( figsize=(8,4) )\n",
    "\n",
    "error_config = {'ecolor': '0.', 'width': 10.0, 'linewidth' : 2.}\n",
    "time = 3\n",
    "maxF = 2.\n",
    "\n",
    "for linen in [1,2,3]:\n",
    "    X = NormDevs[allCols('Dev'+str(linen))].iloc[time]\n",
    "    maxF = max(X.max(), maxF)\n",
    "    vals, stds = biolrepl( X )\n",
    "    pl.bar(colonies + linen*0.2 - 0.5, vals, 0.18, color=colors[linen-1], label = RowNames[linen-1],\n",
    "           yerr=stds, error_kw=error_config)\n",
    "\n",
    "pl.xlabel('Colony')\n",
    "pl.ylabel('Fluorescence (a.u.)')\n",
    "pl.xlim(0.5,3.4)\n",
    "pl.xticks([1.0, 2.0, 3.0])\n",
    "pl.ylim(0,maxF+0.5)\n",
    "pl.legend(bbox_to_anchor=(1.25, 0.7))\n",
    "pl.show()"
   ]
  },
  {
   "cell_type": "markdown",
   "metadata": {},
   "source": [
    "### Relative fluorescence"
   ]
  },
  {
   "cell_type": "markdown",
   "metadata": {},
   "source": [
    "All promoters are part of the known [Anderson's collection](http://parts.igem.org/Promoters/Catalog/Anderson), and all promoters have their *relative promoter strenghts* measured. A simple measure to have an initial insight on how each device operate relative to the others is to calculate the ratio between each average fluorescence measure."
   ]
  },
  {
   "cell_type": "code",
   "execution_count": 18,
   "metadata": {
    "collapsed": false
   },
   "outputs": [
    {
     "name": "stdout",
     "output_type": "stream",
     "text": [
      "Plotting averages over all replicates\n"
     ]
    },
    {
     "data": {
      "image/png": "[encoded data removed]",
      "text/plain": [
       "<matplotlib.figure.Figure at 0x7f07fd5f45d0>"
      ]
     },
     "metadata": {},
     "output_type": "display_data"
    }
   ],
   "source": [
    "print 'Plotting averages over all replicates'\n",
    "\n",
    "pl.plot(\n",
    "    np.mean(np.array(NormDevs[allCols('Dev2')]), axis=1)/np.mean(np.array(NormDevs[allCols('Dev1')]), axis=1), \n",
    "    'o-', lw=1.5, markersize=12., color=colors[0], label='Dev2 / Dev1')\n",
    "pl.plot(\n",
    "    np.mean(np.array(NormDevs[allCols('Dev3')]), axis=1)/np.mean(np.array(NormDevs[allCols('Dev1')]), axis=1),\n",
    "    'o-', lw=1.5, markersize=12., color=colors[1], label='Dev3 / Dev1')\n",
    "\n",
    "pl.xlabel('Time (h)')\n",
    "pl.xlim(-0.5, 11.5)\n",
    "pl.ylabel('Rel. Fluorescence')\n",
    "pl.legend(bbox_to_anchor=(0.95,0.6))\n",
    "pl.show()"
   ]
  },
  {
   "cell_type": "markdown",
   "metadata": {},
   "source": [
    "### Proper measure of promoter strength"
   ]
  },
  {
   "cell_type": "markdown",
   "metadata": {
    "collapsed": false
   },
   "source": [
    "We can also use the original definition of the relative promoter strength to make a more appropriate comparison [Kelly et al 2009]."
   ]
  },
  {
   "cell_type": "code",
   "execution_count": 19,
   "metadata": {
    "collapsed": false
   },
   "outputs": [
    {
     "data": {
      "image/png": "[encoded data removed]",
      "text/plain": [
       "<matplotlib.figure.Figure at 0x7f08240d7350>"
      ]
     },
     "metadata": {},
     "output_type": "display_data"
    }
   ],
   "source": [
    "derivative = {}\n",
    "for dev in [1,2,3]:\n",
    "    derivative['Dev'+str(dev)] = np.mean( np.diff( np.array(NormDevs[allCols('Dev'+str(dev))]), axis=0), axis=1)\n",
    "    pl.plot( derivative['Dev'+str(dev)], \n",
    "            'o--', lw=1.5, markersize=12., color=colors[dev-1], label='Dev'+str(dev) )\n",
    "\n",
    "pl.legend(bbox_to_anchor=(1.25,0.6))\n",
    "pl.xlabel('Time (h)')\n",
    "pl.xlim(-0.5,10.5)\n",
    "pl.ylabel('Avg. derivative (rfp/h)')\n",
    "pl.show()"
   ]
  },
  {
   "cell_type": "markdown",
   "metadata": {},
   "source": [
    "Finally, measuring the **R.P.U.**..."
   ]
  },
  {
   "cell_type": "code",
   "execution_count": 20,
   "metadata": {
    "collapsed": false
   },
   "outputs": [
    {
     "name": "stdout",
     "output_type": "stream",
     "text": [
      "RPU(J23106) = 0.46\n",
      "RPU(J23117) = 0.03\n"
     ]
    }
   ],
   "source": [
    "edF_1 = derivative['Dev1'].mean()\n",
    "edF_2 = derivative['Dev2'].mean()\n",
    "edF_3 = derivative['Dev3'].mean()\n",
    "\n",
    "print 'RPU(J23106) = %3.2f' %((derivative['Dev2'][4:]/derivative['Dev1'][4:]).mean())\n",
    "print 'RPU(J23117) = %3.2f' %((derivative['Dev3'][4:]/derivative['Dev1'][4:]).mean())"
   ]
  },
  {
   "cell_type": "markdown",
   "metadata": {},
   "source": [
    "Evaluating the error against Anderson's collection:"
   ]
  },
  {
   "cell_type": "code",
   "execution_count": 21,
   "metadata": {
    "collapsed": false
   },
   "outputs": [
    {
     "name": "stdout",
     "output_type": "stream",
     "text": [
      "Error in RPU(J23106) = 1.1%\n",
      "Error in RPU(J23117) = 55.6%\n"
     ]
    }
   ],
   "source": [
    "print 'Error in RPU(J23106) = %3.1f%%' %(\n",
    "    np.abs((derivative['Dev2'][4:]/derivative['Dev1'][4:]).mean() - 0.47)/0.47*100)\n",
    "print 'Error in RPU(J23117) = %3.1f%%' %(np.abs(\n",
    "        (derivative['Dev3'][4:]/derivative['Dev1'][4:]).mean() - 0.06)/0.06*100)"
   ]
  },
  {
   "cell_type": "code",
   "execution_count": 22,
   "metadata": {
    "collapsed": false
   },
   "outputs": [
    {
     "data": {
      "image/png": "[encoded data removed]",
      "text/plain": [
       "<matplotlib.figure.Figure at 0x7f07fd493850>"
      ]
     },
     "metadata": {},
     "output_type": "display_data"
    }
   ],
   "source": [
    "pControl_df = np.mean( np.diff( np.array(fldata[allCols('+control')])/LBCam_mean, axis=0), axis=1)[4:]\n",
    "mControl1_df = np.mean( np.diff( np.array(fldata[allCols('-control1')])/LBCam_mean, axis=0), axis=1)[4:]\n",
    "mControl2_df = np.mean( np.diff( np.array(fldata[allCols('-control2')])/LBCam_mean, axis=0), axis=1)[4:]\n",
    "\n",
    "norma = 0.7/edF_1\n",
    "\n",
    "error_config = {'ecolor': '0.', 'width': 10.0, 'linewidth' : 2.}\n",
    "\n",
    "\n",
    "RPU = [ (mControl1_df/derivative['Dev1'][4:]).mean(), \n",
    "       (mControl2_df/derivative['Dev1'][4:]).mean(),\n",
    "       (pControl_df/derivative['Dev1'][4:]).mean(),\n",
    "       0.7, (derivative['Dev2'][4:]/derivative['Dev1'][4:]).mean(), \n",
    "       (derivative['Dev3'][4:]/derivative['Dev1'][4:]).mean() ]\n",
    "\n",
    "stds = [ (mControl1_df/derivative['Dev1'][4:]).std()*0.7, \n",
    "        (mControl2_df/derivative['Dev1'][4:]).std()*0.7, \n",
    "        (pControl_df/derivative['Dev1'][4:]).std()*0.7,\n",
    "        derivative['Dev1'][4:].std()*0.7, \n",
    "        (derivative['Dev2'][4:]/derivative['Dev1'][4:]).std()*0.7, \n",
    "        (derivative['Dev3'][4:]/derivative['Dev1'][4:]).std()*0.7 ]\n",
    "\n",
    "fig = pl.figure()\n",
    "ax = fig.add_axes((0.1, 0.2, 0.8, 0.7))\n",
    "\n",
    "pl.bar(np.array(range(6))-0.4, RPU, 0.8, color=(0.3,0.7,1.0),\n",
    "      yerr=stds, error_kw=error_config)\n",
    "\n",
    "pl.xlim(-1.0,6.)\n",
    "pl.xticks(np.arange(0,6), ['-Control1', '-Control1', '+Control', 'J23101', 'J23106', 'J23117'], \n",
    "         rotation=30)\n",
    "\n",
    "ax.xaxis.set_ticks_position('none')\n",
    "pl.ylim(0.0,0.8)\n",
    "pl.ylabel('RPU')\n",
    "pl.show()"
   ]
  },
  {
   "cell_type": "markdown",
   "metadata": {},
   "source": [
    "Promoter strength for our +Control"
   ]
  },
  {
   "cell_type": "code",
   "execution_count": 23,
   "metadata": {
    "collapsed": false
   },
   "outputs": [
    {
     "name": "stdout",
     "output_type": "stream",
     "text": [
      "0.192438102882\n",
      "0.116778044194\n"
     ]
    }
   ],
   "source": [
    "print RPU[2]\n",
    "print stds[2]"
   ]
  },
  {
   "cell_type": "markdown",
   "metadata": {},
   "source": [
    " "
   ]
  }
 ],
 "metadata": {
  "kernelspec": {
   "display_name": "Python 2",
   "language": "python",
   "name": "python2"
  },
  "language_info": {
   "codemirror_mode": {
    "name": "ipython",
    "version": 2
   },
   "file_extension": ".py",
   "mimetype": "text/x-python",
   "name": "python",
   "nbconvert_exporter": "python",
   "pygments_lexer": "ipython2",
   "version": "2.7.8"
  }
 },
 "nbformat": 4,
 "nbformat_minor": 0
}
