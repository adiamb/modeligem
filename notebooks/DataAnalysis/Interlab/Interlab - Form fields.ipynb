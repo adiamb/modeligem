{
 "cells": [
  {
   "cell_type": "markdown",
   "metadata": {},
   "source": [
    "# Interlab Studies - Submission data"
   ]
  },
  {
   "cell_type": "markdown",
   "metadata": {},
   "source": [
    "This is a simple document with all necessary information to  submit our data, following the precise fields order in the submission form. There are no explanations or statistical analyses. You can [find our extensive study here](http://nbviewer.ipython.org/github/thmosqueiro/modeligem/blob/master/notebooks/DataAnalysis/Interlab/Interlab.ipynb)."
   ]
  },
  {
   "cell_type": "code",
   "execution_count": 1,
   "metadata": {
    "collapsed": true
   },
   "outputs": [],
   "source": [
    "%matplotlib inline\n",
    "\n",
    "import sys\n",
    "sys.path.insert(0, '../')\n",
    "import BrasilUSP_iGEM_LabLib as LabLib\n",
    "\n",
    "import scipy.stats\n",
    "import pylab as pl\n",
    "import numpy as np\n",
    "import glob\n",
    "from math import sqrt\n",
    "\n",
    "\n",
    "\n",
    "## Definitions...\n",
    "\n",
    "def biolrepl(wells):\n",
    "    return np.array( [ wells[0:3].mean(), wells[3:6].mean(), wells[6:9].mean() ] ), \\\n",
    "        np.array( [ np.std(wells[0:3]), np.std(wells[3:6]), np.std(wells[6:9]) ] )\n",
    "\n",
    "ColumnNames = {\n",
    "    'A' : \"LB\",\n",
    "    'B' : \"LB+Cam\",\n",
    "    'C' : \"Dev1\",\n",
    "    'D' : \"Dev2\",\n",
    "    'E' : \"Dev3\",\n",
    "    'F' : \"+control\",\n",
    "    'G' : \"-control1\",\n",
    "    'H' : \"-control2\",\n",
    "}\n",
    "\n",
    "MeaningColNames = { v: k for k, v in ColumnNames.items()}\n",
    "\n",
    "def allCols(labels, r0 = 1, rf = 9):\n",
    "    if type(labels) != list: \n",
    "        labels = [labels]\n",
    "    cols = []\n",
    "    for label in labels:\n",
    "        row  = MeaningColNames[label]\n",
    "        for j in range(r0,rf+1):\n",
    "            cols.append(row + '0' + str(j))\n",
    "    return cols\n",
    "\n",
    "time = 2"
   ]
  },
  {
   "cell_type": "code",
   "execution_count": 2,
   "metadata": {
    "collapsed": false
   },
   "outputs": [],
   "source": [
    "FLlist = []\n",
    "ODlist = []\n",
    "tidx   = []\n",
    "for file in glob.glob(\"medida*.txt\"):\n",
    "    tidx.append( float( file.split(' ')[1].split('.')[0] ) )\n",
    "    FLlist.append(file)\n",
    "    ODlist.append('OD'+file.split(' ')[1].split('.')[0]+'.txt')\n",
    "\n",
    "Idx = np.argsort(tidx)\n",
    "FLlist = np.array(FLlist)[Idx]\n",
    "ODlist = np.array(ODlist)[Idx]\n",
    "\n",
    "fldata = LabLib.ReadFluor_timefmt_nanomed(FLlist)\n",
    "ODdata = LabLib.ReadFluor_timefmt_nanomed(['OD1.txt','OD2.txt'])"
   ]
  },
  {
   "cell_type": "markdown",
   "metadata": {},
   "source": [
    "# Standard Interlab studies"
   ]
  },
  {
   "cell_type": "markdown",
   "metadata": {},
   "source": [
    "### Positive Control"
   ]
  },
  {
   "cell_type": "code",
   "execution_count": 3,
   "metadata": {
    "collapsed": false
   },
   "outputs": [],
   "source": [
    "control = np.array( fldata[allCols('+control')].iloc[time] )"
   ]
  },
  {
   "cell_type": "markdown",
   "metadata": {},
   "source": [
    "Three biological replicates of the positive control"
   ]
  },
  {
   "cell_type": "code",
   "execution_count": 4,
   "metadata": {
    "collapsed": false,
    "scrolled": true
   },
   "outputs": [
    {
     "name": "stdout",
     "output_type": "stream",
     "text": [
      "    1174 \n",
      "    1124 \n",
      "    1344\n"
     ]
    }
   ],
   "source": [
    "print ' %7.0f \\n %7.0f \\n %7.0f' % (control[0],control[3],control[6])"
   ]
  },
  {
   "cell_type": "markdown",
   "metadata": {},
   "source": [
    "### Negative Control"
   ]
  },
  {
   "cell_type": "code",
   "execution_count": 5,
   "metadata": {
    "collapsed": true
   },
   "outputs": [],
   "source": [
    "control = np.array( fldata[allCols('-control1')].iloc[time] )"
   ]
  },
  {
   "cell_type": "markdown",
   "metadata": {},
   "source": [
    "Three biological replicates of the negative control"
   ]
  },
  {
   "cell_type": "code",
   "execution_count": 6,
   "metadata": {
    "collapsed": false
   },
   "outputs": [
    {
     "name": "stdout",
     "output_type": "stream",
     "text": [
      "     893 \n",
      "     708 \n",
      "     854\n"
     ]
    }
   ],
   "source": [
    "print ' %7.0f \\n %7.0f \\n %7.0f' % (control[0],control[3],control[6])"
   ]
  },
  {
   "cell_type": "markdown",
   "metadata": {},
   "source": [
    "### Device 1"
   ]
  },
  {
   "cell_type": "code",
   "execution_count": 7,
   "metadata": {
    "collapsed": true
   },
   "outputs": [],
   "source": [
    "dev1 = np.array( fldata[allCols('Dev1')].iloc[time] )"
   ]
  },
  {
   "cell_type": "markdown",
   "metadata": {},
   "source": [
    "Three biological replicates of the Device 1"
   ]
  },
  {
   "cell_type": "code",
   "execution_count": 8,
   "metadata": {
    "collapsed": false
   },
   "outputs": [
    {
     "name": "stdout",
     "output_type": "stream",
     "text": [
      "    1938 \n",
      "    1741 \n",
      "    2552\n"
     ]
    }
   ],
   "source": [
    "print ' %7.0f \\n %7.0f \\n %7.0f' % (dev1[0],dev1[3],dev1[6])"
   ]
  },
  {
   "cell_type": "markdown",
   "metadata": {},
   "source": [
    "Average and standard deviation for these three measurements"
   ]
  },
  {
   "cell_type": "code",
   "execution_count": 9,
   "metadata": {
    "collapsed": false
   },
   "outputs": [
    {
     "name": "stdout",
     "output_type": "stream",
     "text": [
      "Average:               2077\n",
      "Standard deviation:     345\n"
     ]
    }
   ],
   "source": [
    "frstTechnicalRepl = [dev1[0], dev1[3], dev1[6]]\n",
    "print 'Average:            %7.0f' % ( np.mean(frstTechnicalRepl) )\n",
    "print 'Standard deviation: %7.0f' % ( np.std(frstTechnicalRepl) )"
   ]
  },
  {
   "cell_type": "markdown",
   "metadata": {},
   "source": [
    "### Device 2"
   ]
  },
  {
   "cell_type": "code",
   "execution_count": 10,
   "metadata": {
    "collapsed": true
   },
   "outputs": [],
   "source": [
    "dev2 = np.array( fldata[allCols('Dev2')].iloc[time] )"
   ]
  },
  {
   "cell_type": "markdown",
   "metadata": {},
   "source": [
    "Three biological replicates of the Device 2"
   ]
  },
  {
   "cell_type": "code",
   "execution_count": 11,
   "metadata": {
    "collapsed": false
   },
   "outputs": [
    {
     "name": "stdout",
     "output_type": "stream",
     "text": [
      "    1331 \n",
      "    1097 \n",
      "    1284\n"
     ]
    }
   ],
   "source": [
    "print ' %7.0f \\n %7.0f \\n %7.0f' % (dev2[0],dev2[3],dev2[6])"
   ]
  },
  {
   "cell_type": "markdown",
   "metadata": {},
   "source": [
    "Average and standard deviation for these three measurements"
   ]
  },
  {
   "cell_type": "code",
   "execution_count": 12,
   "metadata": {
    "collapsed": false
   },
   "outputs": [
    {
     "name": "stdout",
     "output_type": "stream",
     "text": [
      "Average:               1238\n",
      "Standard deviation:     101\n"
     ]
    }
   ],
   "source": [
    "frstTechnicalRepl = [dev2[0], dev2[3], dev2[6]]\n",
    "print 'Average:            %7.0f' % ( np.mean(frstTechnicalRepl) )\n",
    "print 'Standard deviation: %7.0f' % ( np.std(frstTechnicalRepl) )"
   ]
  },
  {
   "cell_type": "markdown",
   "metadata": {},
   "source": [
    "### Device 3"
   ]
  },
  {
   "cell_type": "code",
   "execution_count": 13,
   "metadata": {
    "collapsed": true
   },
   "outputs": [],
   "source": [
    "dev3 = np.array( fldata[allCols('Dev3')].iloc[time] )"
   ]
  },
  {
   "cell_type": "markdown",
   "metadata": {},
   "source": [
    "Three biological replicates of the Device 3"
   ]
  },
  {
   "cell_type": "code",
   "execution_count": 14,
   "metadata": {
    "collapsed": false
   },
   "outputs": [
    {
     "name": "stdout",
     "output_type": "stream",
     "text": [
      "     862 \n",
      "     659 \n",
      "     900\n"
     ]
    }
   ],
   "source": [
    "print ' %7.0f \\n %7.0f \\n %7.0f' % (dev3[0],dev3[3],dev3[6])"
   ]
  },
  {
   "cell_type": "markdown",
   "metadata": {},
   "source": [
    "Average and standard deviation for these three measurements"
   ]
  },
  {
   "cell_type": "code",
   "execution_count": 15,
   "metadata": {
    "collapsed": false
   },
   "outputs": [
    {
     "name": "stdout",
     "output_type": "stream",
     "text": [
      "Average:                807\n",
      "Standard deviation:     106\n"
     ]
    }
   ],
   "source": [
    "frstTechnicalRepl = [dev3[0], dev3[3], dev3[6]]\n",
    "print 'Average:            %7.0f' % ( np.mean(frstTechnicalRepl) )\n",
    "print 'Standard deviation: %7.0f' % ( np.std(frstTechnicalRepl) )"
   ]
  },
  {
   "cell_type": "markdown",
   "metadata": {},
   "source": [
    "# Extra credits"
   ]
  },
  {
   "cell_type": "markdown",
   "metadata": {},
   "source": [
    "### Device 1"
   ]
  },
  {
   "cell_type": "markdown",
   "metadata": {},
   "source": [
    "2nd technical replicate"
   ]
  },
  {
   "cell_type": "code",
   "execution_count": 16,
   "metadata": {
    "collapsed": false
   },
   "outputs": [
    {
     "name": "stdout",
     "output_type": "stream",
     "text": [
      "Biological replicate 1:    1829\n",
      "Biological replicate 2:    1983\n",
      "Biological replicate 3:    2522\n"
     ]
    }
   ],
   "source": [
    "print 'Biological replicate 1: %7.0f' % (dev1[1])\n",
    "print 'Biological replicate 2: %7.0f' % (dev1[4])\n",
    "print 'Biological replicate 3: %7.0f' % (dev1[7])"
   ]
  },
  {
   "cell_type": "markdown",
   "metadata": {},
   "source": [
    "3rd technical replicate"
   ]
  },
  {
   "cell_type": "code",
   "execution_count": 17,
   "metadata": {
    "collapsed": false
   },
   "outputs": [
    {
     "name": "stdout",
     "output_type": "stream",
     "text": [
      "Biological replicate 1:    1942\n",
      "Biological replicate 2:    1910\n",
      "Biological replicate 3:    2727\n"
     ]
    }
   ],
   "source": [
    "print 'Biological replicate 1: %7.0f' % (dev1[2])\n",
    "print 'Biological replicate 2: %7.0f' % (dev1[5])\n",
    "print 'Biological replicate 3: %7.0f' % (dev1[8])"
   ]
  },
  {
   "cell_type": "markdown",
   "metadata": {},
   "source": [
    "Average and standard deviation using all biological and technical replicates"
   ]
  },
  {
   "cell_type": "code",
   "execution_count": 18,
   "metadata": {
    "collapsed": false
   },
   "outputs": [
    {
     "name": "stdout",
     "output_type": "stream",
     "text": [
      "Average:               2127\n",
      "Standard deviation:     345\n"
     ]
    }
   ],
   "source": [
    "frstTechnicalRepl = [dev1]\n",
    "print 'Average:            %7.0f' % ( np.mean(frstTechnicalRepl) )\n",
    "print 'Standard deviation: %7.0f' % ( np.std(frstTechnicalRepl) )"
   ]
  },
  {
   "cell_type": "markdown",
   "metadata": {},
   "source": [
    "### Device 2"
   ]
  },
  {
   "cell_type": "markdown",
   "metadata": {},
   "source": [
    "2nd technical replicate"
   ]
  },
  {
   "cell_type": "code",
   "execution_count": 19,
   "metadata": {
    "collapsed": false
   },
   "outputs": [
    {
     "name": "stdout",
     "output_type": "stream",
     "text": [
      "Biological replicate 1:    1328\n",
      "Biological replicate 2:    1219\n",
      "Biological replicate 3:    1474\n"
     ]
    }
   ],
   "source": [
    "print 'Biological replicate 1: %7.0f' % (dev2[1])\n",
    "print 'Biological replicate 2: %7.0f' % (dev2[4])\n",
    "print 'Biological replicate 3: %7.0f' % (dev2[7])"
   ]
  },
  {
   "cell_type": "markdown",
   "metadata": {},
   "source": [
    "3rd technical replicate"
   ]
  },
  {
   "cell_type": "code",
   "execution_count": 20,
   "metadata": {
    "collapsed": false
   },
   "outputs": [
    {
     "name": "stdout",
     "output_type": "stream",
     "text": [
      "Biological replicate 1:    1372\n",
      "Biological replicate 2:    1227\n",
      "Biological replicate 3:    1602\n"
     ]
    }
   ],
   "source": [
    "print 'Biological replicate 1: %7.0f' % (dev2[2])\n",
    "print 'Biological replicate 2: %7.0f' % (dev2[5])\n",
    "print 'Biological replicate 3: %7.0f' % (dev2[8])"
   ]
  },
  {
   "cell_type": "markdown",
   "metadata": {},
   "source": [
    "Average and standard deviation using all biological and technical replicates"
   ]
  },
  {
   "cell_type": "code",
   "execution_count": 21,
   "metadata": {
    "collapsed": false
   },
   "outputs": [
    {
     "name": "stdout",
     "output_type": "stream",
     "text": [
      "Average:               1326\n",
      "Standard deviation:     140\n"
     ]
    }
   ],
   "source": [
    "frstTechnicalRepl = [dev2]\n",
    "print 'Average:            %7.0f' % ( np.mean(frstTechnicalRepl) )\n",
    "print 'Standard deviation: %7.0f' % ( np.std(frstTechnicalRepl) )"
   ]
  },
  {
   "cell_type": "markdown",
   "metadata": {},
   "source": [
    "### Device 3"
   ]
  },
  {
   "cell_type": "markdown",
   "metadata": {},
   "source": [
    "2nd technical replicate"
   ]
  },
  {
   "cell_type": "code",
   "execution_count": 22,
   "metadata": {
    "collapsed": false
   },
   "outputs": [
    {
     "name": "stdout",
     "output_type": "stream",
     "text": [
      "Biological replicate 1:     713\n",
      "Biological replicate 2:     777\n",
      "Biological replicate 3:     962\n"
     ]
    }
   ],
   "source": [
    "print 'Biological replicate 1: %7.0f' % (dev3[1])\n",
    "print 'Biological replicate 2: %7.0f' % (dev3[4])\n",
    "print 'Biological replicate 3: %7.0f' % (dev3[7])"
   ]
  },
  {
   "cell_type": "markdown",
   "metadata": {},
   "source": [
    "3rd technical replicate"
   ]
  },
  {
   "cell_type": "code",
   "execution_count": 23,
   "metadata": {
    "collapsed": false
   },
   "outputs": [
    {
     "name": "stdout",
     "output_type": "stream",
     "text": [
      "Biological replicate 1:     863\n",
      "Biological replicate 2:     774\n",
      "Biological replicate 3:    1002\n"
     ]
    }
   ],
   "source": [
    "print 'Biological replicate 1: %7.0f' % (dev3[2])\n",
    "print 'Biological replicate 2: %7.0f' % (dev3[5])\n",
    "print 'Biological replicate 3: %7.0f' % (dev3[8])"
   ]
  },
  {
   "cell_type": "markdown",
   "metadata": {},
   "source": [
    "Average and standard deviation using all biological and technical replicates"
   ]
  },
  {
   "cell_type": "code",
   "execution_count": 24,
   "metadata": {
    "collapsed": false
   },
   "outputs": [
    {
     "name": "stdout",
     "output_type": "stream",
     "text": [
      "Average:                835\n",
      "Standard deviation:     107\n"
     ]
    }
   ],
   "source": [
    "frstTechnicalRepl = [dev3]\n",
    "print 'Average:            %7.0f' % ( np.mean(frstTechnicalRepl) )\n",
    "print 'Standard deviation: %7.0f' % ( np.std(frstTechnicalRepl) )"
   ]
  },
  {
   "cell_type": "markdown",
   "metadata": {},
   "source": [
    " "
   ]
  }
 ],
 "metadata": {
  "kernelspec": {
   "display_name": "Python 2",
   "language": "python",
   "name": "python2"
  },
  "language_info": {
   "codemirror_mode": {
    "name": "ipython",
    "version": 2
   },
   "file_extension": ".py",
   "mimetype": "text/x-python",
   "name": "python",
   "nbconvert_exporter": "python",
   "pygments_lexer": "ipython2",
   "version": "2.7.8"
  }
 },
 "nbformat": 4,
 "nbformat_minor": 0
}
