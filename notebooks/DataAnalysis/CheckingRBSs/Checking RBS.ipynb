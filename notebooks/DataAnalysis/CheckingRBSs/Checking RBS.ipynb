{
 "metadata": {
  "kernelspec": {
   "display_name": "Python 2",
   "language": "python",
   "name": "python2"
  },
  "language_info": {
   "codemirror_mode": {
    "name": "ipython",
    "version": 2
   },
   "file_extension": ".py",
   "mimetype": "text/x-python",
   "name": "python",
   "nbconvert_exporter": "python",
   "pygments_lexer": "ipython2",
   "version": "2.7.8"
  },
  "name": "",
  "signature": "sha256:aeef3d3f7b65321937ffb2a43aafcd9401e9b2b4e3bcfcafc51801b3cda66b8c"
 },
 "nbformat": 3,
 "nbformat_minor": 0,
 "worksheets": [
  {
   "cells": [
    {
     "cell_type": "code",
     "collapsed": true,
     "input": [
      "import numpy as np\n",
      "from Bio import SeqIO"
     ],
     "language": "python",
     "metadata": {},
     "outputs": [],
     "prompt_number": 1
    },
    {
     "cell_type": "heading",
     "level": 2,
     "metadata": {},
     "source": [
      "Reading the fasta files"
     ]
    },
    {
     "cell_type": "markdown",
     "metadata": {},
     "source": [
      "In the file promoters, I have 2 parts from Registry that we want to check and a third one which certainly has a RBS."
     ]
    },
    {
     "cell_type": "code",
     "collapsed": false,
     "input": [
      "seqs = []\n",
      "for seq_record in SeqIO.parse(\"Promoters.fasta\", \"fasta\"):\n",
      "    print 'Reading ' + str(seq_record.id) + \"...\"\n",
      "    seqs.append( seq_record ) "
     ],
     "language": "python",
     "metadata": {},
     "outputs": [
      {
       "output_type": "stream",
       "stream": "stdout",
       "text": [
        "Reading BBa_R0010...\n",
        "Reading BBa_K914003...\n",
        "Reading BBa_R0040...\n",
        "Reading BBa_K876002...\n",
        "Reading BBa_K876001...\n",
        "Reading BBa_K611012...\n"
       ]
      }
     ],
     "prompt_number": 2
    },
    {
     "cell_type": "markdown",
     "metadata": {},
     "source": [
      "Just an example of a sequence and its id."
     ]
    },
    {
     "cell_type": "code",
     "collapsed": false,
     "input": [
      "print seqs[0].id\n",
      "print seqs[0].seq"
     ],
     "language": "python",
     "metadata": {},
     "outputs": [
      {
       "output_type": "stream",
       "stream": "stdout",
       "text": [
        "BBa_R0010\n",
        "caatacgcaaaccgcctctccccgcgcgttggccgattcattaatgcagctggcacgacaggtttcccgactggaaagcgggcagtgagcgcaacgcaattaatgtgagttagctcactcattaggcaccccaggctttacactttatgcttccggctcgtatgttgtgtggaattgtgagcggataacaatttcacaca\n"
       ]
      }
     ],
     "prompt_number": 3
    },
    {
     "cell_type": "markdown",
     "metadata": {},
     "source": [
      "We now read all possible RBSs."
     ]
    },
    {
     "cell_type": "code",
     "collapsed": false,
     "input": [
      "SetPOssB = [29, 30, 31, 32, 33, 34, 35, 64]\n",
      "SetPOssJ = range(0,40)\n",
      "\n",
      "RBSseqs = []\n",
      "\n",
      "for seq_record in SeqIO.parse(\"../Registry_AllParts.fasta\", \"fasta\"):\n",
      "    if ( str(seq_record.id)[:-2] == \"BBa_B00\" and int( str(seq_record.id)[-2:] ) in SetPOssB ): \n",
      "        RBSseqs.append( seq_record )\n",
      "    elif ( str(seq_record.id)[:-2] == \"BBa_J611\" and int( str(seq_record.id)[-2:] ) in SetPOssJ ) :\n",
      "        RBSseqs.append( seq_record )\n",
      "    elif ( seq_record.id == \"BBa_J01010\" or seq_record.id == \"BBa_J01080\" ):\n",
      "        RBSseqs.append( seq_record )"
     ],
     "language": "python",
     "metadata": {
      "scrolled": true
     },
     "outputs": [],
     "prompt_number": 4
    },
    {
     "cell_type": "heading",
     "level": 2,
     "metadata": {},
     "source": [
      "Strict comparison"
     ]
    },
    {
     "cell_type": "markdown",
     "metadata": {},
     "source": [
      "Comparing with part placI"
     ]
    },
    {
     "cell_type": "code",
     "collapsed": false,
     "input": [
      "idx = []\n",
      "for j in range(len(RBSseqs)):\n",
      "    if RBSseqs[j].seq in seqs[0].seq : idx.append(j)\n",
      "\n",
      "print idx"
     ],
     "language": "python",
     "metadata": {},
     "outputs": [
      {
       "output_type": "stream",
       "stream": "stdout",
       "text": [
        "[]\n"
       ]
      }
     ],
     "prompt_number": 5
    },
    {
     "cell_type": "markdown",
     "metadata": {},
     "source": [
      "Same thing with prham"
     ]
    },
    {
     "cell_type": "code",
     "collapsed": false,
     "input": [
      "idx = []\n",
      "for j in range(len(RBSseqs)):\n",
      "    if RBSseqs[j].seq in seqs[1].seq : idx.append(j)\n",
      "\n",
      "print idx"
     ],
     "language": "python",
     "metadata": {},
     "outputs": [
      {
       "output_type": "stream",
       "stream": "stdout",
       "text": [
        "[]\n"
       ]
      }
     ],
     "prompt_number": 6
    },
    {
     "cell_type": "markdown",
     "metadata": {},
     "source": [
      "Finally, our sanity check:"
     ]
    },
    {
     "cell_type": "code",
     "collapsed": false,
     "input": [
      "idx = []\n",
      "for j in range(len(RBSseqs)):\n",
      "    if RBSseqs[j].seq in seqs[2].seq : idx.append(j)\n",
      "\n",
      "print idx"
     ],
     "language": "python",
     "metadata": {},
     "outputs": [
      {
       "output_type": "stream",
       "stream": "stdout",
       "text": [
        "[]\n"
       ]
      }
     ],
     "prompt_number": 7
    },
    {
     "cell_type": "code",
     "collapsed": false,
     "input": [
      "idx = []\n",
      "for j in range(len(RBSseqs)):\n",
      "    if RBSseqs[j].seq in seqs[3].seq : idx.append(j)\n",
      "\n",
      "print idx"
     ],
     "language": "python",
     "metadata": {},
     "outputs": [
      {
       "output_type": "stream",
       "stream": "stdout",
       "text": [
        "[]\n"
       ]
      }
     ],
     "prompt_number": 8
    },
    {
     "cell_type": "markdown",
     "metadata": {},
     "source": [
      "All of the above parts do not show any substring that matches any of the rybosomal binding sites available at Registry..."
     ]
    },
    {
     "cell_type": "code",
     "collapsed": false,
     "input": [
      "idx = []\n",
      "for j in range(len(RBSseqs)):\n",
      "    if RBSseqs[j].seq in seqs[4].seq : idx.append(j)\n",
      "\n",
      "print idx"
     ],
     "language": "python",
     "metadata": {},
     "outputs": [
      {
       "output_type": "stream",
       "stream": "stdout",
       "text": [
        "[1, 5, 6]\n"
       ]
      }
     ],
     "prompt_number": 9
    },
    {
     "cell_type": "markdown",
     "metadata": {},
     "source": [
      "We see that we found a RBS. Let's find out the id:"
     ]
    },
    {
     "cell_type": "code",
     "collapsed": false,
     "input": [
      "for j in idx: print RBSseqs[j].id"
     ],
     "language": "python",
     "metadata": {},
     "outputs": [
      {
       "output_type": "stream",
       "stream": "stdout",
       "text": [
        "BBa_B0030\n",
        "BBa_B0034\n",
        "BBa_B0035\n"
       ]
      }
     ],
     "prompt_number": 10
    },
    {
     "cell_type": "code",
     "collapsed": false,
     "input": [
      "def find_str(dna, subdna):\n",
      "    Ldna = len(dna)\n",
      "    Lsub = len(subdna)\n",
      "    dL = Ldna - Lsub+1\n",
      "    \n",
      "    idxs = []\n",
      "    \n",
      "    for j in range(dL):\n",
      "        part = dna[j:j+Lsub+1]\n",
      "        \n",
      "        if subdna in part:\n",
      "            idxs.append(j)\n",
      "    \n",
      "    return idxs"
     ],
     "language": "python",
     "metadata": {},
     "outputs": [],
     "prompt_number": 104
    },
    {
     "cell_type": "code",
     "collapsed": false,
     "input": [
      "print len(seqs[4].seq), len(RBSseqs[1].seq), len(RBSseqs[5].seq), len(RBSseqs[6].seq)\n",
      "\n",
      "print RBSseqs[5].seq in RBSseqs[1].seq, RBSseqs[6].seq in RBSseqs[1].seq, RBSseqs[6].seq in RBSseqs[5].seq"
     ],
     "language": "python",
     "metadata": {},
     "outputs": [
      {
       "output_type": "stream",
       "stream": "stdout",
       "text": [
        "3827 15 12 14\n",
        "True True False\n"
       ]
      }
     ],
     "prompt_number": 119
    },
    {
     "cell_type": "code",
     "collapsed": false,
     "input": [
      "find_str(seqs[4].seq, RBSseqs[1].seq) "
     ],
     "language": "python",
     "metadata": {},
     "outputs": [
      {
       "metadata": {},
       "output_type": "pyout",
       "prompt_number": 121,
       "text": [
        "[1220, 1221, 3052, 3053]"
       ]
      }
     ],
     "prompt_number": 121
    },
    {
     "cell_type": "code",
     "collapsed": false,
     "input": [
      "find_str(seqs[4].seq, RBSseqs[5].seq)"
     ],
     "language": "python",
     "metadata": {},
     "outputs": [
      {
       "metadata": {},
       "output_type": "pyout",
       "prompt_number": 107,
       "text": [
        "[1223, 1224, 3055, 3056]"
       ]
      }
     ],
     "prompt_number": 107
    },
    {
     "cell_type": "code",
     "collapsed": false,
     "input": [
      "find_str(seqs[4].seq, RBSseqs[6].seq)"
     ],
     "language": "python",
     "metadata": {},
     "outputs": [
      {
       "metadata": {},
       "output_type": "pyout",
       "prompt_number": 108,
       "text": [
        "[1220, 1221, 3052, 3053]"
       ]
      }
     ],
     "prompt_number": 108
    },
    {
     "cell_type": "markdown",
     "metadata": {},
     "source": [
      " "
     ]
    },
    {
     "cell_type": "code",
     "collapsed": false,
     "input": [
      "idx = []\n",
      "for j in range(len(RBSseqs)):\n",
      "    if RBSseqs[j].seq in seqs[5].seq : idx.append(j)\n",
      "\n",
      "print idx"
     ],
     "language": "python",
     "metadata": {},
     "outputs": [
      {
       "output_type": "stream",
       "stream": "stdout",
       "text": [
        "[5]\n"
       ]
      }
     ],
     "prompt_number": 14
    },
    {
     "cell_type": "code",
     "collapsed": false,
     "input": [
      "for j in idx: print RBSseqs[j].id"
     ],
     "language": "python",
     "metadata": {},
     "outputs": [
      {
       "output_type": "stream",
       "stream": "stdout",
       "text": [
        "BBa_B0034\n"
       ]
      }
     ],
     "prompt_number": 15
    },
    {
     "cell_type": "markdown",
     "metadata": {
      "collapsed": true
     },
     "source": [
      "The code above is general enough so that if there're matches with more than one RBS, then all of them are displayed.Now, this only means none of those RBSs are included in any of the two first DNA. However, a similar gene may be encoded there. Let's try alinging them."
     ]
    },
    {
     "cell_type": "heading",
     "level": 2,
     "metadata": {},
     "source": [
      "Constructing an alignment algorithm"
     ]
    },
    {
     "cell_type": "code",
     "collapsed": false,
     "input": [
      "one_sequence = 'actgatcgattgatcgatcgatcg'\n",
      "another_sequence   = 'tttagatcgatctttgatc'\n",
      " \n",
      "# here are the five bits of information we described before\n",
      "def score_match(subject, query, subject_start, query_start, length):\n",
      "    score = 0\n",
      "    # for each base in the match\n",
      "    for i in range(0,length):\n",
      "        # first figure out the matching base from both sequences\n",
      "        subject_base = subject[subject_start + i]\n",
      "        query_base = query[query_start + i]\n",
      "        # then adjust the score up or down depending on \n",
      "        # whether or not they are the same\n",
      "        if subject_base == query_base:\n",
      "            score = score + 1\n",
      "        else:\n",
      "            score = score - 1\n",
      "    return score"
     ],
     "language": "python",
     "metadata": {},
     "outputs": [],
     "prompt_number": 122
    },
    {
     "cell_type": "code",
     "collapsed": true,
     "input": [
      "# the arguments are the five bits of information that define a match\n",
      "def pretty_print_match(subject, query, subject_start, query_start, length):\n",
      "    \n",
      "    seqcmp = \"\"\n",
      "    \n",
      "    # first print the start/stop positions for the subject sequence\n",
      "    seqcmp += str(subject_start) + (' ' * length) + str(subject_start+length) + '\\n'\n",
      " \n",
      "    # then print the bit of the subject that matches\n",
      "    seqcmp += ' ' + subject[subject_start:subject_start+length] + '\\n'\n",
      " \n",
      "    # then print the bit of the query that matches\n",
      "    seqcmp += ' ' + query[query_start:query_start+length] + '\\n'\n",
      " \n",
      "    # finally print the start/stop positions for the query\n",
      "    seqcmp += str(query_start) + (' ' * length) + str(query_start+length) + '\\n'\n",
      " \n",
      "    seqcmp += 'n--------------------n'\n",
      "    \n",
      "    return seqcmp"
     ],
     "language": "python",
     "metadata": {},
     "outputs": [],
     "prompt_number": 123
    },
    {
     "cell_type": "code",
     "collapsed": false,
     "input": [
      "def try_all_matches(subject, query, score_limit):\n",
      "    setMatches = []\n",
      "    setMatches_seqs = []\n",
      "    \n",
      "    qlen = len(query)\n",
      "    slen = len(subject)\n",
      "    for subject_start in range(0,slen):\n",
      "        for query_start in range(0,qlen+1):\n",
      "            for length in range(qlen-5,qlen+1):\n",
      "                if (subject_start + length < slen and query_start + length < qlen):\n",
      "                    score = score_match(subject, query, subject_start, query_start, length)\n",
      "                    # only print a line of output if the score is better than some limie\n",
      "                    if (score >= score_limit):\n",
      "                        setMatches.append( float(score)/qlen )\n",
      "                        setMatches_seqs.append( pretty_print_match(subject, query, subject_start, query_start, length) )\n",
      "    \n",
      "    return np.array( setMatches ), setMatches_seqs"
     ],
     "language": "python",
     "metadata": {},
     "outputs": [],
     "prompt_number": 124
    },
    {
     "cell_type": "heading",
     "level": 2,
     "metadata": {},
     "source": [
      "Aligning and checking RBSs"
     ]
    },
    {
     "cell_type": "markdown",
     "metadata": {},
     "source": [
      "Since we know for sure that seq 5 has a RBS, let's try out our alinginment algorithm with it."
     ]
    },
    {
     "cell_type": "code",
     "collapsed": false,
     "input": [
      "setMatches, setMatches_seqs = try_all_matches(seqs[4].seq, RBSseqs[5].seq, 10)\n",
      "\n",
      "for idx in np.argwhere(setMatches == np.amax(setMatches)):\n",
      "    print \"Score: \", setMatches[idx]\n",
      "    print setMatches_seqs[idx]"
     ],
     "language": "python",
     "metadata": {},
     "outputs": [
      {
       "output_type": "stream",
       "stream": "stdout",
       "text": [
        "Score:  [ 0.91666667]\n",
        "1224           1235\n",
        " aaagaggagaa\n",
        " aaagaggagaa\n",
        "0           11\n",
        "n--------------------n\n",
        "Score:  [ 0.91666667]\n",
        "3056           3067\n",
        " aaagaggagaa\n",
        " aaagaggagaa\n",
        "0           11\n",
        "n--------------------n\n"
       ]
      }
     ],
     "prompt_number": 133
    },
    {
     "cell_type": "markdown",
     "metadata": {},
     "source": [
      "The whole RBS seems compatible around 1021... Which totally seems reasonable. The matching at the beginning is rather strange thou....\n",
      "\n",
      "We also know there shouldn't be any other RBS there. Let's try to find matches with RBS 4 instead of 5."
     ]
    },
    {
     "cell_type": "code",
     "collapsed": false,
     "input": [
      "setMatches, setMatches_seqs = try_all_matches(seqs[5].seq, RBSseqs[5].seq, 7)\n",
      "\n",
      "for idx in np.argwhere(setMatches == np.amax(setMatches)):\n",
      "    print \"Score: \", setMatches[idx]\n",
      "    print setMatches_seqs[idx]"
     ],
     "language": "python",
     "metadata": {},
     "outputs": [
      {
       "output_type": "stream",
       "stream": "stdout",
       "text": [
        "Score:  [ 0.91666667]\n",
        "0           11\n",
        " aaagaggagaa\n",
        " aaagaggagaa\n",
        "0           11\n",
        "n--------------------n\n",
        "Score:  [ 0.91666667]\n",
        "1021           1032\n",
        " aaagaggagaa\n",
        " aaagaggagaa\n",
        "0           11\n",
        "n--------------------n\n"
       ]
      }
     ],
     "prompt_number": 134
    },
    {
     "cell_type": "markdown",
     "metadata": {},
     "source": [
      "The score drops significantly!!\n",
      "\n",
      "Now let's try the other sequences."
     ]
    },
    {
     "cell_type": "code",
     "collapsed": false,
     "input": [
      "setMatches, setMatches_seqs = try_all_matches(RBSseqs[5].seq, RBSseqs[4].seq, 7)\n",
      "\n",
      "setMatches.shape"
     ],
     "language": "python",
     "metadata": {},
     "outputs": [
      {
       "metadata": {},
       "output_type": "pyout",
       "prompt_number": 135,
       "text": [
        "(0,)"
       ]
      }
     ],
     "prompt_number": 135
    },
    {
     "cell_type": "code",
     "collapsed": false,
     "input": [
      "for j in range(len(RBSseqs)):\n",
      "    setMatches, setMatches_seqs = try_all_matches(seqs[0].seq, RBSseqs[j].seq, 8)\n",
      "    if setMatches.shape[0] > 0:\n",
      "        print 'RBS index: ' + j\n",
      "        for idx in np.argwhere(setMatches == np.amax(setMatches)):\n",
      "            print \"Score: \", setMatches[idx]\n",
      "            print setMatches_seqs[idx]"
     ],
     "language": "python",
     "metadata": {},
     "outputs": [],
     "prompt_number": 136
    },
    {
     "cell_type": "code",
     "collapsed": false,
     "input": [
      "for j in range(len(RBSseqs)):\n",
      "    setMatches, setMatches_seqs = try_all_matches(seqs[1].seq, RBSseqs[j].seq, 8)\n",
      "    if setMatches.shape[0] > 0:\n",
      "        print 'RBS index: ' + j\n",
      "        for idx in np.argwhere(setMatches == np.amax(setMatches)):\n",
      "            print \"Score: \", setMatches[idx]\n",
      "            print setMatches_seqs[idx]"
     ],
     "language": "python",
     "metadata": {},
     "outputs": [],
     "prompt_number": 137
    },
    {
     "cell_type": "code",
     "collapsed": true,
     "input": [
      "for j in range(len(RBSseqs)):\n",
      "    setMatches, setMatches_seqs = try_all_matches(seqs[2].seq, RBSseqs[j].seq, 8)\n",
      "    if setMatches.shape[0] > 0:\n",
      "        print 'RBS index: ' + j\n",
      "        for idx in np.argwhere(setMatches == np.amax(setMatches)):\n",
      "            print \"Score: \", setMatches[idx]\n",
      "            print setMatches_seqs[idx]"
     ],
     "language": "python",
     "metadata": {},
     "outputs": [],
     "prompt_number": 138
    },
    {
     "cell_type": "code",
     "collapsed": false,
     "input": [
      "for j in range(len(RBSseqs)):\n",
      "    setMatches, setMatches_seqs = try_all_matches(seqs[3].seq, RBSseqs[j].seq, 9)\n",
      "    if setMatches.shape[0] > 0:\n",
      "        print 'RBS index: ' + str(j)\n",
      "        for idx in np.argwhere(setMatches == np.amax(setMatches)):\n",
      "            print \"Score: \", setMatches[idx]\n",
      "            print setMatches_seqs[idx]"
     ],
     "language": "python",
     "metadata": {},
     "outputs": [
      {
       "output_type": "stream",
       "stream": "stdout",
       "text": [
        "RBS index: 23\n",
        "Score:  [ 0.75]\n",
        "175           186\n",
        " aaaaagtggaa\n",
        " aaagagtggaa\n",
        "0           11\n",
        "n--------------------n\n",
        "RBS index: 37"
       ]
      },
      {
       "output_type": "stream",
       "stream": "stdout",
       "text": [
        "\n",
        "Score:  [ 0.75]\n",
        "175           186\n",
        " aaaaagtggaa\n",
        " aaagagtggaa\n",
        "0           11\n",
        "n--------------------n\n"
       ]
      }
     ],
     "prompt_number": 139
    },
    {
     "cell_type": "markdown",
     "metadata": {},
     "source": [
      "So.... did we find something?? At 175?"
     ]
    },
    {
     "cell_type": "code",
     "collapsed": true,
     "input": [
      "for j in range(len(RBSseqs)):\n",
      "    setMatches, setMatches_seqs = try_all_matches(seqs[4].seq, RBSseqs[j].seq, 9)\n",
      "    if setMatches.shape[0] > 0:\n",
      "        print 'RBS index: ' + str(j)\n",
      "        for idx in np.argwhere(setMatches == np.amax(setMatches)):\n",
      "            print \"Score: \", setMatches[idx]\n",
      "            print setMatches_seqs[idx]"
     ],
     "language": "python",
     "metadata": {},
     "outputs": [
      {
       "output_type": "stream",
       "stream": "stdout",
       "text": [
        "RBS index: 1\n",
        "Score:  [ 0.93333333]\n",
        "1221              1235\n",
        " attaaagaggagaa\n",
        " attaaagaggagaa\n",
        "0              14\n",
        "n--------------------n\n",
        "Score:  [ 0.93333333]\n",
        "3053              3067\n",
        " attaaagaggagaa\n",
        " attaaagaggagaa\n",
        "0              14\n",
        "n--------------------n\n",
        "RBS index: 5"
       ]
      },
      {
       "output_type": "stream",
       "stream": "stdout",
       "text": [
        "\n",
        "Score:  [ 0.91666667]\n",
        "1224           1235\n",
        " aaagaggagaa\n",
        " aaagaggagaa\n",
        "0           11\n",
        "n--------------------n\n",
        "Score:  [ 0.91666667]\n",
        "3056           3067\n",
        " aaagaggagaa\n",
        " aaagaggagaa\n",
        "0           11\n",
        "n--------------------n\n",
        "RBS index: 6"
       ]
      },
      {
       "output_type": "stream",
       "stream": "stdout",
       "text": [
        "\n",
        "Score:  [ 0.92857143]\n",
        "1221             1234\n",
        " attaaagaggaga\n",
        " attaaagaggaga\n",
        "0             13\n",
        "n--------------------n\n",
        "Score:  [ 0.92857143]\n",
        "3053             3066\n",
        " attaaagaggaga\n",
        " attaaagaggaga\n",
        "0             13\n",
        "n--------------------n\n",
        "RBS index: 7"
       ]
      },
      {
       "output_type": "stream",
       "stream": "stdout",
       "text": [
        "\n",
        "Score:  [ 0.75]\n",
        "1224           1235\n",
        " aaagaggagaa\n",
        " aaagaggggaa\n",
        "0           11\n",
        "n--------------------n\n",
        "Score:  [ 0.75]\n",
        "3056           3067\n",
        " aaagaggagaa\n",
        " aaagaggggaa\n",
        "0           11\n",
        "n--------------------n\n",
        "RBS index: 19"
       ]
      },
      {
       "output_type": "stream",
       "stream": "stdout",
       "text": [
        "\n",
        "Score:  [ 0.75]\n",
        "2049         2058\n",
        " aaagactgg\n",
        " aaagactgg\n",
        "0         9\n",
        "n--------------------n\n",
        "RBS index: 20"
       ]
      },
      {
       "output_type": "stream",
       "stream": "stdout",
       "text": [
        "\n",
        "Score:  [ 0.75]\n",
        "1224           1235\n",
        " aaagaggagaa\n",
        " aaagaggcgaa\n",
        "0           11\n",
        "n--------------------n\n",
        "Score:  [ 0.75]\n",
        "3056           3067\n",
        " aaagaggagaa\n",
        " aaagaggcgaa\n",
        "0           11\n",
        "n--------------------n\n",
        "RBS index: 23"
       ]
      },
      {
       "output_type": "stream",
       "stream": "stdout",
       "text": [
        "\n",
        "Score:  [ 0.75]\n",
        "175           186\n",
        " aaaaagtggaa\n",
        " aaagagtggaa\n",
        "0           11\n",
        "n--------------------n\n",
        "Score:  [ 0.75]\n",
        "1712           1723\n",
        " aaagaatggaa\n",
        " aaagagtggaa\n",
        "0           11\n",
        "n--------------------n\n",
        "RBS index: 24"
       ]
      },
      {
       "output_type": "stream",
       "stream": "stdout",
       "text": [
        "\n",
        "Score:  [ 0.75]\n",
        "1224           1235\n",
        " aaagaggagaa\n",
        " aaagatgagaa\n",
        "0           11\n",
        "n--------------------n\n",
        "Score:  [ 0.75]\n",
        "3056           3067\n",
        " aaagaggagaa\n",
        " aaagatgagaa\n",
        "0           11\n",
        "n--------------------n\n",
        "RBS index: 37"
       ]
      },
      {
       "output_type": "stream",
       "stream": "stdout",
       "text": [
        "\n",
        "Score:  [ 0.75]\n",
        "175           186\n",
        " aaaaagtggaa\n",
        " aaagagtggaa\n",
        "0           11\n",
        "n--------------------n\n",
        "Score:  [ 0.75]\n",
        "1712           1723\n",
        " aaagaatggaa\n",
        " aaagagtggaa\n",
        "0           11\n",
        "n--------------------n\n"
       ]
      }
     ],
     "prompt_number": 140
    },
    {
     "cell_type": "code",
     "collapsed": false,
     "input": [],
     "language": "python",
     "metadata": {},
     "outputs": []
    }
   ],
   "metadata": {}
  }
 ]
}