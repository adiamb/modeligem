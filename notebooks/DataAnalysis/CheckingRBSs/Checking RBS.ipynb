{
 "cells": [
  {
   "cell_type": "code",
   "execution_count": 40,
   "metadata": {
    "collapsed": true
   },
   "outputs": [],
   "source": [
    "from Bio import SeqIO"
   ]
  },
  {
   "cell_type": "code",
   "execution_count": 41,
   "metadata": {
    "collapsed": false
   },
   "outputs": [
    {
     "name": "stdout",
     "output_type": "stream",
     "text": [
      "Reading BBa_R0010...\n",
      "Reading BBa_K914003...\n",
      "Reading BBa_K611012...\n"
     ]
    }
   ],
   "source": [
    "seqs = []\n",
    "for seq_record in SeqIO.parse(\"Promoters.fasta\", \"fasta\"):\n",
    "    print 'Reading ' + str(seq_record.id) + \"...\"\n",
    "    seqs.append( seq_record ) "
   ]
  },
  {
   "cell_type": "code",
   "execution_count": 42,
   "metadata": {
    "collapsed": false
   },
   "outputs": [
    {
     "name": "stdout",
     "output_type": "stream",
     "text": [
      "BBa_R0010\n",
      "caatacgcaaaccgcctctccccgcgcgttggccgattcattaatgcagctggcacgacaggtttcccgactggaaagcgggcagtgagcgcaacgcaattaatgtgagttagctcactcattaggcaccccaggctttacactttatgcttccggctcgtatgttgtgtggaattgtgagcggataacaatttcacaca\n"
     ]
    }
   ],
   "source": [
    "print seqs[0].id\n",
    "print seqs[0].seq"
   ]
  },
  {
   "cell_type": "code",
   "execution_count": 43,
   "metadata": {
    "collapsed": false,
    "scrolled": true
   },
   "outputs": [],
   "source": [
    "SetPOssB = [29, 30, 31, 32, 33, 34, 35, 64]\n",
    "SetPOssJ = range(0,40)\n",
    "\n",
    "RBSseqs = []\n",
    "\n",
    "for seq_record in SeqIO.parse(\"Registry_AllParts.fasta\", \"fasta\"):\n",
    "    if ( str(seq_record.id)[:-2] == \"BBa_B00\" and int( str(seq_record.id)[-2:] ) in SetPOssB ): \n",
    "        RBSseqs.append( seq_record )\n",
    "    elif ( str(seq_record.id)[:-2] == \"BBa_J611\" and int( str(seq_record.id)[-2:] ) in SetPOssJ ) :\n",
    "        RBSseqs.append( seq_record )"
   ]
  },
  {
   "cell_type": "code",
   "execution_count": 45,
   "metadata": {
    "collapsed": false
   },
   "outputs": [
    {
     "name": "stdout",
     "output_type": "stream",
     "text": [
      "[]\n"
     ]
    }
   ],
   "source": [
    "idx = []\n",
    "for j in range(len(RBSseqs)):\n",
    "    if RBSseqs[j].seq in seqs[0].seq : idx.append(j)\n",
    "\n",
    "print idx"
   ]
  },
  {
   "cell_type": "code",
   "execution_count": 39,
   "metadata": {
    "collapsed": false
   },
   "outputs": [
    {
     "name": "stdout",
     "output_type": "stream",
     "text": [
      "[]\n"
     ]
    }
   ],
   "source": [
    "idx = []\n",
    "for j in range(len(RBSseqs)):\n",
    "    if RBSseqs[j].seq in seqs[1].seq : idx.append(j)\n",
    "\n",
    "print idx"
   ]
  },
  {
   "cell_type": "code",
   "execution_count": 47,
   "metadata": {
    "collapsed": false
   },
   "outputs": [
    {
     "name": "stdout",
     "output_type": "stream",
     "text": [
      "[5]\n"
     ]
    }
   ],
   "source": [
    "idx = []\n",
    "for j in range(len(RBSseqs)):\n",
    "    if RBSseqs[j].seq in seqs[2].seq : idx.append(j)\n",
    "\n",
    "print idx"
   ]
  },
  {
   "cell_type": "code",
   "execution_count": 48,
   "metadata": {
    "collapsed": false
   },
   "outputs": [
    {
     "name": "stdout",
     "output_type": "stream",
     "text": [
      "BBa_B0034\n"
     ]
    }
   ],
   "source": [
    "for j in idx: print RBSseqs[j].id"
   ]
  },
  {
   "cell_type": "code",
   "execution_count": null,
   "metadata": {
    "collapsed": true
   },
   "outputs": [],
   "source": []
  }
 ],
 "metadata": {
  "kernelspec": {
   "display_name": "Python 2",
   "language": "python",
   "name": "python2"
  },
  "language_info": {
   "codemirror_mode": {
    "name": "ipython",
    "version": 2
   },
   "file_extension": ".py",
   "mimetype": "text/x-python",
   "name": "python",
   "nbconvert_exporter": "python",
   "pygments_lexer": "ipython2",
   "version": "2.7.8"
  }
 },
 "nbformat": 4,
 "nbformat_minor": 0
}
