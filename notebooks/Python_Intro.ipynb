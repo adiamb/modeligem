{
 "cells": [
  {
   "cell_type": "markdown",
   "metadata": {},
   "source": [
    "# First steps with Python"
   ]
  },
  {
   "cell_type": "markdown",
   "metadata": {},
   "source": [
    "In this notebook, we showcase iPython Notebook as a suitable solution for modeling and data analysis in Synthetic Biology. With this framework, you will be able to both (i) develop your ideas (pure data analysis, data visualization, ) and (ii) create a portable, shareable document that stores not only code, but also you reasoning throughout your research. This will be a super-fast introduction to the language and major points in order to get anyone started with their own projects. \n",
    "\n",
    "This is intended as a suplementary material for iGEM 2015 competition. You can contact our team (**Team USP-Brasil**) if you would like a live demonstration!! \n",
    "\n",
    "This is our Facebook page:\n",
    "https://www.facebook.com/brasilusp?fref=ts\n",
    "\n",
    "<br />\n",
    "\n",
    "If needed, the following references might be useful:\n",
    "\n",
    "* Learning Python, by Mark Lutz (O'Reily, 2013)\n",
    "\n",
    "<br />\n",
    "\n",
    "This notebook is a free software, you are free to use it the way you'd like to. You can find it in the following address:\n",
    "\n",
    "https://github.com/thmosqueiro/modeligem/"
   ]
  },
  {
   "cell_type": "markdown",
   "metadata": {},
   "source": [
    "# Hello world"
   ]
  },
  {
   "cell_type": "markdown",
   "metadata": {},
   "source": [
    "In every programming language, the \"hello world\" program/script is usually a small piece of code that shows how to implement a simple program that prints on the screen \"Hello world\". This is a common way to get a first glimpse of the how the langauge you're planning to learn looks like."
   ]
  },
  {
   "cell_type": "code",
   "execution_count": 1,
   "metadata": {
    "collapsed": false
   },
   "outputs": [
    {
     "name": "stdout",
     "output_type": "stream",
     "text": [
      "Hello world\n"
     ]
    }
   ],
   "source": [
    "print 'Hello world'"
   ]
  },
  {
   "cell_type": "markdown",
   "metadata": {},
   "source": [
    "As you can see, whenever you want to print anything on your screen, simply use \"print\" keyword.\n",
    "\n",
    "<i>Disclaimer:</i> in case of error here, check whether you are using Python3 instead of Python2. In Python3, print is a function and should be called like <i>print('Hellow world')</i> instead."
   ]
  },
  {
   "cell_type": "markdown",
   "metadata": {},
   "source": [
    "# Importing libraries"
   ]
  },
  {
   "cell_type": "markdown",
   "metadata": {},
   "source": [
    "To import packages or libraries, simply use <i>import</i> keyword. For simplicity, you can create an alias to that library name using <i>as</i> keyword. Bellow a few examples.\n",
    "\n",
    "Plotting:"
   ]
  },
  {
   "cell_type": "code",
   "execution_count": 2,
   "metadata": {
    "collapsed": true
   },
   "outputs": [],
   "source": [
    "%matplotlib inline\n",
    "import pylab as pl"
   ]
  },
  {
   "cell_type": "markdown",
   "metadata": {},
   "source": [
    "Fast numerical calculations:"
   ]
  },
  {
   "cell_type": "code",
   "execution_count": 3,
   "metadata": {
    "collapsed": false
   },
   "outputs": [],
   "source": [
    "from math import *\n",
    "import numpy as np"
   ]
  },
  {
   "cell_type": "markdown",
   "metadata": {},
   "source": [
    "Pretty data sheets:"
   ]
  },
  {
   "cell_type": "code",
   "execution_count": 4,
   "metadata": {
    "collapsed": false
   },
   "outputs": [],
   "source": [
    "import pandas as pd"
   ]
  },
  {
   "cell_type": "markdown",
   "metadata": {},
   "source": [
    "In case you experience errors in the previous commands, simply try to install the packages we are trying to call. Under windows, you can use Anaconda package manager for this purpose.\n",
    "\n",
    "In most linux systems software managers, python packages are usually named <i>python-[PACKAGE-NAME]</i>. For instance, <i>numpy</i> is usually <i>pyhon-numpy</i>."
   ]
  },
  {
   "cell_type": "markdown",
   "metadata": {},
   "source": [
    "# First steps"
   ]
  },
  {
   "cell_type": "markdown",
   "metadata": {},
   "source": [
    "Example of creating an variable:"
   ]
  },
  {
   "cell_type": "code",
   "execution_count": 5,
   "metadata": {
    "collapsed": false
   },
   "outputs": [
    {
     "name": "stdout",
     "output_type": "stream",
     "text": [
      "3\n"
     ]
    }
   ],
   "source": [
    "X = 1\n",
    "Y = 2\n",
    "Z = X + Y\n",
    "print Z"
   ]
  },
  {
   "cell_type": "markdown",
   "metadata": {},
   "source": [
    "Be careful with division using whole numbers or integers:"
   ]
  },
  {
   "cell_type": "code",
   "execution_count": 6,
   "metadata": {
    "collapsed": false
   },
   "outputs": [
    {
     "name": "stdout",
     "output_type": "stream",
     "text": [
      "0\n"
     ]
    }
   ],
   "source": [
    "print X/Y"
   ]
  },
  {
   "cell_type": "markdown",
   "metadata": {},
   "source": [
    "If you type the following, you are defining X as the whole number 1:"
   ]
  },
  {
   "cell_type": "code",
   "execution_count": 7,
   "metadata": {
    "collapsed": false
   },
   "outputs": [
    {
     "name": "stdout",
     "output_type": "stream",
     "text": [
      "<type 'int'>\n"
     ]
    }
   ],
   "source": [
    "X = 1\n",
    "print type(X)"
   ]
  },
  {
   "cell_type": "markdown",
   "metadata": {},
   "source": [
    "However, if you want X as the **real number** 1, then use:"
   ]
  },
  {
   "cell_type": "code",
   "execution_count": 8,
   "metadata": {
    "collapsed": false
   },
   "outputs": [
    {
     "name": "stdout",
     "output_type": "stream",
     "text": [
      "<type 'float'>\n"
     ]
    }
   ],
   "source": [
    "X = 1.\n",
    "print type(X)"
   ]
  },
  {
   "cell_type": "markdown",
   "metadata": {},
   "source": [
    "Additionally, if you have X defined as the whole number 1 and you want it as the real number 1.0, then use float function like below:"
   ]
  },
  {
   "cell_type": "code",
   "execution_count": 9,
   "metadata": {
    "collapsed": true
   },
   "outputs": [],
   "source": [
    "X = 1\n",
    "Y = 2"
   ]
  },
  {
   "cell_type": "code",
   "execution_count": 10,
   "metadata": {
    "collapsed": false
   },
   "outputs": [
    {
     "name": "stdout",
     "output_type": "stream",
     "text": [
      "Integer division:  0\n",
      "Float division:    0.5\n"
     ]
    }
   ],
   "source": [
    "XX = float( X )\n",
    "YY = float( Y )\n",
    "print 'Integer division: ', X/Y\n",
    "print 'Float division:   ', XX/YY"
   ]
  },
  {
   "cell_type": "markdown",
   "metadata": {},
   "source": [
    "We can create similarly lists of variables:"
   ]
  },
  {
   "cell_type": "code",
   "execution_count": 11,
   "metadata": {
    "collapsed": false
   },
   "outputs": [
    {
     "name": "stdout",
     "output_type": "stream",
     "text": [
      "[1, 2, 3, 4]\n",
      "[1, 2, 3, 4, 4.2, 5.6, 6, 'A']\n"
     ]
    }
   ],
   "source": [
    "X = [1,2,3,4]\n",
    "Y = [4.2,5.6,6,'A']\n",
    "print X\n",
    "print X+Y"
   ]
  },
  {
   "cell_type": "markdown",
   "metadata": {},
   "source": [
    "Did you notice anything strange? Yep, X+Y is not the sum of the \"vectors\" X and Y, but the <b>concatenation</b> (juxtaposition). That is because lists are not vecotrs:"
   ]
  },
  {
   "cell_type": "code",
   "execution_count": 12,
   "metadata": {
    "collapsed": false
   },
   "outputs": [
    {
     "data": {
      "text/plain": [
       "list"
      ]
     },
     "execution_count": 12,
     "metadata": {},
     "output_type": "execute_result"
    }
   ],
   "source": [
    "type(X)"
   ]
  },
  {
   "cell_type": "markdown",
   "metadata": {},
   "source": [
    "Also, notice that lists are simply a group of variables, regardless of their type. In Y, for instance, we have whole numbers (6), real numbers (4.2, 5.6) and a character ('A'). In a moment, we'll get to \"vectors\".\n",
    "\n",
    "There are however more efficient ways to create and manipulate lists and vectors. For instance, to create an list that starts at 3 and goes up to 10, you can use <i>range</i> function."
   ]
  },
  {
   "cell_type": "code",
   "execution_count": 13,
   "metadata": {
    "collapsed": false
   },
   "outputs": [
    {
     "name": "stdout",
     "output_type": "stream",
     "text": [
      "My range:       [3, 4, 5, 6, 7, 8, 9, 10]\n",
      "Type of range:  <type 'list'>\n"
     ]
    }
   ],
   "source": [
    "print 'My range:      ', range(3, 10+1)\n",
    "print 'Type of range: ', type(range(3, 10+1))"
   ]
  },
  {
   "cell_type": "markdown",
   "metadata": {},
   "source": [
    "Notice that we used 10+1 instead of 10 in <i>range</i>. The reason why is simple: if you call <i>range(x0, xf)</i>, then range will have xf-x0 elements starting off x0. Which means, in our case, 11-3 = 8 and starting from 3 we will stop at 10. **Bottom line:** if you want range to stop at a number n, then use range(x0, n+1)\n",
    "\n",
    "To manipulate vectors, arrays and matrices, you should use **numpy**. It implements all matrix operations for you and has an easy-to-understand interface.\n",
    "\n",
    "Check below how we create a vector from 0 to 20, with an interval of 0.5."
   ]
  },
  {
   "cell_type": "code",
   "execution_count": 14,
   "metadata": {
    "collapsed": false
   },
   "outputs": [
    {
     "name": "stdout",
     "output_type": "stream",
     "text": [
      "Type of X:  <type 'numpy.ndarray'>\n",
      "[  0.    0.5   1.    1.5   2.    2.5   3.    3.5   4.    4.5   5.    5.5\n",
      "   6.    6.5   7.    7.5   8.    8.5   9.    9.5  10.   10.5  11.   11.5\n",
      "  12.   12.5  13.   13.5  14.   14.5  15.   15.5  16.   16.5  17.   17.5\n",
      "  18.   18.5  19.   19.5]\n"
     ]
    }
   ],
   "source": [
    "X = np.arange(0.,20.,0.5)\n",
    "print 'Type of X: ', type(X)\n",
    "print X"
   ]
  },
  {
   "cell_type": "markdown",
   "metadata": {},
   "source": [
    "Notice that we are calling the function np.arange to create this vector (whose type is something different than a list). The actual function is called <i>arange</i>, while <i>np</i> is actually telling Python that this function should be inside numpy library (whose alias is <i>np</i>). \n",
    "\n",
    "We can also create vectors filled with (pseudo) random numbers, distributed under virtually any probability distribution. Let's use a normal distribution and draw 20/0.5 = 40 random numbers. To do so, we will call <i>random.standard_normal</i> from numpy:"
   ]
  },
  {
   "cell_type": "code",
   "execution_count": 15,
   "metadata": {
    "collapsed": false
   },
   "outputs": [
    {
     "name": "stdout",
     "output_type": "stream",
     "text": [
      "[-0.58864086  0.49596875 -0.47822746  1.09337724 -0.10421426 -0.40074705\n",
      "  0.25858911  0.49787258  0.11296725  1.64549488 -0.22218368 -0.28222512\n",
      "  0.56122107 -0.24665776  0.86385487  0.03167906  0.19530497  0.3376739\n",
      "  1.44820725 -0.97188816  0.19079391 -0.82470083 -1.59494952  1.40015987\n",
      "  0.40768965 -1.28038193  1.04337321  0.82884378 -0.04808435  0.1565237\n",
      "  1.09977507  0.5318647   0.06631362  0.48611276 -1.07302408  0.22283512\n",
      " -1.0729849   0.36147196 -0.18017443 -1.04193127]\n"
     ]
    }
   ],
   "source": [
    "Y = np.random.standard_normal(40)\n",
    "print Y"
   ]
  },
  {
   "cell_type": "markdown",
   "metadata": {},
   "source": [
    "Whenever you create variables, in Python they are understood as objects (as in Object-Oriented languages). In particular, objects have something called <b>fields</b>, that are like additional variables attached to that object. <b>For instance:</b> Every numpy.array type has a field that shows its dimensions. For instance, how many elements do X and Y have?"
   ]
  },
  {
   "cell_type": "code",
   "execution_count": 16,
   "metadata": {
    "collapsed": false
   },
   "outputs": [
    {
     "name": "stdout",
     "output_type": "stream",
     "text": [
      "(40,) (40,)\n"
     ]
    }
   ],
   "source": [
    "print X.shape, Y.shape"
   ]
  },
  {
   "cell_type": "markdown",
   "metadata": {},
   "source": [
    "This shows us that X and Y have only one dimension (i.e., are vectors) and each have 40 elements.\n",
    "\n",
    "Objects also have <b>methods</b>: functions that perform some task on the object itself. Since they are functions, you must call it using parenthesis to pass their arguments. <b>For instance:</b> Each numpy.array has a method called <i>mean()</i>, which naturally evaluates the average value of the elements in this vector. Let's give it a try!"
   ]
  },
  {
   "cell_type": "code",
   "execution_count": 17,
   "metadata": {
    "collapsed": false
   },
   "outputs": [
    {
     "name": "stdout",
     "output_type": "stream",
     "text": [
      "9.75\n",
      "0.0981738159879\n"
     ]
    }
   ],
   "source": [
    "print X.mean()\n",
    "print Y.mean()"
   ]
  },
  {
   "cell_type": "markdown",
   "metadata": {},
   "source": [
    "It is easy to check that these are the actual average values of the elements of each of our vectors.\n",
    "\n",
    "Evidently, we usually store values on a vectors or matrices because we want to plot them. <i>pylab</i> library can be used to quickly construct beautiful plots:"
   ]
  },
  {
   "cell_type": "code",
   "execution_count": 18,
   "metadata": {
    "collapsed": false
   },
   "outputs": [
    {
     "data": {
      "image/png": "[encoded data removed]",
      "text/plain": [
       "<matplotlib.figure.Figure at 0x7f67629cb190>"
      ]
     },
     "metadata": {},
     "output_type": "display_data"
    }
   ],
   "source": [
    "pl.plot(X, Y)\n",
    "pl.title('This is a title')\n",
    "pl.xlabel('X vector')\n",
    "pl.ylabel('Y vector')\n",
    "pl.show()"
   ]
  },
  {
   "cell_type": "markdown",
   "metadata": {},
   "source": [
    "Let's now style this plot a bit:"
   ]
  },
  {
   "cell_type": "code",
   "execution_count": 19,
   "metadata": {
    "collapsed": false
   },
   "outputs": [
    {
     "data": {
      "image/png": "[encoded data removed]",
      "text/plain": [
       "<matplotlib.figure.Figure at 0x7f6762c40c10>"
      ]
     },
     "metadata": {},
     "output_type": "display_data"
    }
   ],
   "source": [
    "pl.plot(X, Y, 'rs--')\n",
    "pl.show()"
   ]
  },
  {
   "cell_type": "markdown",
   "metadata": {},
   "source": [
    "The trick is in the 'rs--':\n",
    "\n",
    "* r stands for read. You can also use 'b' as blue, 'k' as black, and so on;\n",
    "* s means square. You can also use '.' for a dot, 'o' for circles, etc;\n",
    "* and '--' sets a dashed line. If you want a continuous line connecting the dots, simply use '-'. If you omit '--', you'll see only the points. \n",
    "\n",
    "You can check here more examples of how to style your plots:\n",
    "http://matplotlib.org/examples/pylab_examples/line_styles.html\n",
    "\n",
    "Let's calculate some propertis of Y."
   ]
  },
  {
   "cell_type": "code",
   "execution_count": 20,
   "metadata": {
    "collapsed": false
   },
   "outputs": [
    {
     "name": "stdout",
     "output_type": "stream",
     "text": [
      "Average value:  0.0981738159879\n",
      "Variance:  0.586172226151\n",
      "Stand. deviation:  0.765618851748\n",
      "Histogram:\n"
     ]
    },
    {
     "data": {
      "image/png": "[encoded data removed]",
      "text/plain": [
       "<matplotlib.figure.Figure at 0x7f67628fd550>"
      ]
     },
     "metadata": {},
     "output_type": "display_data"
    }
   ],
   "source": [
    "print 'Average value: ', Y.mean()\n",
    "print 'Variance: ', Y.var()\n",
    "print 'Stand. deviation: ', sqrt(Y.var())\n",
    "print 'Histogram:'\n",
    "pl.hist(Y, 50, normed=1, histtype='stepfilled');\n",
    "pl.show()"
   ]
  },
  {
   "cell_type": "markdown",
   "metadata": {},
   "source": [
    "Of course, the above histogram doesn't look good. This is simply due the poor sampling, however the method to construct histograms is that simple: a function from <i>pylab</i> library. In the next sections, we will use a known dataset and properly illustrate it again.\n",
    "\n",
    "You can use \\t to add tabs and line everything up. You can also use \\n as linebreak."
   ]
  },
  {
   "cell_type": "code",
   "execution_count": 21,
   "metadata": {
    "collapsed": false
   },
   "outputs": [
    {
     "name": "stdout",
     "output_type": "stream",
     "text": [
      "Average value: \t\t0.0981738159879\n",
      "Variance: \t\t0.586172226151\n",
      "Stand. deviation: \t0.765618851748\n"
     ]
    }
   ],
   "source": [
    "print 'Average value: \\t\\t', Y.mean()\n",
    "print 'Variance: \\t\\t', Y.var()\n",
    "print 'Stand. deviation: \\t', sqrt(Y.var())"
   ]
  },
  {
   "cell_type": "code",
   "execution_count": 22,
   "metadata": {
    "collapsed": false
   },
   "outputs": [
    {
     "name": "stdout",
     "output_type": "stream",
     "text": [
      "[-0.58864086  0.49596875]\n",
      "[-0.58864086  0.49596875 -0.47822746  1.09337724 -0.10421426]\n",
      "[-0.58864086  0.49596875 -0.47822746  1.09337724 -0.10421426 -0.40074705\n",
      "  0.25858911  0.49787258]\n"
     ]
    }
   ],
   "source": [
    "print Y[:2]\n",
    "print Y[:5]\n",
    "print Y[:8]"
   ]
  },
  {
   "cell_type": "code",
   "execution_count": 23,
   "metadata": {
    "collapsed": false
   },
   "outputs": [
    {
     "name": "stdout",
     "output_type": "stream",
     "text": [
      "Squared:  0.346498065971\n",
      "Squared:  0.24598499844\n",
      "Squared:  0.228701501748\n",
      "Squared:  1.19547378855\n",
      "Squared:  0.0108606109889\n"
     ]
    }
   ],
   "source": [
    "for y in Y[:5]:\n",
    "    print 'Squared: ', y**2"
   ]
  },
  {
   "cell_type": "markdown",
   "metadata": {},
   "source": [
    "# Functions"
   ]
  },
  {
   "cell_type": "markdown",
   "metadata": {},
   "source": [
    "We next introduce how you define a function. Suppose you want to define a Hill Function, which is readily\n",
    "\n",
    "$$F_{k,n}(x) = \\frac{1}{1+\\dfrac{k^n}{x^n}},$$\n",
    "\n",
    "where $k$ and $n$ are constants you can adjust to fit your data. In our specific case, $k$ is the concentration of ligand to which half of the binding sites are occupied.\n",
    "\n",
    "\n",
    "Functions are \"rules\" that take something as input, and return something (else) as output. See below a very simple function defined:"
   ]
  },
  {
   "cell_type": "code",
   "execution_count": 24,
   "metadata": {
    "collapsed": true
   },
   "outputs": [],
   "source": [
    "def f(x):\n",
    "    a = x + 1\n",
    "    return a"
   ]
  },
  {
   "cell_type": "code",
   "execution_count": 25,
   "metadata": {
    "collapsed": false
   },
   "outputs": [
    {
     "name": "stdout",
     "output_type": "stream",
     "text": [
      "2 3 4\n"
     ]
    }
   ],
   "source": [
    "print f(1), f(2), f(3)"
   ]
  },
  {
   "cell_type": "markdown",
   "metadata": {},
   "source": [
    "In our example above, x is our input, and the function returns x + 1. We call x the *argument* of our function f. Without x Python cannot evaluate f.\n",
    "\n",
    "Next, let's implement the Hill function."
   ]
  },
  {
   "cell_type": "code",
   "execution_count": 26,
   "metadata": {
    "collapsed": false
   },
   "outputs": [],
   "source": [
    "def Hill(X, K = 1.0, n = 2.0):\n",
    "    return 1./(1. + (K/X)**(n))"
   ]
  },
  {
   "cell_type": "markdown",
   "metadata": {},
   "source": [
    "As you can see, we have three arguments:\n",
    "* X - a number of an array with values where we want to evalute the Hill function\n",
    "* K, n - is the k in our above definition\n",
    "\n",
    "Notice that K and n are defined differently. Whenever you define an argument this way, you are telling Python that the *user does not need to explicitly define it*, and in this case those values should be used instead. Thus, we could call simply"
   ]
  },
  {
   "cell_type": "code",
   "execution_count": 27,
   "metadata": {
    "collapsed": false
   },
   "outputs": [
    {
     "data": {
      "text/plain": [
       "0.6923076923076923"
      ]
     },
     "execution_count": 27,
     "metadata": {},
     "output_type": "execute_result"
    }
   ],
   "source": [
    "Hill(1.5)"
   ]
  },
  {
   "cell_type": "markdown",
   "metadata": {},
   "source": [
    "The above command means we are evaluating our Hill function with X = 1.5, k = 1.0 and n = 2.0.\n",
    "\n",
    "It is **not possible** to omit X instead, since X does not have an standard value defined in the function definition. Thus, you should only implicitly define arguments that are not utterly necessary to the function (i.e., what we usually call *just parameters*)."
   ]
  },
  {
   "cell_type": "markdown",
   "metadata": {},
   "source": [
    "One extreme feature of numpy package is that we can actually perform calculations on several values at once. In the code below, we will provide Hill() with a vector X from numpy, and the function will be evaluated separately in each point. This could be especially useful in some occasions."
   ]
  },
  {
   "cell_type": "code",
   "execution_count": 28,
   "metadata": {
    "collapsed": false
   },
   "outputs": [
    {
     "name": "stdout",
     "output_type": "stream",
     "text": [
      "X:               [ 0.  1.  2.  3.  4.  5.]\n",
      "\n",
      "Result of Hill:  [ 0.          0.5         0.8         0.9         0.94117647  0.96153846]\n"
     ]
    }
   ],
   "source": [
    "X = np.arange(0.,5.1,1.0)\n",
    "print 'X:              ', X\n",
    "HX = Hill(X)\n",
    "print '\\nResult of Hill: ', HX"
   ]
  },
  {
   "cell_type": "markdown",
   "metadata": {},
   "source": [
    "You can try yourself and evaluate Hill() in some of the points of X and check if that is correct.\n",
    "\n",
    "Notice that we have used *np.arange* this time. This is the numpy's equivalent of range we have studied before!\n",
    "\n",
    "And plot it..."
   ]
  },
  {
   "cell_type": "code",
   "execution_count": 29,
   "metadata": {
    "collapsed": false
   },
   "outputs": [
    {
     "data": {
      "text/plain": [
       "[<matplotlib.lines.Line2D at 0x7f6762894350>]"
      ]
     },
     "execution_count": 29,
     "metadata": {},
     "output_type": "execute_result"
    },
    {
     "data": {
      "image/png": "[encoded data removed]",
      "text/plain": [
       "<matplotlib.figure.Figure at 0x7f6762888e90>"
      ]
     },
     "metadata": {},
     "output_type": "display_data"
    }
   ],
   "source": [
    "pl.plot(X, HX)"
   ]
  },
  {
   "cell_type": "markdown",
   "metadata": {},
   "source": [
    "To improve the quality of the curve (make it smoother), we can increase the number of points in X. Nevertheless, we don't want to change the interval. Therefore, we will only change the step from 1.0 to 0.1, ending up with ten times more points."
   ]
  },
  {
   "cell_type": "code",
   "execution_count": 30,
   "metadata": {
    "collapsed": false
   },
   "outputs": [
    {
     "data": {
      "text/plain": [
       "[<matplotlib.lines.Line2D at 0x7f6762888590>]"
      ]
     },
     "execution_count": 30,
     "metadata": {},
     "output_type": "execute_result"
    },
    {
     "data": {
      "image/png": "[encoded data removed]",
      "text/plain": [
       "<matplotlib.figure.Figure at 0x7f6762780950>"
      ]
     },
     "metadata": {},
     "output_type": "display_data"
    }
   ],
   "source": [
    "X = np.arange(0.,5.,0.1)\n",
    "pl.plot(X, Hill(X))"
   ]
  },
  {
   "cell_type": "markdown",
   "metadata": {},
   "source": [
    "You may experience an error: division by zero (0). That happens because in X we have a zero element, and it will try to evaluate the Hill function in zero. To avoid this, we will slightly change our function:"
   ]
  },
  {
   "cell_type": "code",
   "execution_count": 31,
   "metadata": {
    "collapsed": false
   },
   "outputs": [],
   "source": [
    "def Hill_complete(X, K = 1.0, n = 2.0):\n",
    "    XX = X\n",
    "    XX[ X == 0 ] = 1e-20\n",
    "    return 1./(1. + (K/XX)**(n))"
   ]
  },
  {
   "cell_type": "markdown",
   "metadata": {},
   "source": [
    "As you can see, whenever the argument is zero, we switched it by a very small real number. Since the function is continuous, it will \"look nice\" near zero."
   ]
  },
  {
   "cell_type": "code",
   "execution_count": 32,
   "metadata": {
    "collapsed": false
   },
   "outputs": [
    {
     "data": {
      "text/plain": [
       "[<matplotlib.lines.Line2D at 0x7f676271ec50>]"
      ]
     },
     "execution_count": 32,
     "metadata": {},
     "output_type": "execute_result"
    },
    {
     "data": {
      "image/png": "[encoded data removed]",
      "text/plain": [
       "<matplotlib.figure.Figure at 0x7f676261b250>"
      ]
     },
     "metadata": {},
     "output_type": "display_data"
    }
   ],
   "source": [
    "X = np.arange(0.,5.,0.1)\n",
    "pl.plot(X, Hill_complete(X, n=4.))"
   ]
  },
  {
   "cell_type": "markdown",
   "metadata": {},
   "source": [
    "### $K$ and $n$ parameters"
   ]
  },
  {
   "cell_type": "markdown",
   "metadata": {},
   "source": [
    "What exactly represent $K$ and $n$ parameters? Let's use our function to briefly investigate these two parameters and learn how to manipulate functions in Python.\n",
    "\n",
    "Let's start with $n$ below."
   ]
  },
  {
   "cell_type": "code",
   "execution_count": 33,
   "metadata": {
    "collapsed": true
   },
   "outputs": [],
   "source": [
    "# We start re-defining our x-axis\n",
    "X = np.arange(0.05,5.,0.01)"
   ]
  },
  {
   "cell_type": "code",
   "execution_count": 34,
   "metadata": {
    "collapsed": false
   },
   "outputs": [
    {
     "data": {
      "text/plain": [
       "(-0.1, 1.1)"
      ]
     },
     "execution_count": 34,
     "metadata": {},
     "output_type": "execute_result"
    },
    {
     "data": {
      "image/png": "[encoded data removed]",
      "text/plain": [
       "<matplotlib.figure.Figure at 0x7f6762548350>"
      ]
     },
     "metadata": {},
     "output_type": "display_data"
    }
   ],
   "source": [
    "for n in [0.25, 1.0, 3.0, 15.]:\n",
    "    pl.plot(X, Hill_complete(X, n=n))\n",
    "\n",
    "pl.ylim(-0.1,1.1)"
   ]
  },
  {
   "cell_type": "markdown",
   "metadata": {},
   "source": [
    "As you can see, as $n$ grows the the growth part of the curve becomes steeper and steeper. Depending on the context, this parameter is linked to the <i>cooperativity</i> among the parts being modeled. When $n\\to\\infty$, we will have a Heaviside step function, as shown below (with $n = 10^7$)."
   ]
  },
  {
   "cell_type": "code",
   "execution_count": 35,
   "metadata": {
    "collapsed": false
   },
   "outputs": [
    {
     "data": {
      "text/plain": [
       "(-0.1, 1.1)"
      ]
     },
     "execution_count": 35,
     "metadata": {},
     "output_type": "execute_result"
    },
    {
     "data": {
      "image/png": "[encoded data removed]",
      "text/plain": [
       "<matplotlib.figure.Figure at 0x7f67627c94d0>"
      ]
     },
     "metadata": {},
     "output_type": "display_data"
    }
   ],
   "source": [
    "pl.plot(X, Hill_complete(X, n=1000000.))\n",
    "pl.ylim(-0.1,1.1)"
   ]
  },
  {
   "cell_type": "markdown",
   "metadata": {},
   "source": [
    "Let's try changing $K$. In this context, $K$ means the concentration of the ligand where half of the binding sites are occupied."
   ]
  },
  {
   "cell_type": "code",
   "execution_count": 36,
   "metadata": {
    "collapsed": false
   },
   "outputs": [
    {
     "data": {
      "text/plain": [
       "(-0.1, 1.1)"
      ]
     },
     "execution_count": 36,
     "metadata": {},
     "output_type": "execute_result"
    },
    {
     "data": {
      "image/png": "[encoded data removed]",
      "text/plain": [
       "<matplotlib.figure.Figure at 0x7f6762934f50>"
      ]
     },
     "metadata": {},
     "output_type": "display_data"
    }
   ],
   "source": [
    "for k in [0.25, 0.5, 1.0, 2.0, 3.0, 4.0]:\n",
    "    pl.plot(X, Hill_complete(X, n=4., K=k))\n",
    "\n",
    "pl.ylim(-0.1,1.1)"
   ]
  },
  {
   "cell_type": "markdown",
   "metadata": {},
   "source": [
    "To understand it visually, we can show with a dashed line where $K$ is in the graph."
   ]
  },
  {
   "cell_type": "code",
   "execution_count": 37,
   "metadata": {
    "collapsed": false
   },
   "outputs": [
    {
     "data": {
      "text/plain": [
       "(-0.1, 1.1)"
      ]
     },
     "execution_count": 37,
     "metadata": {},
     "output_type": "execute_result"
    },
    {
     "data": {
      "image/png": "[encoded data removed]",
      "text/plain": [
       "<matplotlib.figure.Figure at 0x7f67628b4fd0>"
      ]
     },
     "metadata": {},
     "output_type": "display_data"
    }
   ],
   "source": [
    "for k in [0.25, 0.5, 1.0, 2.0, 3.0, 4.0]:\n",
    "    pl.plot(X, Hill_complete(X, n=4., K=k))\n",
    "    pl.plot([k,k], [-0.2, 1.2], '--', color=(0.5, 0.5, 0.5))\n",
    "\n",
    "pl.ylim(-0.1,1.1)"
   ]
  },
  {
   "cell_type": "markdown",
   "metadata": {},
   "source": [
    "## Inverse behavior"
   ]
  },
  {
   "cell_type": "markdown",
   "metadata": {},
   "source": [
    "Hill function is broadly used to represent gene expression when the promoter positively impacts the production of mRNA. However, there are promoters that inhibit the gene transcription. In this case, it is common to use the Hill Function, but inverting the variable:\n",
    "$$F_{k,n}(x) = \\frac{1}{1+\\dfrac{x^n}{k^n}}.$$\n",
    "To get more experience with Python programming, let's redefine our function to quickly inspect this new function."
   ]
  },
  {
   "cell_type": "code",
   "execution_count": 38,
   "metadata": {
    "collapsed": true
   },
   "outputs": [],
   "source": [
    "def repressorHill(X, K = 1.0, n = 2.0):\n",
    "    XX = X\n",
    "    XX[ X == 0 ] = 1e-20\n",
    "    return 1./(1. + (XX/K)**(n))"
   ]
  },
  {
   "cell_type": "code",
   "execution_count": 39,
   "metadata": {
    "collapsed": false
   },
   "outputs": [
    {
     "data": {
      "text/plain": [
       "(-0.1, 1.1)"
      ]
     },
     "execution_count": 39,
     "metadata": {},
     "output_type": "execute_result"
    },
    {
     "data": {
      "image/png": "[encoded data removed]",
      "text/plain": [
       "<matplotlib.figure.Figure at 0x7f676253e2d0>"
      ]
     },
     "metadata": {},
     "output_type": "display_data"
    }
   ],
   "source": [
    "X = np.arange(0.05,5.,0.01)\n",
    "pl.plot(X, repressorHill(X, n=2.))\n",
    "pl.ylim(-0.1,1.1)"
   ]
  },
  {
   "cell_type": "markdown",
   "metadata": {},
   "source": [
    "As you can see, this new function decreases with its argument smoothly. With $n\\to \\infty$, it becomes another step function, but with oposite behavior."
   ]
  },
  {
   "cell_type": "code",
   "execution_count": 40,
   "metadata": {
    "collapsed": false
   },
   "outputs": [
    {
     "data": {
      "text/plain": [
       "(-0.1, 1.1)"
      ]
     },
     "execution_count": 40,
     "metadata": {},
     "output_type": "execute_result"
    },
    {
     "data": {
      "image/png": "[encoded data removed]",
      "text/plain": [
       "<matplotlib.figure.Figure at 0x7f6762388e50>"
      ]
     },
     "metadata": {},
     "output_type": "display_data"
    }
   ],
   "source": [
    "for n in [0.25, 1.0, 3.0, 15.]:\n",
    "    pl.plot(X, repressorHill(X, n=n))\n",
    "\n",
    "pl.ylim(-0.1,1.1)"
   ]
  },
  {
   "cell_type": "code",
   "execution_count": 41,
   "metadata": {
    "collapsed": false
   },
   "outputs": [
    {
     "data": {
      "text/plain": [
       "(-0.1, 1.1)"
      ]
     },
     "execution_count": 41,
     "metadata": {},
     "output_type": "execute_result"
    },
    {
     "data": {
      "image/png": "[encoded data removed]",
      "text/plain": [
       "<matplotlib.figure.Figure at 0x7f67623935d0>"
      ]
     },
     "metadata": {},
     "output_type": "display_data"
    }
   ],
   "source": [
    "pl.plot(X, repressorHill(X, n=1000000.))\n",
    "pl.ylim(-0.1,1.1)"
   ]
  },
  {
   "cell_type": "markdown",
   "metadata": {},
   "source": [
    "As for the $K$ parameter, the same holds."
   ]
  },
  {
   "cell_type": "code",
   "execution_count": 42,
   "metadata": {
    "collapsed": false
   },
   "outputs": [
    {
     "data": {
      "text/plain": [
       "(-0.1, 1.1)"
      ]
     },
     "execution_count": 42,
     "metadata": {},
     "output_type": "execute_result"
    },
    {
     "data": {
      "image/png": "[encoded data removed]",
      "text/plain": [
       "<matplotlib.figure.Figure at 0x7f6762260a90>"
      ]
     },
     "metadata": {},
     "output_type": "display_data"
    }
   ],
   "source": [
    "for k in [0.25, 0.5, 1.0, 2.0, 3.0, 4.0]:\n",
    "    pl.plot(X, repressorHill(X, n=4., K=k))\n",
    "    pl.plot([k,k], [-0.2, 1.2], '--', color=(0.5, 0.5, 0.5))\n",
    "\n",
    "pl.ylim(-0.1,1.1)"
   ]
  },
  {
   "cell_type": "markdown",
   "metadata": {},
   "source": [
    "# Manipulating data sheets"
   ]
  },
  {
   "cell_type": "markdown",
   "metadata": {},
   "source": [
    "Next, we will create a DataFrame, which will store all data we want to work on for us. Since we often have large datasets, we don't want to print all dataset in the screen, but have a feeling of what's in a particular DataFrame. For this purpose, you can use the <i>head()</i> method as below. Then, python will only print the first 5 rows of your DataFrame."
   ]
  },
  {
   "cell_type": "code",
   "execution_count": 43,
   "metadata": {
    "collapsed": false
   },
   "outputs": [
    {
     "data": {
      "text/html": [
       "<div>\n",
       "<table border=\"1\" class=\"dataframe\">\n",
       "  <thead>\n",
       "    <tr style=\"text-align: right;\">\n",
       "      <th></th>\n",
       "      <th>K = 0.5</th>\n",
       "      <th>K = 1.0</th>\n",
       "      <th>K = 1.5</th>\n",
       "      <th>K = 2.0</th>\n",
       "    </tr>\n",
       "  </thead>\n",
       "  <tbody>\n",
       "    <tr>\n",
       "      <th>0</th>\n",
       "      <td>0.000100</td>\n",
       "      <td>0.000006</td>\n",
       "      <td>0.000001</td>\n",
       "      <td>1.600000e-07</td>\n",
       "    </tr>\n",
       "    <tr>\n",
       "      <th>1</th>\n",
       "      <td>0.000207</td>\n",
       "      <td>0.000013</td>\n",
       "      <td>0.000003</td>\n",
       "      <td>3.317759e-07</td>\n",
       "    </tr>\n",
       "    <tr>\n",
       "      <th>2</th>\n",
       "      <td>0.000384</td>\n",
       "      <td>0.000024</td>\n",
       "      <td>0.000005</td>\n",
       "      <td>6.146556e-07</td>\n",
       "    </tr>\n",
       "    <tr>\n",
       "      <th>3</th>\n",
       "      <td>0.000655</td>\n",
       "      <td>0.000041</td>\n",
       "      <td>0.000008</td>\n",
       "      <td>1.048575e-06</td>\n",
       "    </tr>\n",
       "    <tr>\n",
       "      <th>4</th>\n",
       "      <td>0.001049</td>\n",
       "      <td>0.000066</td>\n",
       "      <td>0.000013</td>\n",
       "      <td>1.679613e-06</td>\n",
       "    </tr>\n",
       "  </tbody>\n",
       "</table>\n",
       "</div>"
      ],
      "text/plain": [
       "    K = 0.5   K = 1.0   K = 1.5       K = 2.0\n",
       "0  0.000100  0.000006  0.000001  1.600000e-07\n",
       "1  0.000207  0.000013  0.000003  3.317759e-07\n",
       "2  0.000384  0.000024  0.000005  6.146556e-07\n",
       "3  0.000655  0.000041  0.000008  1.048575e-06\n",
       "4  0.001049  0.000066  0.000013  1.679613e-06"
      ]
     },
     "execution_count": 43,
     "metadata": {},
     "output_type": "execute_result"
    }
   ],
   "source": [
    "df = pd.DataFrame({\n",
    "        'K = 0.5' : Hill_complete(X, n=4., K=0.5), \n",
    "        'K = 1.0' : Hill_complete(X, n=4., K=1.0), \n",
    "        'K = 1.5' : Hill_complete(X, n=4., K=1.5),\n",
    "        'K = 2.0' : Hill_complete(X, n=4., K=2.5)\n",
    "    })\n",
    "\n",
    "df.head()"
   ]
  },
  {
   "cell_type": "markdown",
   "metadata": {},
   "source": [
    "We can easily plot "
   ]
  },
  {
   "cell_type": "code",
   "execution_count": 44,
   "metadata": {
    "collapsed": false
   },
   "outputs": [
    {
     "data": {
      "text/plain": [
       "<matplotlib.axes._subplots.AxesSubplot at 0x7f6762393090>"
      ]
     },
     "execution_count": 44,
     "metadata": {},
     "output_type": "execute_result"
    },
    {
     "data": {
      "image/png": "[encoded data removed]",
      "text/plain": [
       "<matplotlib.figure.Figure at 0x7f67623f7ed0>"
      ]
     },
     "metadata": {},
     "output_type": "display_data"
    }
   ],
   "source": [
    "df.plot()"
   ]
  },
  {
   "cell_type": "markdown",
   "metadata": {},
   "source": [
    "We see here the average value of each curve:"
   ]
  },
  {
   "cell_type": "code",
   "execution_count": 45,
   "metadata": {
    "collapsed": false
   },
   "outputs": [
    {
     "data": {
      "text/plain": [
       "K = 0.5    0.896931\n",
       "K = 1.0    0.785243\n",
       "K = 1.5    0.675235\n",
       "K = 2.0    0.468682\n",
       "dtype: float64"
      ]
     },
     "execution_count": 45,
     "metadata": {},
     "output_type": "execute_result"
    }
   ],
   "source": [
    "df.mean()"
   ]
  },
  {
   "cell_type": "markdown",
   "metadata": {},
   "source": [
    "We now evaluate the variance of each curve."
   ]
  },
  {
   "cell_type": "code",
   "execution_count": 46,
   "metadata": {
    "collapsed": false
   },
   "outputs": [
    {
     "data": {
      "text/plain": [
       "K = 0.5    0.064562\n",
       "K = 1.0    0.113308\n",
       "K = 1.5    0.138143\n",
       "K = 2.0    0.129073\n",
       "dtype: float64"
      ]
     },
     "execution_count": 46,
     "metadata": {},
     "output_type": "execute_result"
    }
   ],
   "source": [
    "df.var()"
   ]
  },
  {
   "cell_type": "markdown",
   "metadata": {},
   "source": [
    "Exporting to CSV (excell compatiable)."
   ]
  },
  {
   "cell_type": "code",
   "execution_count": 47,
   "metadata": {
    "collapsed": true
   },
   "outputs": [],
   "source": [
    "df.to_csv('Test.csv')"
   ]
  },
  {
   "cell_type": "markdown",
   "metadata": {},
   "source": [
    "You can now check if a Test.csv file was saved. If you have LibreOffice Calc (or its equivalent MS Excel) you'll be able to see our data in the form of a excel. This could be a powerful way to export your data and share it with collaborators.\n",
    "\n",
    "Although Pandas has a lot more to offer, especially in terms of data analysis, let's stop here. Try and download this notebook, play with it and make sure these first concepts are well understood first."
   ]
  },
  {
   "cell_type": "markdown",
   "metadata": {},
   "source": [
    " "
   ]
  }
 ],
 "metadata": {
  "kernelspec": {
   "display_name": "Python 2",
   "language": "python",
   "name": "python2"
  },
  "language_info": {
   "codemirror_mode": {
    "name": "ipython",
    "version": 2
   },
   "file_extension": ".py",
   "mimetype": "text/x-python",
   "name": "python",
   "nbconvert_exporter": "python",
   "pygments_lexer": "ipython2",
   "version": "2.7.10"
  }
 },
 "nbformat": 4,
 "nbformat_minor": 0
}
