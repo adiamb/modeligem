{
 "cells": [
  {
   "cell_type": "markdown",
   "metadata": {},
   "source": [
    "# First steps with Python"
   ]
  },
  {
   "cell_type": "markdown",
   "metadata": {},
   "source": [
    "In this example, we showcase iPython Notebook as a suitable solution for modeling and data analysis in Synthetic Biology. This will be a super-fast introduction to the language and major points in order to get anyone started with their own projects. \n",
    "\n",
    "This is intended as a suplementary material for iGEM competition. You can contact our team (Team USP Brazil) if you would like a live demonstration!! If needed, the following references might be useful:\n",
    "\n",
    "* Learning Python, by Mark Lutz (O'Reily, 2013)"
   ]
  },
  {
   "cell_type": "markdown",
   "metadata": {},
   "source": [
    "# Hello world"
   ]
  },
  {
   "cell_type": "markdown",
   "metadata": {},
   "source": [
    "In every programming language, the \"hello world\" program/script is usually a small piece of code that shows how to implement a simple program that prints on the screen \"Hello world\". This is a common way to get a first glimpse of the how the langauge you're planning to learn looks like."
   ]
  },
  {
   "cell_type": "code",
   "execution_count": 1,
   "metadata": {
    "collapsed": false
   },
   "outputs": [
    {
     "name": "stdout",
     "output_type": "stream",
     "text": [
      "Hello world\n"
     ]
    }
   ],
   "source": [
    "print 'Hello world'"
   ]
  },
  {
   "cell_type": "markdown",
   "metadata": {},
   "source": [
    "As you can see, whenever you want to print anything on your screen, simply use \"print\" keyword.\n",
    "\n",
    "<i>Disclaimer:</i> in case of error here, check whether you are using Python3 instead of Python2. In Python3, print is a function and should be called like <i>print('Hellow world')</i> instead."
   ]
  },
  {
   "cell_type": "markdown",
   "metadata": {},
   "source": [
    "# Importing libraries"
   ]
  },
  {
   "cell_type": "markdown",
   "metadata": {},
   "source": [
    "To import packages or libraries, simply use <i>import</i> keyword. For simplicity, you can create an alias to that library name using <i>as</i> keyword. Bellow a few examples.\n",
    "\n",
    "Plotting:"
   ]
  },
  {
   "cell_type": "code",
   "execution_count": 2,
   "metadata": {
    "collapsed": true
   },
   "outputs": [],
   "source": [
    "%matplotlib inline\n",
    "import pylab as pl"
   ]
  },
  {
   "cell_type": "markdown",
   "metadata": {},
   "source": [
    "Fast numerical calculations:"
   ]
  },
  {
   "cell_type": "code",
   "execution_count": 3,
   "metadata": {
    "collapsed": false
   },
   "outputs": [],
   "source": [
    "from math import *\n",
    "import numpy as np"
   ]
  },
  {
   "cell_type": "markdown",
   "metadata": {},
   "source": [
    "Pretty data sheets:"
   ]
  },
  {
   "cell_type": "code",
   "execution_count": 4,
   "metadata": {
    "collapsed": false
   },
   "outputs": [],
   "source": [
    "import pandas as pd"
   ]
  },
  {
   "cell_type": "markdown",
   "metadata": {},
   "source": [
    "In case you experience errors in the previous commands, simply try to install the packages we are trying to call. Under windows, you can use Anaconda package manager for this purpose.\n",
    "\n",
    "In most linux systems software managers, python packages are usually named <i>python-[PACKAGE-NAME]</i>. For instance, <i>numpy</i> is usually <i>pyhon-numpy</i>."
   ]
  },
  {
   "cell_type": "markdown",
   "metadata": {},
   "source": [
    "# First steps"
   ]
  },
  {
   "cell_type": "markdown",
   "metadata": {},
   "source": [
    "Example of creating an variable:"
   ]
  },
  {
   "cell_type": "code",
   "execution_count": 5,
   "metadata": {
    "collapsed": false
   },
   "outputs": [
    {
     "name": "stdout",
     "output_type": "stream",
     "text": [
      "3\n"
     ]
    }
   ],
   "source": [
    "X = 1\n",
    "Y = 2\n",
    "Z = X + Y\n",
    "print Z"
   ]
  },
  {
   "cell_type": "markdown",
   "metadata": {},
   "source": [
    "We can create similarly lists of variables:"
   ]
  },
  {
   "cell_type": "code",
   "execution_count": 6,
   "metadata": {
    "collapsed": false
   },
   "outputs": [
    {
     "name": "stdout",
     "output_type": "stream",
     "text": [
      "[1, 2, 3, 4]\n",
      "[1, 2, 3, 4, 4.2, 5.6, 6, 7]\n"
     ]
    }
   ],
   "source": [
    "X = [1,2,3,4]\n",
    "Y = [4.2,5.6,6,7]\n",
    "print X\n",
    "print X+Y"
   ]
  },
  {
   "cell_type": "markdown",
   "metadata": {},
   "source": [
    "Did you notice anything strange? Yep, X+Y is not the sum of the \"vectors\" X and Y, but the <b>concatenation</b> (juxtaposition). That is because lists are not vecotrs:"
   ]
  },
  {
   "cell_type": "code",
   "execution_count": 7,
   "metadata": {
    "collapsed": false
   },
   "outputs": [
    {
     "data": {
      "text/plain": [
       "list"
      ]
     },
     "execution_count": 7,
     "metadata": {},
     "output_type": "execute_result"
    }
   ],
   "source": [
    "type(X)"
   ]
  },
  {
   "cell_type": "markdown",
   "metadata": {},
   "source": [
    "In a moment, we'll get to \"vectors\".\n",
    "\n",
    "There are however more efficient ways to create and manipulate arrays. For instance, to create and array that starts at 3 and goes up to 10, you can use <i>range</i> function."
   ]
  },
  {
   "cell_type": "code",
   "execution_count": 8,
   "metadata": {
    "collapsed": false
   },
   "outputs": [
    {
     "data": {
      "text/plain": [
       "[3, 4, 5, 6, 7, 8, 9, 10]"
      ]
     },
     "execution_count": 8,
     "metadata": {},
     "output_type": "execute_result"
    }
   ],
   "source": [
    "range(3, 10+1)"
   ]
  },
  {
   "cell_type": "markdown",
   "metadata": {},
   "source": [
    "Notice that we used 10+1 instead of 10 in <i>range</i>.\n",
    "\n",
    "To manipulate vectors, arrays and matrices, you should use numpy. It efficiently implements all matrix operations for you and has an easy-to-understand interface.\n",
    "\n",
    "Check below how we create a vector from 0 to 20, with an interval of 0.5."
   ]
  },
  {
   "cell_type": "code",
   "execution_count": 9,
   "metadata": {
    "collapsed": false
   },
   "outputs": [
    {
     "name": "stdout",
     "output_type": "stream",
     "text": [
      "Type of X:  <type 'numpy.ndarray'>\n",
      "[  0.    0.5   1.    1.5   2.    2.5   3.    3.5   4.    4.5   5.    5.5\n",
      "   6.    6.5   7.    7.5   8.    8.5   9.    9.5  10.   10.5  11.   11.5\n",
      "  12.   12.5  13.   13.5  14.   14.5  15.   15.5  16.   16.5  17.   17.5\n",
      "  18.   18.5  19.   19.5]\n"
     ]
    }
   ],
   "source": [
    "X = np.arange(0.,20.,0.5)\n",
    "print 'Type of X: ', type(X)\n",
    "print X"
   ]
  },
  {
   "cell_type": "markdown",
   "metadata": {},
   "source": [
    "Notice that we are calling the function np.arange to create this vector (whose type is something different than a list). The actual function is called <i>arange</i>, while <i>np</i> is actually telling Python that this function should be inside numpy library (whose alias is <i>np</i>). \n",
    "\n",
    "We can also create vectors filled with (pseudo) random numbers, distributed under virtually any probability distribution. Let's use a normal distribution and draw 20/0.5 = 40 random numbers. To do so, we will call <i>random.standard_normal</i> from numpy:"
   ]
  },
  {
   "cell_type": "code",
   "execution_count": 10,
   "metadata": {
    "collapsed": false
   },
   "outputs": [
    {
     "name": "stdout",
     "output_type": "stream",
     "text": [
      "[-0.39468921 -0.06118093  0.3529008  -0.61652296  0.5338401  -1.74906193\n",
      " -0.63994231 -0.3183167  -0.92439256 -0.49317661  0.5136185  -0.04224558\n",
      " -2.35544311 -0.79587783  0.62496679 -0.25055317 -1.81597025  1.58121886\n",
      " -1.08994459  0.47865248  0.95632292  0.47763132  0.50399733  0.0084841\n",
      " -0.69519021 -0.21327215  1.10131645  0.40968492  0.46375811  0.52450706\n",
      " -0.51236311  0.59395476 -0.40344756 -1.27756109 -2.35559685 -0.33831538\n",
      "  1.22561658  0.8704694  -0.92284817 -0.64625971]\n"
     ]
    }
   ],
   "source": [
    "Y = np.random.standard_normal(40)\n",
    "print Y"
   ]
  },
  {
   "cell_type": "markdown",
   "metadata": {},
   "source": [
    "Whenever you create variables, in Python they are understood as objects (as in Object-Oriented languages). In particular, objects have something called <b>fields</b>, that are like additional variables attached to that object. <b>For instance:</b> Every numpy.array type has a field that shows its dimensions. For instance, how many elements do X and Y have?"
   ]
  },
  {
   "cell_type": "code",
   "execution_count": 11,
   "metadata": {
    "collapsed": false
   },
   "outputs": [
    {
     "name": "stdout",
     "output_type": "stream",
     "text": [
      "(40,) (40,)\n"
     ]
    }
   ],
   "source": [
    "print X.shape, Y.shape"
   ]
  },
  {
   "cell_type": "markdown",
   "metadata": {},
   "source": [
    "This shows us that X and Y have only one dimension (i.e., are vectors) and each have 40 elements.\n",
    "\n",
    "Objects also have <b>methods</b>: functions that perform some task on the object itself. Since they are functions, you must call it using parenthesis to pass their arguments. <b>For instance:</b> Each numpy.array has a method called <i>mean()</i>, which naturally evaluates the average value of the elements in this vector. Let's give it a try!"
   ]
  },
  {
   "cell_type": "code",
   "execution_count": 12,
   "metadata": {
    "collapsed": false
   },
   "outputs": [
    {
     "name": "stdout",
     "output_type": "stream",
     "text": [
      "9.75\n",
      "-0.192280786765\n"
     ]
    }
   ],
   "source": [
    "print X.mean()\n",
    "print Y.mean()"
   ]
  },
  {
   "cell_type": "markdown",
   "metadata": {},
   "source": [
    "It is easy to check that these are the actual average values of the elements of each of our vectors.\n",
    "\n",
    "Evidently, we usually store values on a vectors or matrices because we want to plot them. <i>pylab</i> library can be used to quickly construct beautiful plots:"
   ]
  },
  {
   "cell_type": "code",
   "execution_count": 13,
   "metadata": {
    "collapsed": false
   },
   "outputs": [
    {
     "data": {
      "image/png": "[encoded data removed]",
      "text/plain": [
       "<matplotlib.figure.Figure at 0x7ff28de8b250>"
      ]
     },
     "metadata": {},
     "output_type": "display_data"
    }
   ],
   "source": [
    "pl.plot(X, Y)\n",
    "pl.title('This is a title')\n",
    "pl.xlabel('X vector')\n",
    "pl.ylabel('Y vector')\n",
    "pl.show()"
   ]
  },
  {
   "cell_type": "markdown",
   "metadata": {},
   "source": [
    "Let's calculate some propertis of Y."
   ]
  },
  {
   "cell_type": "code",
   "execution_count": 14,
   "metadata": {
    "collapsed": false
   },
   "outputs": [
    {
     "name": "stdout",
     "output_type": "stream",
     "text": [
      "Average value:  -0.192280786765\n",
      "Variance:  0.841319454578\n",
      "Stand. deviation:  0.917234678028\n",
      "Histogram:\n"
     ]
    },
    {
     "data": {
      "image/png": "[encoded data removed]",
      "text/plain": [
       "<matplotlib.figure.Figure at 0x7ff28dde4990>"
      ]
     },
     "metadata": {},
     "output_type": "display_data"
    }
   ],
   "source": [
    "print 'Average value: ', Y.mean()\n",
    "print 'Variance: ', Y.var()\n",
    "print 'Stand. deviation: ', sqrt(Y.var())\n",
    "print 'Histogram:'\n",
    "pl.hist(Y, 50, normed=1, histtype='stepfilled');\n",
    "pl.show()"
   ]
  },
  {
   "cell_type": "markdown",
   "metadata": {},
   "source": [
    "Of course, the above histogram doesn't look good. This is simply due the poor sampling, however the method to construct histograms is that simple: a function from <i>pylab</i> library. In the next sections, we will use a known dataset and properly illustrate it again.\n",
    "\n",
    "You can use \\t to add tabs and line everything up. You can also use \\n as linebreak."
   ]
  },
  {
   "cell_type": "code",
   "execution_count": 15,
   "metadata": {
    "collapsed": false
   },
   "outputs": [
    {
     "name": "stdout",
     "output_type": "stream",
     "text": [
      "Average value: \t\t-0.192280786765\n",
      "Variance: \t\t0.841319454578\n",
      "Stand. deviation: \t0.917234678028\n"
     ]
    }
   ],
   "source": [
    "print 'Average value: \\t\\t', Y.mean()\n",
    "print 'Variance: \\t\\t', Y.var()\n",
    "print 'Stand. deviation: \\t', sqrt(Y.var())"
   ]
  },
  {
   "cell_type": "code",
   "execution_count": 16,
   "metadata": {
    "collapsed": false
   },
   "outputs": [
    {
     "name": "stdout",
     "output_type": "stream",
     "text": [
      "[-0.39468921 -0.06118093]\n",
      "[-0.39468921 -0.06118093  0.3529008  -0.61652296  0.5338401 ]\n",
      "[-0.39468921 -0.06118093  0.3529008  -0.61652296  0.5338401  -1.74906193\n",
      " -0.63994231 -0.3183167 ]\n"
     ]
    }
   ],
   "source": [
    "print Y[:2]\n",
    "print Y[:5]\n",
    "print Y[:8]"
   ]
  },
  {
   "cell_type": "code",
   "execution_count": 17,
   "metadata": {
    "collapsed": false
   },
   "outputs": [
    {
     "name": "stdout",
     "output_type": "stream",
     "text": [
      "Squared:  0.155779571584\n",
      "Squared:  0.00374310569401\n",
      "Squared:  0.124538974856\n",
      "Squared:  0.380100558988\n",
      "Squared:  0.284985247216\n"
     ]
    }
   ],
   "source": [
    "for y in Y[:5]:\n",
    "    print 'Squared: ', y**2"
   ]
  },
  {
   "cell_type": "markdown",
   "metadata": {},
   "source": [
    "# Functions"
   ]
  },
  {
   "cell_type": "markdown",
   "metadata": {},
   "source": [
    "We next introduce how you define a function. Suppose you want to define a Hill Function, which is readily\n",
    "$$F_{k,n}(x) = \\frac{1}{1+\\dfrac{k^n}{x^n}},$$\n",
    "where $k$ and $n$ are constants you can adjust to fit your data."
   ]
  },
  {
   "cell_type": "code",
   "execution_count": 18,
   "metadata": {
    "collapsed": false
   },
   "outputs": [],
   "source": [
    "def Hill(X, K = 1.0, n = 2.0):\n",
    "    return 1./(1. + (K/X)**(n))"
   ]
  },
  {
   "cell_type": "markdown",
   "metadata": {},
   "source": [
    "As you can see, we have three arguments:\n",
    "* X - a number of an array with values where we want to evalute the Hill function\n",
    "* K, n - is the k in our above definition\n",
    "\n",
    "Notice that K and n are defined differently. "
   ]
  },
  {
   "cell_type": "markdown",
   "metadata": {},
   "source": [
    "We can then calculate it on some values..."
   ]
  },
  {
   "cell_type": "code",
   "execution_count": 19,
   "metadata": {
    "collapsed": false
   },
   "outputs": [
    {
     "name": "stdout",
     "output_type": "stream",
     "text": [
      "[ 0.          0.5         0.8         0.9         0.94117647  0.96153846\n",
      "  0.97297297  0.98        0.98461538  0.98780488]\n"
     ]
    }
   ],
   "source": [
    "X = np.arange(0.,10.,1.0)\n",
    "HX = Hill(X)\n",
    "print HX"
   ]
  },
  {
   "cell_type": "markdown",
   "metadata": {},
   "source": [
    "And plot it..."
   ]
  },
  {
   "cell_type": "code",
   "execution_count": 20,
   "metadata": {
    "collapsed": false
   },
   "outputs": [
    {
     "data": {
      "text/plain": [
       "[<matplotlib.lines.Line2D at 0x7ff28e104a90>]"
      ]
     },
     "execution_count": 20,
     "metadata": {},
     "output_type": "execute_result"
    },
    {
     "data": {
      "image/png": "[encoded data removed]",
      "text/plain": [
       "<matplotlib.figure.Figure at 0x7ff28dded090>"
      ]
     },
     "metadata": {},
     "output_type": "display_data"
    }
   ],
   "source": [
    "pl.plot(X, HX)"
   ]
  },
  {
   "cell_type": "markdown",
   "metadata": {},
   "source": [
    "To improve the quality of the curve (make it more smooth), we can increase the number of points in X. Nevertheless, we don't want to change the interval. Therefore, we will only change the step from 1.0 to 0.1, ending up with ten times more points."
   ]
  },
  {
   "cell_type": "code",
   "execution_count": 21,
   "metadata": {
    "collapsed": false
   },
   "outputs": [
    {
     "data": {
      "text/plain": [
       "[<matplotlib.lines.Line2D at 0x7ff28e104f50>]"
      ]
     },
     "execution_count": 21,
     "metadata": {},
     "output_type": "execute_result"
    },
    {
     "data": {
      "image/png": "[encoded data removed]",
      "text/plain": [
       "<matplotlib.figure.Figure at 0x7ff28dc99c50>"
      ]
     },
     "metadata": {},
     "output_type": "display_data"
    }
   ],
   "source": [
    "X = np.arange(0.,5.,0.1)\n",
    "pl.plot(X, Hill(X, n=4.))"
   ]
  },
  {
   "cell_type": "markdown",
   "metadata": {},
   "source": [
    "You may experience an error: division by zero (0). That happens because in X we have a zero element, and it will try to evaluate the Hill function in zero. To avoid this, we will slightly change our function:"
   ]
  },
  {
   "cell_type": "code",
   "execution_count": 22,
   "metadata": {
    "collapsed": false
   },
   "outputs": [],
   "source": [
    "def Hill_complete(X, K = 1.0, n = 2.0):\n",
    "    XX = X\n",
    "    XX[ X == 0 ] = 1e-20\n",
    "    return 1./(1. + (K/XX)**(n))"
   ]
  },
  {
   "cell_type": "markdown",
   "metadata": {},
   "source": [
    "As you can see, whenever the argument is zero, we switched it by a very small real number. Since the function is continuous, it will \"look nice\" near zero."
   ]
  },
  {
   "cell_type": "code",
   "execution_count": 23,
   "metadata": {
    "collapsed": false
   },
   "outputs": [
    {
     "data": {
      "text/plain": [
       "[<matplotlib.lines.Line2D at 0x7ff28dc0cd50>]"
      ]
     },
     "execution_count": 23,
     "metadata": {},
     "output_type": "execute_result"
    },
    {
     "data": {
      "image/png": "[encoded data removed]",
      "text/plain": [
       "<matplotlib.figure.Figure at 0x7ff28dbe5590>"
      ]
     },
     "metadata": {},
     "output_type": "display_data"
    }
   ],
   "source": [
    "X = np.arange(0.,5.,0.1)\n",
    "pl.plot(X, Hill_complete(X, n=4.))"
   ]
  },
  {
   "cell_type": "markdown",
   "metadata": {},
   "source": [
    "### $K$ and $n$ parameters"
   ]
  },
  {
   "cell_type": "markdown",
   "metadata": {},
   "source": [
    "What exactly represent $K$ and $n$ parameters? Let's use our function to briefly investigate these two parameters and learn how to manipulate functions in Python.\n",
    "\n",
    "Let's start with $n$ below."
   ]
  },
  {
   "cell_type": "code",
   "execution_count": 24,
   "metadata": {
    "collapsed": true
   },
   "outputs": [],
   "source": [
    "# We start re-defining our x-axis\n",
    "X = np.arange(0.05,5.,0.01)"
   ]
  },
  {
   "cell_type": "code",
   "execution_count": 25,
   "metadata": {
    "collapsed": false
   },
   "outputs": [
    {
     "data": {
      "text/plain": [
       "(-0.1, 1.1)"
      ]
     },
     "execution_count": 25,
     "metadata": {},
     "output_type": "execute_result"
    },
    {
     "data": {
      "image/png": "[encoded data removed]",
      "text/plain": [
       "<matplotlib.figure.Figure at 0x7ff28daf0290>"
      ]
     },
     "metadata": {},
     "output_type": "display_data"
    }
   ],
   "source": [
    "for n in [0.25, 1.0, 3.0, 15.]:\n",
    "    pl.plot(X, Hill_complete(X, n=n))\n",
    "\n",
    "pl.ylim(-0.1,1.1)"
   ]
  },
  {
   "cell_type": "markdown",
   "metadata": {},
   "source": [
    "As you can see, as $n$ grows the the growth part of the curve becomes steeper and steeper. Depending on the context, this parameter is linked to the <i>cooperativity</i> among the parts being modeled. When $n\\to\\infty$, we will have a Heaviside step function, as shown below (with $n = 10^7$)."
   ]
  },
  {
   "cell_type": "code",
   "execution_count": 26,
   "metadata": {
    "collapsed": false
   },
   "outputs": [
    {
     "data": {
      "text/plain": [
       "(-0.1, 1.1)"
      ]
     },
     "execution_count": 26,
     "metadata": {},
     "output_type": "execute_result"
    },
    {
     "data": {
      "image/png": "[encoded data removed]",
      "text/plain": [
       "<matplotlib.figure.Figure at 0x7ff28dabacd0>"
      ]
     },
     "metadata": {},
     "output_type": "display_data"
    }
   ],
   "source": [
    "pl.plot(X, Hill_complete(X, n=1000000.))\n",
    "pl.ylim(-0.1,1.1)"
   ]
  },
  {
   "cell_type": "markdown",
   "metadata": {},
   "source": [
    "Let's try changing $K$. In this context, $K$ means the concentration of the ligand where half of the binding sites are occupied."
   ]
  },
  {
   "cell_type": "code",
   "execution_count": 27,
   "metadata": {
    "collapsed": false
   },
   "outputs": [
    {
     "data": {
      "text/plain": [
       "(-0.1, 1.1)"
      ]
     },
     "execution_count": 27,
     "metadata": {},
     "output_type": "execute_result"
    },
    {
     "data": {
      "image/png": "[encoded data removed]",
      "text/plain": [
       "<matplotlib.figure.Figure at 0x7ff28da43410>"
      ]
     },
     "metadata": {},
     "output_type": "display_data"
    }
   ],
   "source": [
    "for k in [0.25, 0.5, 1.0, 2.0, 3.0, 4.0]:\n",
    "    pl.plot(X, Hill_complete(X, n=4., K=k))\n",
    "\n",
    "pl.ylim(-0.1,1.1)"
   ]
  },
  {
   "cell_type": "markdown",
   "metadata": {},
   "source": [
    "To understand it visually, we can show with a dashed line where $K$ is in the graph."
   ]
  },
  {
   "cell_type": "code",
   "execution_count": 28,
   "metadata": {
    "collapsed": false
   },
   "outputs": [
    {
     "data": {
      "text/plain": [
       "(-0.1, 1.1)"
      ]
     },
     "execution_count": 28,
     "metadata": {},
     "output_type": "execute_result"
    },
    {
     "data": {
      "image/png": "[encoded data removed]",
      "text/plain": [
       "<matplotlib.figure.Figure at 0x7ff28ddf6590>"
      ]
     },
     "metadata": {},
     "output_type": "display_data"
    }
   ],
   "source": [
    "for k in [0.25, 0.5, 1.0, 2.0, 3.0, 4.0]:\n",
    "    pl.plot(X, Hill_complete(X, n=4., K=k))\n",
    "    pl.plot([k,k], [-0.2, 1.2], '--', color=(0.5, 0.5, 0.5))\n",
    "\n",
    "pl.ylim(-0.1,1.1)"
   ]
  },
  {
   "cell_type": "markdown",
   "metadata": {},
   "source": [
    "## Inverse behavior"
   ]
  },
  {
   "cell_type": "markdown",
   "metadata": {},
   "source": [
    "Hill function is broadly used to represent gene expression when the promoter positively impacts the production of mRNA. However, there are promoters that inhibit the gene transcription. In this case, it is common to use the Hill Function, but inverting the variable:\n",
    "$$F_{k,n}(x) = \\frac{1}{1+\\dfrac{x^n}{k^n}}.$$\n",
    "To get more experience with Python programming, let's redefine our function to quickly inspect this new function."
   ]
  },
  {
   "cell_type": "code",
   "execution_count": 29,
   "metadata": {
    "collapsed": true
   },
   "outputs": [],
   "source": [
    "def repressorHill(X, K = 1.0, n = 2.0):\n",
    "    XX = X\n",
    "    XX[ X == 0 ] = 1e-20\n",
    "    return 1./(1. + (XX/K)**(n))"
   ]
  },
  {
   "cell_type": "code",
   "execution_count": 31,
   "metadata": {
    "collapsed": false
   },
   "outputs": [
    {
     "data": {
      "text/plain": [
       "(-0.1, 1.1)"
      ]
     },
     "execution_count": 31,
     "metadata": {},
     "output_type": "execute_result"
    },
    {
     "data": {
      "image/png": "[encoded data removed]",
      "text/plain": [
       "<matplotlib.figure.Figure at 0x7ff28da7c050>"
      ]
     },
     "metadata": {},
     "output_type": "display_data"
    }
   ],
   "source": [
    "X = np.arange(0.05,5.,0.01)\n",
    "pl.plot(X, repressorHill(X, n=2.))\n",
    "pl.ylim(-0.1,1.1)"
   ]
  },
  {
   "cell_type": "markdown",
   "metadata": {},
   "source": [
    "As you can see, this new function decreases with its argument smoothly. With $n\\to \\infty$, it becomes another step function, but with oposite behavior."
   ]
  },
  {
   "cell_type": "code",
   "execution_count": 30,
   "metadata": {
    "collapsed": false
   },
   "outputs": [
    {
     "data": {
      "text/plain": [
       "(-0.1, 1.1)"
      ]
     },
     "execution_count": 30,
     "metadata": {},
     "output_type": "execute_result"
    },
    {
     "data": {
      "image/png": "[encoded data removed]",
      "text/plain": [
       "<matplotlib.figure.Figure at 0x7ff28dac2890>"
      ]
     },
     "metadata": {},
     "output_type": "display_data"
    }
   ],
   "source": [
    "for n in [0.25, 1.0, 3.0, 15.]:\n",
    "    pl.plot(X, repressorHill(X, n=n))\n",
    "\n",
    "pl.ylim(-0.1,1.1)"
   ]
  },
  {
   "cell_type": "code",
   "execution_count": 33,
   "metadata": {
    "collapsed": false
   },
   "outputs": [
    {
     "data": {
      "text/plain": [
       "(-0.1, 1.1)"
      ]
     },
     "execution_count": 33,
     "metadata": {},
     "output_type": "execute_result"
    },
    {
     "data": {
      "image/png": "[encoded data removed]",
      "text/plain": [
       "<matplotlib.figure.Figure at 0x7ff28d7917d0>"
      ]
     },
     "metadata": {},
     "output_type": "display_data"
    }
   ],
   "source": [
    "pl.plot(X, repressorHill(X, n=1000000.))\n",
    "pl.ylim(-0.1,1.1)"
   ]
  },
  {
   "cell_type": "markdown",
   "metadata": {},
   "source": [
    "As for the $K$ parameter, the same holds."
   ]
  },
  {
   "cell_type": "code",
   "execution_count": 35,
   "metadata": {
    "collapsed": false
   },
   "outputs": [
    {
     "data": {
      "text/plain": [
       "(-0.1, 1.1)"
      ]
     },
     "execution_count": 35,
     "metadata": {},
     "output_type": "execute_result"
    },
    {
     "data": {
      "image/png": "[encoded data removed]",
      "text/plain": [
       "<matplotlib.figure.Figure at 0x7ff28d6f8690>"
      ]
     },
     "metadata": {},
     "output_type": "display_data"
    }
   ],
   "source": [
    "for k in [0.25, 0.5, 1.0, 2.0, 3.0, 4.0]:\n",
    "    pl.plot(X, repressorHill(X, n=4., K=k))\n",
    "    pl.plot([k,k], [-0.2, 1.2], '--', color=(0.5, 0.5, 0.5))\n",
    "\n",
    "pl.ylim(-0.1,1.1)"
   ]
  },
  {
   "cell_type": "markdown",
   "metadata": {},
   "source": [
    "# Manipulating data sheets"
   ]
  },
  {
   "cell_type": "markdown",
   "metadata": {},
   "source": [
    "Next, we will create a DataFrame, which will store all data we want to work on for us. Since we often have large datasets, we don't want to print all dataset in the screen, but have a feeling of what's in a particular DataFrame. For this purpose, you can use the <i>head()</i> method as below. Then, python will only print the first 5 rows of your DataFrame."
   ]
  },
  {
   "cell_type": "code",
   "execution_count": 236,
   "metadata": {
    "collapsed": false
   },
   "outputs": [
    {
     "data": {
      "text/html": [
       "<div>\n",
       "<table border=\"1\" class=\"dataframe\">\n",
       "  <thead>\n",
       "    <tr style=\"text-align: right;\">\n",
       "      <th></th>\n",
       "      <th>K = 0.5</th>\n",
       "      <th>K = 1.0</th>\n",
       "      <th>K = 1.5</th>\n",
       "      <th>K = 2.0</th>\n",
       "    </tr>\n",
       "  </thead>\n",
       "  <tbody>\n",
       "    <tr>\n",
       "      <th>0</th>\n",
       "      <td>1.600000e-79</td>\n",
       "      <td>1.000000e-80</td>\n",
       "      <td>1.975309e-81</td>\n",
       "      <td>2.560000e-82</td>\n",
       "    </tr>\n",
       "    <tr>\n",
       "      <th>1</th>\n",
       "      <td>9.999000e-05</td>\n",
       "      <td>6.249961e-06</td>\n",
       "      <td>1.234566e-06</td>\n",
       "      <td>1.600000e-07</td>\n",
       "    </tr>\n",
       "    <tr>\n",
       "      <th>2</th>\n",
       "      <td>1.597444e-03</td>\n",
       "      <td>9.999000e-05</td>\n",
       "      <td>1.975270e-05</td>\n",
       "      <td>2.559993e-06</td>\n",
       "    </tr>\n",
       "    <tr>\n",
       "      <th>3</th>\n",
       "      <td>8.034917e-03</td>\n",
       "      <td>5.059938e-04</td>\n",
       "      <td>9.999000e-05</td>\n",
       "      <td>1.295983e-05</td>\n",
       "    </tr>\n",
       "    <tr>\n",
       "      <th>4</th>\n",
       "      <td>2.496100e-02</td>\n",
       "      <td>1.597444e-03</td>\n",
       "      <td>3.159495e-04</td>\n",
       "      <td>4.095832e-05</td>\n",
       "    </tr>\n",
       "  </tbody>\n",
       "</table>\n",
       "</div>"
      ],
      "text/plain": [
       "        K = 0.5       K = 1.0       K = 1.5       K = 2.0\n",
       "0  1.600000e-79  1.000000e-80  1.975309e-81  2.560000e-82\n",
       "1  9.999000e-05  6.249961e-06  1.234566e-06  1.600000e-07\n",
       "2  1.597444e-03  9.999000e-05  1.975270e-05  2.559993e-06\n",
       "3  8.034917e-03  5.059938e-04  9.999000e-05  1.295983e-05\n",
       "4  2.496100e-02  1.597444e-03  3.159495e-04  4.095832e-05"
      ]
     },
     "execution_count": 236,
     "metadata": {},
     "output_type": "execute_result"
    }
   ],
   "source": [
    "df = pd.DataFrame({\n",
    "        'K = 0.5' : Hill_complete(X, n=4., K=0.5), \n",
    "        'K = 1.0' : Hill_complete(X, n=4., K=1.0), \n",
    "        'K = 1.5' : Hill_complete(X, n=4., K=1.5),\n",
    "        'K = 2.0' : Hill_complete(X, n=4., K=2.5)\n",
    "    })\n",
    "\n",
    "df.head()"
   ]
  },
  {
   "cell_type": "markdown",
   "metadata": {},
   "source": [
    "We can easily plot "
   ]
  },
  {
   "cell_type": "code",
   "execution_count": 237,
   "metadata": {
    "collapsed": false
   },
   "outputs": [
    {
     "data": {
      "text/plain": [
       "<matplotlib.axes._subplots.AxesSubplot at 0x7f83d53bd750>"
      ]
     },
     "execution_count": 237,
     "metadata": {},
     "output_type": "execute_result"
    },
    {
     "data": {
      "image/png": "[encoded data removed]",
      "text/plain": [
       "<matplotlib.figure.Figure at 0x7f83d52861d0>"
      ]
     },
     "metadata": {},
     "output_type": "display_data"
    }
   ],
   "source": [
    "df.plot()"
   ]
  },
  {
   "cell_type": "markdown",
   "metadata": {},
   "source": [
    "We see here the average value of each curve:"
   ]
  },
  {
   "cell_type": "code",
   "execution_count": 238,
   "metadata": {
    "collapsed": false
   },
   "outputs": [
    {
     "data": {
      "text/plain": [
       "K = 0.5    0.883962\n",
       "K = 1.0    0.773397\n",
       "K = 1.5    0.664515\n",
       "K = 2.0    0.460232\n",
       "dtype: float64"
      ]
     },
     "execution_count": 238,
     "metadata": {},
     "output_type": "execute_result"
    }
   ],
   "source": [
    "df.mean()"
   ]
  },
  {
   "cell_type": "markdown",
   "metadata": {},
   "source": [
    "We now evaluate the variance of each curve."
   ]
  },
  {
   "cell_type": "code",
   "execution_count": 239,
   "metadata": {
    "collapsed": false
   },
   "outputs": [
    {
     "data": {
      "text/plain": [
       "K = 0.5    0.075595\n",
       "K = 1.0    0.121473\n",
       "K = 1.5    0.143790\n",
       "K = 2.0    0.130946\n",
       "dtype: float64"
      ]
     },
     "execution_count": 239,
     "metadata": {},
     "output_type": "execute_result"
    }
   ],
   "source": [
    "df.var()"
   ]
  },
  {
   "cell_type": "markdown",
   "metadata": {},
   "source": [
    "Exporting to CSV (excell compatiable)."
   ]
  },
  {
   "cell_type": "code",
   "execution_count": 222,
   "metadata": {
    "collapsed": true
   },
   "outputs": [],
   "source": [
    "df.to_csv('Test.csv')"
   ]
  },
  {
   "cell_type": "code",
   "execution_count": 223,
   "metadata": {
    "collapsed": true
   },
   "outputs": [],
   "source": [
    "more Test.csv"
   ]
  },
  {
   "cell_type": "markdown",
   "metadata": {},
   "source": [
    "# Data analysis"
   ]
  },
  {
   "cell_type": "code",
   "execution_count": null,
   "metadata": {
    "collapsed": true
   },
   "outputs": [],
   "source": []
  }
 ],
 "metadata": {
  "kernelspec": {
   "display_name": "Python 2",
   "language": "python",
   "name": "python2"
  },
  "language_info": {
   "codemirror_mode": {
    "name": "ipython",
    "version": 2
   },
   "file_extension": ".py",
   "mimetype": "text/x-python",
   "name": "python",
   "nbconvert_exporter": "python",
   "pygments_lexer": "ipython2",
   "version": "2.7.10"
  }
 },
 "nbformat": 4,
 "nbformat_minor": 0
}
