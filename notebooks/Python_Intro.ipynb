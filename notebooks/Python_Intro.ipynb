{
 "cells": [
  {
   "cell_type": "markdown",
   "metadata": {},
   "source": [
    "## First steps with Python"
   ]
  },
  {
   "cell_type": "markdown",
   "metadata": {},
   "source": [
    "In this example, we showcase iPython Notebook as a suitable solution for modeling and statical analysis in Synthetic Biology."
   ]
  },
  {
   "cell_type": "markdown",
   "metadata": {},
   "source": [
    "# Hello world"
   ]
  },
  {
   "cell_type": "code",
   "execution_count": 2,
   "metadata": {
    "collapsed": false
   },
   "outputs": [
    {
     "name": "stdout",
     "output_type": "stream",
     "text": [
      "Hello world\n"
     ]
    }
   ],
   "source": [
    "print 'Hello world'"
   ]
  },
  {
   "cell_type": "markdown",
   "metadata": {},
   "source": [
    "# Importing libraries"
   ]
  },
  {
   "cell_type": "markdown",
   "metadata": {},
   "source": [
    "Plotting:"
   ]
  },
  {
   "cell_type": "code",
   "execution_count": 3,
   "metadata": {
    "collapsed": true
   },
   "outputs": [],
   "source": [
    "%matplotlib inline\n",
    "import pylab as pl"
   ]
  },
  {
   "cell_type": "markdown",
   "metadata": {},
   "source": [
    "Fast numerical calculations:"
   ]
  },
  {
   "cell_type": "code",
   "execution_count": 137,
   "metadata": {
    "collapsed": false
   },
   "outputs": [
    {
     "name": "stdout",
     "output_type": "stream",
     "text": [
      "\n"
     ]
    }
   ],
   "source": [
    "from math import *\n",
    "import numpy as np"
   ]
  },
  {
   "cell_type": "markdown",
   "metadata": {},
   "source": [
    "Pretty data sheets:"
   ]
  },
  {
   "cell_type": "code",
   "execution_count": 97,
   "metadata": {
    "collapsed": false
   },
   "outputs": [],
   "source": [
    "import pandas as pd"
   ]
  },
  {
   "cell_type": "markdown",
   "metadata": {},
   "source": [
    "# Playing..."
   ]
  },
  {
   "cell_type": "code",
   "execution_count": 171,
   "metadata": {
    "collapsed": false
   },
   "outputs": [
    {
     "data": {
      "text/plain": [
       "[0, 1, 2, 3, 4]"
      ]
     },
     "execution_count": 171,
     "metadata": {},
     "output_type": "execute_result"
    }
   ],
   "source": [
    "range(5)"
   ]
  },
  {
   "cell_type": "code",
   "execution_count": 185,
   "metadata": {
    "collapsed": true
   },
   "outputs": [],
   "source": [
    "X = np.arange(0.,50.,1.0)"
   ]
  },
  {
   "cell_type": "code",
   "execution_count": 186,
   "metadata": {
    "collapsed": false
   },
   "outputs": [
    {
     "name": "stdout",
     "output_type": "stream",
     "text": [
      "[  0.   1.   2.   3.   4.   5.   6.   7.   8.   9.  10.  11.  12.  13.  14.\n",
      "  15.  16.  17.  18.  19.  20.  21.  22.  23.  24.  25.  26.  27.  28.  29.\n",
      "  30.  31.  32.  33.  34.  35.  36.  37.  38.  39.  40.  41.  42.  43.  44.\n",
      "  45.  46.  47.  48.  49.]\n"
     ]
    }
   ],
   "source": [
    "print X"
   ]
  },
  {
   "cell_type": "code",
   "execution_count": 187,
   "metadata": {
    "collapsed": false
   },
   "outputs": [
    {
     "name": "stdout",
     "output_type": "stream",
     "text": [
      "[ 0.10104462  0.87785135  1.25416277 -1.80586238  1.57417727  0.17782185\n",
      "  1.61075397  0.5793364  -0.2645429  -2.37488708 -0.81166024 -0.67589144\n",
      " -0.21292511  2.16267962 -0.63285788 -2.53557841  2.03904118 -0.5266592\n",
      "  2.32924182  0.77619663  0.37557364 -1.46736163  0.16841776 -1.73960378\n",
      " -0.85063884 -1.1439298   0.7962734   0.21123938 -0.17886113  1.36375844\n",
      "  0.97191811  0.79574675  0.63466034  1.31903441  0.0438713   0.97195209\n",
      " -0.22004354  1.49397072  1.28874688  0.81642501  0.31564766 -0.312945\n",
      " -0.39498404 -0.99130446  1.32204434 -0.4732651   1.52235852 -0.66497908\n",
      " -0.90279505 -0.63420342]\n"
     ]
    }
   ],
   "source": [
    "Y = np.random.standard_normal(50)\n",
    "print Y"
   ]
  },
  {
   "cell_type": "code",
   "execution_count": 188,
   "metadata": {
    "collapsed": false
   },
   "outputs": [
    {
     "name": "stdout",
     "output_type": "stream",
     "text": [
      "(50,) (50,)\n"
     ]
    }
   ],
   "source": [
    "print X.shape, Y.shape"
   ]
  },
  {
   "cell_type": "code",
   "execution_count": 189,
   "metadata": {
    "collapsed": false
   },
   "outputs": [
    {
     "data": {
      "text/plain": [
       "[<matplotlib.lines.Line2D at 0x7f83d5c4ee50>]"
      ]
     },
     "execution_count": 189,
     "metadata": {},
     "output_type": "execute_result"
    },
    {
     "data": {
      "image/png": "[encoded data removed]",
      "text/plain": [
       "<matplotlib.figure.Figure at 0x7f83d5bbf650>"
      ]
     },
     "metadata": {},
     "output_type": "display_data"
    }
   ],
   "source": [
    "pl.plot(X,Y)"
   ]
  },
  {
   "cell_type": "markdown",
   "metadata": {},
   "source": [
    "Let's calculate some propertis of X and Y"
   ]
  },
  {
   "cell_type": "code",
   "execution_count": 192,
   "metadata": {
    "collapsed": false
   },
   "outputs": [
    {
     "name": "stdout",
     "output_type": "stream",
     "text": [
      "Average value:  0.161563334603\n",
      "Variance:  1.30203547644\n",
      "Stand. deviation:  1.14106769144\n",
      "Histogram:\n"
     ]
    },
    {
     "data": {
      "image/png": "[encoded data removed]",
      "text/plain": [
       "<matplotlib.figure.Figure at 0x7f83d5da5f50>"
      ]
     },
     "metadata": {},
     "output_type": "display_data"
    }
   ],
   "source": [
    "print 'Average value: ', Y.mean()\n",
    "print 'Variance: ', Y.var()\n",
    "print 'Stand. deviation: ', sqrt(Y.var())\n",
    "print 'Histogram:'\n",
    "pl.hist(Y, 50, normed=1, histtype='stepfilled');\n",
    "pl.show()"
   ]
  },
  {
   "cell_type": "markdown",
   "metadata": {},
   "source": [
    "Of course, the above histogram doesn't look good. This is simply due the poor sampling, however the method to construct histograms is that simple: a function from <i>pylab</i> library. In the next sections, we will use a known dataset and properly illustrate it again.\n",
    "\n",
    "You can use \\t to add tabs and line everything up. You can also use \\n as linebreak."
   ]
  },
  {
   "cell_type": "code",
   "execution_count": 193,
   "metadata": {
    "collapsed": false
   },
   "outputs": [
    {
     "name": "stdout",
     "output_type": "stream",
     "text": [
      "Average value: \t\t0.161563334603\n",
      "Variance: \t\t1.30203547644\n",
      "Stand. deviation: \t1.14106769144\n"
     ]
    }
   ],
   "source": [
    "print 'Average value: \\t\\t', Y.mean()\n",
    "print 'Variance: \\t\\t', Y.var()\n",
    "print 'Stand. deviation: \\t', sqrt(Y.var())"
   ]
  },
  {
   "cell_type": "code",
   "execution_count": 198,
   "metadata": {
    "collapsed": false
   },
   "outputs": [
    {
     "name": "stdout",
     "output_type": "stream",
     "text": [
      "[ 0.10104462  0.87785135]\n",
      "[ 0.10104462  0.87785135  1.25416277 -1.80586238  1.57417727]\n",
      "[ 0.10104462  0.87785135  1.25416277 -1.80586238  1.57417727  0.17782185\n",
      "  1.61075397  0.5793364 ]\n"
     ]
    }
   ],
   "source": [
    "print Y[:2]\n",
    "print Y[:5]\n",
    "print Y[:8]"
   ]
  },
  {
   "cell_type": "code",
   "execution_count": 195,
   "metadata": {
    "collapsed": false
   },
   "outputs": [
    {
     "name": "stdout",
     "output_type": "stream",
     "text": [
      "Squared:  0.010210014461\n",
      "Squared:  0.770623000707\n",
      "Squared:  1.57292425217\n",
      "Squared:  3.26113894904\n",
      "Squared:  2.47803407407\n"
     ]
    }
   ],
   "source": [
    "for y in Y[:5]:\n",
    "    print 'Squared: ', y**2"
   ]
  },
  {
   "cell_type": "markdown",
   "metadata": {},
   "source": [
    "# Functions"
   ]
  },
  {
   "cell_type": "markdown",
   "metadata": {},
   "source": [
    "We next introduce how you define a function. Suppose you want to define a Hill Function, which is readily\n",
    "$$F_{k,n}(x) = \\frac{1}{1+\\dfrac{k}{x^n}},$$\n",
    "where $k$ and $n$ are constants you can adjust to fit your data."
   ]
  },
  {
   "cell_type": "code",
   "execution_count": 58,
   "metadata": {
    "collapsed": false
   },
   "outputs": [],
   "source": [
    "def Hill(X, K = 1.0, n = 2.0):\n",
    "    return 1./(1. + (K/X)**(n))"
   ]
  },
  {
   "cell_type": "markdown",
   "metadata": {},
   "source": [
    "As you can see, we have three arguments:\n",
    "* X - a number of an array with values where we want to evalute the Hill function\n",
    "* K, n - is the k in our above definition\n",
    "\n",
    "Notice that K and n are defined differently. "
   ]
  },
  {
   "cell_type": "markdown",
   "metadata": {},
   "source": [
    "We can then calculate it on some values..."
   ]
  },
  {
   "cell_type": "code",
   "execution_count": 169,
   "metadata": {
    "collapsed": false
   },
   "outputs": [
    {
     "name": "stdout",
     "output_type": "stream",
     "text": [
      "[ 0.          0.5         0.8         0.9         0.94117647  0.96153846\n",
      "  0.97297297  0.98        0.98461538  0.98780488]\n"
     ]
    }
   ],
   "source": [
    "X = np.arange(0.,10.,1.0)\n",
    "HX = Hill(X)\n",
    "print HX"
   ]
  },
  {
   "cell_type": "markdown",
   "metadata": {},
   "source": [
    "And plot it..."
   ]
  },
  {
   "cell_type": "code",
   "execution_count": 170,
   "metadata": {
    "collapsed": false
   },
   "outputs": [
    {
     "data": {
      "text/plain": [
       "[<matplotlib.lines.Line2D at 0x7f83d5eda650>]"
      ]
     },
     "execution_count": 170,
     "metadata": {},
     "output_type": "execute_result"
    },
    {
     "data": {
      "image/png": "[encoded data removed]",
      "text/plain": [
       "<matplotlib.figure.Figure at 0x7f83d5ef8f50>"
      ]
     },
     "metadata": {},
     "output_type": "display_data"
    }
   ],
   "source": [
    "pl.plot(X, HX)"
   ]
  },
  {
   "cell_type": "markdown",
   "metadata": {},
   "source": [
    "To improve the quality of the curve (make it more smooth), we can increase the number of points in X. Nevertheless, we don't want to change the interval. Therefore, we will only change the step from 1.0 to 0.1, ending up with ten times more points."
   ]
  },
  {
   "cell_type": "code",
   "execution_count": 241,
   "metadata": {
    "collapsed": false
   },
   "outputs": [
    {
     "data": {
      "text/plain": [
       "[<matplotlib.lines.Line2D at 0x7f83d56e9150>]"
      ]
     },
     "execution_count": 241,
     "metadata": {},
     "output_type": "execute_result"
    },
    {
     "data": {
      "image/png": "[encoded data removed]",
      "text/plain": [
       "<matplotlib.figure.Figure at 0x7f83d63008d0>"
      ]
     },
     "metadata": {},
     "output_type": "display_data"
    }
   ],
   "source": [
    "X = np.arange(0.,5.,0.1)\n",
    "pl.plot(X, Hill(X, n=4.))"
   ]
  },
  {
   "cell_type": "markdown",
   "metadata": {},
   "source": [
    "You may experience an error: division by zero (0). That happens because in X we have a zero element, and it will try to evaluate the Hill function in zero. To avoid this, we will slightly change our function:"
   ]
  },
  {
   "cell_type": "code",
   "execution_count": 74,
   "metadata": {
    "collapsed": false
   },
   "outputs": [],
   "source": [
    "def Hill_complete(X, K = 1.0, n = 2.0):\n",
    "    XX = X\n",
    "    XX[ X == 0 ] = 1e-20\n",
    "    return 1./(1. + (K/XX)**(n))"
   ]
  },
  {
   "cell_type": "markdown",
   "metadata": {},
   "source": [
    "As you can see, whenever the argument is zero, we switched it by a very small real number. Since the function is continuous, it will \"look nice\" near zero."
   ]
  },
  {
   "cell_type": "code",
   "execution_count": 242,
   "metadata": {
    "collapsed": false
   },
   "outputs": [
    {
     "data": {
      "text/plain": [
       "[<matplotlib.lines.Line2D at 0x7f83d56e9c10>]"
      ]
     },
     "execution_count": 242,
     "metadata": {},
     "output_type": "execute_result"
    },
    {
     "data": {
      "image/png": "[encoded data removed]",
      "text/plain": [
       "<matplotlib.figure.Figure at 0x7f83d5ce3c10>"
      ]
     },
     "metadata": {},
     "output_type": "display_data"
    }
   ],
   "source": [
    "X = np.arange(0.,5.,0.1)\n",
    "pl.plot(X, Hill_complete(X, n=4.))"
   ]
  },
  {
   "cell_type": "markdown",
   "metadata": {},
   "source": [
    "Finally, let's try changing K."
   ]
  },
  {
   "cell_type": "code",
   "execution_count": 235,
   "metadata": {
    "collapsed": false
   },
   "outputs": [
    {
     "data": {
      "image/png": "[encoded data removed]",
      "text/plain": [
       "<matplotlib.figure.Figure at 0x7f83d539cdd0>"
      ]
     },
     "metadata": {},
     "output_type": "display_data"
    }
   ],
   "source": [
    "X = np.arange(0.,5.,0.05)\n",
    "\n",
    "for k in [0.25, 0.5, 1.0, 2.0, 3.0, 4.0]:\n",
    "    pl.plot(X, Hill_complete(X, n=4., K=k))"
   ]
  },
  {
   "cell_type": "markdown",
   "metadata": {},
   "source": [
    "# Manipulating data sheets"
   ]
  },
  {
   "cell_type": "markdown",
   "metadata": {},
   "source": [
    "Next, we will create a DataFrame, which will store all data we want to work on for us. Since we often have large datasets, we don't want to print all dataset in the screen, but have a feeling of what's in a particular DataFrame. For this purpose, you can use the <i>head()</i> method as below. Then, python will only print the first 5 rows of your DataFrame."
   ]
  },
  {
   "cell_type": "code",
   "execution_count": 236,
   "metadata": {
    "collapsed": false
   },
   "outputs": [
    {
     "data": {
      "text/html": [
       "<div>\n",
       "<table border=\"1\" class=\"dataframe\">\n",
       "  <thead>\n",
       "    <tr style=\"text-align: right;\">\n",
       "      <th></th>\n",
       "      <th>K = 0.5</th>\n",
       "      <th>K = 1.0</th>\n",
       "      <th>K = 1.5</th>\n",
       "      <th>K = 2.0</th>\n",
       "    </tr>\n",
       "  </thead>\n",
       "  <tbody>\n",
       "    <tr>\n",
       "      <th>0</th>\n",
       "      <td>1.600000e-79</td>\n",
       "      <td>1.000000e-80</td>\n",
       "      <td>1.975309e-81</td>\n",
       "      <td>2.560000e-82</td>\n",
       "    </tr>\n",
       "    <tr>\n",
       "      <th>1</th>\n",
       "      <td>9.999000e-05</td>\n",
       "      <td>6.249961e-06</td>\n",
       "      <td>1.234566e-06</td>\n",
       "      <td>1.600000e-07</td>\n",
       "    </tr>\n",
       "    <tr>\n",
       "      <th>2</th>\n",
       "      <td>1.597444e-03</td>\n",
       "      <td>9.999000e-05</td>\n",
       "      <td>1.975270e-05</td>\n",
       "      <td>2.559993e-06</td>\n",
       "    </tr>\n",
       "    <tr>\n",
       "      <th>3</th>\n",
       "      <td>8.034917e-03</td>\n",
       "      <td>5.059938e-04</td>\n",
       "      <td>9.999000e-05</td>\n",
       "      <td>1.295983e-05</td>\n",
       "    </tr>\n",
       "    <tr>\n",
       "      <th>4</th>\n",
       "      <td>2.496100e-02</td>\n",
       "      <td>1.597444e-03</td>\n",
       "      <td>3.159495e-04</td>\n",
       "      <td>4.095832e-05</td>\n",
       "    </tr>\n",
       "  </tbody>\n",
       "</table>\n",
       "</div>"
      ],
      "text/plain": [
       "        K = 0.5       K = 1.0       K = 1.5       K = 2.0\n",
       "0  1.600000e-79  1.000000e-80  1.975309e-81  2.560000e-82\n",
       "1  9.999000e-05  6.249961e-06  1.234566e-06  1.600000e-07\n",
       "2  1.597444e-03  9.999000e-05  1.975270e-05  2.559993e-06\n",
       "3  8.034917e-03  5.059938e-04  9.999000e-05  1.295983e-05\n",
       "4  2.496100e-02  1.597444e-03  3.159495e-04  4.095832e-05"
      ]
     },
     "execution_count": 236,
     "metadata": {},
     "output_type": "execute_result"
    }
   ],
   "source": [
    "df = pd.DataFrame({\n",
    "        'K = 0.5' : Hill_complete(X, n=4., K=0.5), \n",
    "        'K = 1.0' : Hill_complete(X, n=4., K=1.0), \n",
    "        'K = 1.5' : Hill_complete(X, n=4., K=1.5),\n",
    "        'K = 2.0' : Hill_complete(X, n=4., K=2.5)\n",
    "    })\n",
    "\n",
    "df.head()"
   ]
  },
  {
   "cell_type": "markdown",
   "metadata": {},
   "source": [
    "We can easily plot "
   ]
  },
  {
   "cell_type": "code",
   "execution_count": 237,
   "metadata": {
    "collapsed": false
   },
   "outputs": [
    {
     "data": {
      "text/plain": [
       "<matplotlib.axes._subplots.AxesSubplot at 0x7f83d53bd750>"
      ]
     },
     "execution_count": 237,
     "metadata": {},
     "output_type": "execute_result"
    },
    {
     "data": {
      "image/png": "[encoded data removed]",
      "text/plain": [
       "<matplotlib.figure.Figure at 0x7f83d52861d0>"
      ]
     },
     "metadata": {},
     "output_type": "display_data"
    }
   ],
   "source": [
    "df.plot()"
   ]
  },
  {
   "cell_type": "markdown",
   "metadata": {},
   "source": [
    "We see here the average value of each curve:"
   ]
  },
  {
   "cell_type": "code",
   "execution_count": 238,
   "metadata": {
    "collapsed": false
   },
   "outputs": [
    {
     "data": {
      "text/plain": [
       "K = 0.5    0.883962\n",
       "K = 1.0    0.773397\n",
       "K = 1.5    0.664515\n",
       "K = 2.0    0.460232\n",
       "dtype: float64"
      ]
     },
     "execution_count": 238,
     "metadata": {},
     "output_type": "execute_result"
    }
   ],
   "source": [
    "df.mean()"
   ]
  },
  {
   "cell_type": "markdown",
   "metadata": {},
   "source": [
    "We now evaluate the variance of each curve."
   ]
  },
  {
   "cell_type": "code",
   "execution_count": 239,
   "metadata": {
    "collapsed": false
   },
   "outputs": [
    {
     "data": {
      "text/plain": [
       "K = 0.5    0.075595\n",
       "K = 1.0    0.121473\n",
       "K = 1.5    0.143790\n",
       "K = 2.0    0.130946\n",
       "dtype: float64"
      ]
     },
     "execution_count": 239,
     "metadata": {},
     "output_type": "execute_result"
    }
   ],
   "source": [
    "df.var()"
   ]
  },
  {
   "cell_type": "markdown",
   "metadata": {},
   "source": [
    "Exporting to CSV (excell compatiable)."
   ]
  },
  {
   "cell_type": "code",
   "execution_count": 222,
   "metadata": {
    "collapsed": true
   },
   "outputs": [],
   "source": [
    "df.to_csv('Test.csv')"
   ]
  },
  {
   "cell_type": "code",
   "execution_count": 223,
   "metadata": {
    "collapsed": true
   },
   "outputs": [],
   "source": [
    "more Test.csv"
   ]
  },
  {
   "cell_type": "markdown",
   "metadata": {},
   "source": [
    "# Data analysis"
   ]
  },
  {
   "cell_type": "code",
   "execution_count": null,
   "metadata": {
    "collapsed": true
   },
   "outputs": [],
   "source": []
  }
 ],
 "metadata": {
  "kernelspec": {
   "display_name": "Python 2",
   "language": "python",
   "name": "python2"
  },
  "language_info": {
   "codemirror_mode": {
    "name": "ipython",
    "version": 2
   },
   "file_extension": ".py",
   "mimetype": "text/x-python",
   "name": "python",
   "nbconvert_exporter": "python",
   "pygments_lexer": "ipython2",
   "version": "2.7.10"
  }
 },
 "nbformat": 4,
 "nbformat_minor": 0
}
