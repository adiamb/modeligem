{
 "cells": [
  {
   "cell_type": "markdown",
   "metadata": {},
   "source": [
    "# Data analysis\n",
    "\n",
    "In this notebook, we will go over some of the fundamentals of using Python for data analysis, focusing on what we need for iGEM competition. We assume you are familiar with the content [in our Intro. to Python notebook](http://nbviewer.ipython.org/github/thmosqueiro/modeligem/blob/master/notebooks/Python_Intro.ipynb). Following the same spirit of our suplementary material, this will be extremely driven by application and directed towards systems biology modeling.\n",
    "\n",
    "<br />\n",
    "\n",
    "This is intended as a suplementary material for iGEM 2015 competition. You can contact our team (Team USP-Brasil) if you would like a live demonstration!!\n",
    "\n",
    "This is our Facebook page: https://www.facebook.com/brasilusp?fref=ts\n",
    "\n",
    "\n",
    "<br />\n",
    "\n",
    "**This notebook is a free software, you are free to use it the way you'd like to. Visit our [Wiki](https://github.com/thmosqueiro/modeligem/wiki) or find all source codes [here](https://github.com/thmosqueiro/modeligem/wiki).**\n",
    "\n",
    "<br />"
   ]
  },
  {
   "cell_type": "code",
   "execution_count": 68,
   "metadata": {
    "collapsed": false
   },
   "outputs": [],
   "source": [
    "import numpy as np\n",
    "import scipy as sp\n",
    "import scipy.stats as stats\n",
    "import pandas as pd\n",
    "\n",
    "%matplotlib inline\n",
    "import pylab as pl"
   ]
  },
  {
   "cell_type": "markdown",
   "metadata": {},
   "source": [
    "## Mosquitos dataset from Mozilla Software Carpentry\n",
    "\n",
    "Let's start dealing with Pandas library, and showcase some of their powerful tools to handle data.\n",
    "\n",
    "For this example, we will use a dataset available at [Mozilla Software Carpentry](https://raw.githubusercontent.com/swcarpentry/bc/master/intermediate/python/A1_mosquito_data.csv). Since it is available online, you don't even need to download it to be able to use it with python: we will use pandas to read it from the url."
   ]
  },
  {
   "cell_type": "code",
   "execution_count": 14,
   "metadata": {
    "collapsed": true
   },
   "outputs": [],
   "source": [
    "Mdata = pd.read_csv('https://raw.githubusercontent.com/swcarpentry/bc/master/intermediate/python/A2_mosquito_data.csv')"
   ]
  },
  {
   "cell_type": "markdown",
   "metadata": {},
   "source": [
    "If you'd have a local file instead, simply use its path as argument ti pd.read_csv.\n",
    "\n",
    "Let's quickly visualize this dataset:"
   ]
  },
  {
   "cell_type": "code",
   "execution_count": 25,
   "metadata": {
    "collapsed": false
   },
   "outputs": [
    {
     "name": "stdout",
     "output_type": "stream",
     "text": [
      "Shape of this dataset:  (51, 4)\n",
      "Column names:  Index([u'year', u'temperature', u'rainfall', u'mosquitos'], dtype='object')\n",
      "\n",
      "First rows in the dataset:\n"
     ]
    },
    {
     "data": {
      "text/html": [
       "<div style=\"max-height:1000px;max-width:1500px;overflow:auto;\">\n",
       "<table border=\"1\" class=\"dataframe\">\n",
       "  <thead>\n",
       "    <tr style=\"text-align: right;\">\n",
       "      <th></th>\n",
       "      <th>year</th>\n",
       "      <th>temperature</th>\n",
       "      <th>rainfall</th>\n",
       "      <th>mosquitos</th>\n",
       "    </tr>\n",
       "  </thead>\n",
       "  <tbody>\n",
       "    <tr>\n",
       "      <th>0</th>\n",
       "      <td> 1960</td>\n",
       "      <td> 82</td>\n",
       "      <td> 200</td>\n",
       "      <td> 180</td>\n",
       "    </tr>\n",
       "    <tr>\n",
       "      <th>1</th>\n",
       "      <td> 1961</td>\n",
       "      <td> 70</td>\n",
       "      <td> 227</td>\n",
       "      <td> 194</td>\n",
       "    </tr>\n",
       "    <tr>\n",
       "      <th>2</th>\n",
       "      <td> 1962</td>\n",
       "      <td> 89</td>\n",
       "      <td> 231</td>\n",
       "      <td> 207</td>\n",
       "    </tr>\n",
       "    <tr>\n",
       "      <th>3</th>\n",
       "      <td> 1963</td>\n",
       "      <td> 74</td>\n",
       "      <td> 114</td>\n",
       "      <td> 121</td>\n",
       "    </tr>\n",
       "    <tr>\n",
       "      <th>4</th>\n",
       "      <td> 1964</td>\n",
       "      <td> 78</td>\n",
       "      <td> 147</td>\n",
       "      <td> 140</td>\n",
       "    </tr>\n",
       "  </tbody>\n",
       "</table>\n",
       "</div>"
      ],
      "text/plain": [
       "   year  temperature  rainfall  mosquitos\n",
       "0  1960           82       200        180\n",
       "1  1961           70       227        194\n",
       "2  1962           89       231        207\n",
       "3  1963           74       114        121\n",
       "4  1964           78       147        140"
      ]
     },
     "execution_count": 25,
     "metadata": {},
     "output_type": "execute_result"
    }
   ],
   "source": [
    "print 'Shape of this dataset: ', Mdata.shape\n",
    "print 'Column names: ', data1.columns\n",
    "\n",
    "print '\\nFirst rows in the dataset:'\n",
    "Mdata.head()"
   ]
  },
  {
   "cell_type": "markdown",
   "metadata": {},
   "source": [
    "Since there are too many rows (51), we are using head() method to print only the first five rows. Notice that it is already using a very nice format to display the data.\n",
    "\n",
    "Don't mind the lower-case u's appearing next to each column name: it means they are unicode strings (which means you can even use special characters!).\n",
    "\n",
    "<br />\n",
    "\n",
    "Let's try to understand this data before moving on. Take this question in consideration: is the weather somehow related to the number of mosquitos occuring in a particular year? We could use the answer of this question to target efficient control measures of mosquitoes population. We will briefly investigate this data using pandas and some other tools.\n",
    "\n"
   ]
  },
  {
   "cell_type": "markdown",
   "metadata": {},
   "source": [
    "### Let's manipulate our dataset\n",
    "\n",
    "Let's make a series of manipulations on our dataset to make sure we know how to handle any possible question we may want to answer."
   ]
  },
  {
   "cell_type": "markdown",
   "metadata": {},
   "source": [
    "1- Let's create another dataset with only mosquitoes and rainfall"
   ]
  },
  {
   "cell_type": "code",
   "execution_count": 32,
   "metadata": {
    "collapsed": false
   },
   "outputs": [
    {
     "data": {
      "text/html": [
       "<div style=\"max-height:1000px;max-width:1500px;overflow:auto;\">\n",
       "<table border=\"1\" class=\"dataframe\">\n",
       "  <thead>\n",
       "    <tr style=\"text-align: right;\">\n",
       "      <th></th>\n",
       "      <th>rainfall</th>\n",
       "      <th>mosquitos</th>\n",
       "    </tr>\n",
       "  </thead>\n",
       "  <tbody>\n",
       "    <tr>\n",
       "      <th>0</th>\n",
       "      <td> 200</td>\n",
       "      <td> 180</td>\n",
       "    </tr>\n",
       "    <tr>\n",
       "      <th>1</th>\n",
       "      <td> 227</td>\n",
       "      <td> 194</td>\n",
       "    </tr>\n",
       "    <tr>\n",
       "      <th>2</th>\n",
       "      <td> 231</td>\n",
       "      <td> 207</td>\n",
       "    </tr>\n",
       "    <tr>\n",
       "      <th>3</th>\n",
       "      <td> 114</td>\n",
       "      <td> 121</td>\n",
       "    </tr>\n",
       "    <tr>\n",
       "      <th>4</th>\n",
       "      <td> 147</td>\n",
       "      <td> 140</td>\n",
       "    </tr>\n",
       "  </tbody>\n",
       "</table>\n",
       "</div>"
      ],
      "text/plain": [
       "   rainfall  mosquitos\n",
       "0       200        180\n",
       "1       227        194\n",
       "2       231        207\n",
       "3       114        121\n",
       "4       147        140"
      ]
     },
     "execution_count": 32,
     "metadata": {},
     "output_type": "execute_result"
    }
   ],
   "source": [
    "Mdata_MvsR = Mdata[['rainfall', 'mosquitos']]\n",
    "\n",
    "Mdata_MvsR.head()"
   ]
  },
  {
   "cell_type": "markdown",
   "metadata": {},
   "source": [
    "The underlying message here is that you can access columns by using their name. For instance, ``Mdata['rainfall']`` will give you only the data in the rainfall column. If you need more than one column at the same time, just use ``[['ColumnName1', 'ColumnName2', ...]]``.\n",
    "\n",
    "\n",
    "2- What is the year of our last record?"
   ]
  },
  {
   "cell_type": "code",
   "execution_count": 33,
   "metadata": {
    "collapsed": false
   },
   "outputs": [
    {
     "name": "stdout",
     "output_type": "stream",
     "text": [
      "Last year on our records:  2010\n"
     ]
    }
   ],
   "source": [
    "print 'Last year on our records: ', Mdata['year'].max()"
   ]
  },
  {
   "cell_type": "markdown",
   "metadata": {},
   "source": [
    "Following the same line of question 1, we first get all years by using ``Mdata['year']`` and, then, apply the max() method. This returns the largest value on year column.\n",
    "\n",
    "3- Let's get the last five years?"
   ]
  },
  {
   "cell_type": "code",
   "execution_count": 34,
   "metadata": {
    "collapsed": false
   },
   "outputs": [
    {
     "data": {
      "text/html": [
       "<div style=\"max-height:1000px;max-width:1500px;overflow:auto;\">\n",
       "<table border=\"1\" class=\"dataframe\">\n",
       "  <thead>\n",
       "    <tr style=\"text-align: right;\">\n",
       "      <th></th>\n",
       "      <th>year</th>\n",
       "      <th>temperature</th>\n",
       "      <th>rainfall</th>\n",
       "      <th>mosquitos</th>\n",
       "    </tr>\n",
       "  </thead>\n",
       "  <tbody>\n",
       "    <tr>\n",
       "      <th>46</th>\n",
       "      <td> 2006</td>\n",
       "      <td> 88</td>\n",
       "      <td> 255</td>\n",
       "      <td> 226</td>\n",
       "    </tr>\n",
       "    <tr>\n",
       "      <th>47</th>\n",
       "      <td> 2007</td>\n",
       "      <td> 79</td>\n",
       "      <td> 262</td>\n",
       "      <td> 221</td>\n",
       "    </tr>\n",
       "    <tr>\n",
       "      <th>48</th>\n",
       "      <td> 2008</td>\n",
       "      <td> 73</td>\n",
       "      <td> 198</td>\n",
       "      <td> 176</td>\n",
       "    </tr>\n",
       "    <tr>\n",
       "      <th>49</th>\n",
       "      <td> 2009</td>\n",
       "      <td> 86</td>\n",
       "      <td> 215</td>\n",
       "      <td> 187</td>\n",
       "    </tr>\n",
       "    <tr>\n",
       "      <th>50</th>\n",
       "      <td> 2010</td>\n",
       "      <td> 87</td>\n",
       "      <td> 127</td>\n",
       "      <td> 129</td>\n",
       "    </tr>\n",
       "  </tbody>\n",
       "</table>\n",
       "</div>"
      ],
      "text/plain": [
       "    year  temperature  rainfall  mosquitos\n",
       "46  2006           88       255        226\n",
       "47  2007           79       262        221\n",
       "48  2008           73       198        176\n",
       "49  2009           86       215        187\n",
       "50  2010           87       127        129"
      ]
     },
     "execution_count": 34,
     "metadata": {},
     "output_type": "execute_result"
    }
   ],
   "source": [
    "## First we get all elements in the last five years of our data set:\n",
    "IDX = Mdata['year'] > Mdata['year'].max() - 5\n",
    "\n",
    "Mdata[ IDX ]"
   ]
  },
  {
   "cell_type": "markdown",
   "metadata": {},
   "source": [
    "4- What are the mean values for each variable?"
   ]
  },
  {
   "cell_type": "code",
   "execution_count": 64,
   "metadata": {
    "collapsed": false
   },
   "outputs": [
    {
     "data": {
      "text/plain": [
       "year           1985.000000\n",
       "temperature      80.392157\n",
       "rainfall        207.039216\n",
       "mosquitos       185.235294\n",
       "dtype: float64"
      ]
     },
     "execution_count": 64,
     "metadata": {},
     "output_type": "execute_result"
    }
   ],
   "source": [
    "Mdata.mean()"
   ]
  },
  {
   "cell_type": "markdown",
   "metadata": {},
   "source": [
    "### How about plotting our data?"
   ]
  },
  {
   "cell_type": "code",
   "execution_count": 63,
   "metadata": {
    "collapsed": false
   },
   "outputs": [
    {
     "data": {
      "text/plain": [
       "<matplotlib.axes.AxesSubplot at 0x7fc046c85cd0>"
      ]
     },
     "execution_count": 63,
     "metadata": {},
     "output_type": "execute_result"
    },
    {
     "data": {
      "image/png": "[encoded data removed]",
      "text/plain": [
       "<matplotlib.figure.Figure at 0x7fc047494ad0>"
      ]
     },
     "metadata": {},
     "output_type": "display_data"
    }
   ],
   "source": [
    "Mdata.plot(x='year', y=['mosquitos','temperature','rainfall'], \n",
    "           kind='line', ylim=(50,400), figsize=(9,5), \n",
    "           fontsize=12, style=['r-', 'g-', 'b--'])"
   ]
  },
  {
   "cell_type": "code",
   "execution_count": 53,
   "metadata": {
    "collapsed": false
   },
   "outputs": [
    {
     "data": {
      "text/plain": [
       "<matplotlib.axes.AxesSubplot at 0x7fc047424850>"
      ]
     },
     "execution_count": 53,
     "metadata": {},
     "output_type": "execute_result"
    },
    {
     "data": {
      "image/png": "[encoded data removed]",
      "text/plain": [
       "<matplotlib.figure.Figure at 0x7fc04795ded0>"
      ]
     },
     "metadata": {},
     "output_type": "display_data"
    },
    {
     "data": {
      "image/png": "[encoded data removed]",
      "text/plain": [
       "<matplotlib.figure.Figure at 0x7fc0479cca10>"
      ]
     },
     "metadata": {},
     "output_type": "display_data"
    }
   ],
   "source": [
    "Mdata.plot(x='mosquitos', y='temperature', kind='scatter', \n",
    "           legend=False, figsize=(8,4), fontsize=12)\n",
    "Mdata.plot(x='mosquitos', y='rainfall', kind='scatter', \n",
    "           legend=False, figsize=(8,4), fontsize=12)"
   ]
  },
  {
   "cell_type": "markdown",
   "metadata": {},
   "source": [
    "There is no obvious sasonal effect on the number of mosquitoes with respect to year, and there seems to be no obvious pattern with temperature as well. However, rainfall vs mosquitoes show an amazing linear relationship!!\n",
    "\n",
    "**Tip:** pandas offer a lot of easy-to-use plot options, make sure to check it [here](http://pandas.pydata.org/pandas-docs/dev/generated/pandas.DataFrame.plot.html)!!\n",
    "\n",
    "<br />\n",
    "\n",
    "The most natural next step would be to fit a linear function."
   ]
  },
  {
   "cell_type": "code",
   "execution_count": 82,
   "metadata": {
    "collapsed": false
   },
   "outputs": [
    {
     "name": "stdout",
     "output_type": "stream",
     "text": [
      "---\n",
      "Fitting a*x + b...\n",
      "Fit done.\n",
      "---\n",
      "\n",
      "Adjusted parameters:\n",
      "a:  0.695884966872\n",
      "b:  41.1598163687\n",
      "\n",
      "Goodness of fitting (R-squared):  0.991315935461\n"
     ]
    }
   ],
   "source": [
    "print '---\\nFitting a*x + b...'\n",
    "\n",
    "slope, intercept, r, p, stderr = stats.linregress(\n",
    "        Mdata_MvsR['rainfall'], Mdata_MvsR['mosquitos'])\n",
    "\n",
    "print 'Fit done.\\n---\\n'\n",
    "\n",
    "print 'Adjusted parameters:'\n",
    "print 'a: ', slope\n",
    "print 'b: ', intercept\n",
    "\n",
    "print '\\nGoodness of fitting (R-squared): ', r**2"
   ]
  },
  {
   "cell_type": "markdown",
   "metadata": {},
   "source": [
    "Let's now plot our fitted curve and the data together."
   ]
  },
  {
   "cell_type": "code",
   "execution_count": 106,
   "metadata": {
    "collapsed": false
   },
   "outputs": [
    {
     "data": {
      "image/png": "[encoded data removed]",
      "text/plain": [
       "<matplotlib.figure.Figure at 0x7fc040fee6d0>"
      ]
     },
     "metadata": {},
     "output_type": "display_data"
    }
   ],
   "source": [
    "pl.figure( figsize=(6,4) )\n",
    "\n",
    "pl.plot(Mdata_MvsR['rainfall'], Mdata_MvsR['mosquitos'], \n",
    "        'o', color=(.3,.3,1.)) # using RGB for color\n",
    "\n",
    "X = np.arange(100,300,0.1)\n",
    "Y = slope*X + intercept\n",
    "pl.plot(X, Y, 'g-', linewidth=5., alpha=0.5) ## alpha option makes \n",
    "                                              ## the line somewhat transparent\n",
    "\n",
    "pl.xlabel('Rainfall')\n",
    "pl.ylabel('Mosquitoes count')\n",
    "\n",
    "pl.show()"
   ]
  },
  {
   "cell_type": "markdown",
   "metadata": {},
   "source": [
    " "
   ]
  }
 ],
 "metadata": {
  "kernelspec": {
   "display_name": "Python 2",
   "language": "python",
   "name": "python2"
  },
  "language_info": {
   "codemirror_mode": {
    "name": "ipython",
    "version": 2
   },
   "file_extension": ".py",
   "mimetype": "text/x-python",
   "name": "python",
   "nbconvert_exporter": "python",
   "pygments_lexer": "ipython2",
   "version": "2.7.8"
  }
 },
 "nbformat": 4,
 "nbformat_minor": 0
}
