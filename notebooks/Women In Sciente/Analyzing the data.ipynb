{
 "cells": [
  {
   "cell_type": "markdown",
   "metadata": {},
   "source": [
    "Fazer uma lista de mas praticas de questionarios..."
   ]
  },
  {
   "cell_type": "code",
   "execution_count": 1,
   "metadata": {
    "collapsed": true
   },
   "outputs": [],
   "source": [
    "%matplotlib inline\n",
    "import pylab as pl\n",
    "import numpy as np"
   ]
  },
  {
   "cell_type": "code",
   "execution_count": 2,
   "metadata": {
    "collapsed": false
   },
   "outputs": [],
   "source": [
    "f = open('RespostaQuestionárioMulheresnaCiência.csv', 'r')\n",
    "\n",
    "maxNumElem = 0\n",
    "maxElemSize = 0\n",
    "Answers = []\n",
    "for line in f:\n",
    "    lspl = line.split('|')\n",
    "    Answers.append( lspl )\n",
    "    if maxNumElem < len( lspl ): maxNumElem = len( lspl ) \n",
    "    for item in lspl:\n",
    "        if maxElemSize < len(item): maxElemSize = len(item)\n",
    "\n",
    "data = np.chararray( ( len(Answers)+1,15), itemsize=maxElemSize )\n",
    "data[:] = ''\n",
    "j=0\n",
    "for answer in Answers:\n",
    "    j += 1\n",
    "    k = 0\n",
    "    for item in answer:\n",
    "        data[j,k] = item\n",
    "        k += 1"
   ]
  },
  {
   "cell_type": "markdown",
   "metadata": {},
   "source": [
    "Showing index of each question"
   ]
  },
  {
   "cell_type": "code",
   "execution_count": 3,
   "metadata": {
    "collapsed": false
   },
   "outputs": [
    {
     "name": "stdout",
     "output_type": "stream",
     "text": [
      "0 Indicação de data e hora\n",
      "1 Qual o seu gênero?\n",
      "2 Qual a sua universidade?\n",
      "3 Qual o seu instituto?\n",
      "4 Qual o seu ano de ingresso (na graduação) na uni\n",
      "5 Quantas mulheres entraram no seu curso no seu ano \n",
      "6 Quantas ainda continuam no curso? Caso tenha concl\n",
      "7 Na sua opinião, a presença de mulheres no seu cu\n",
      "8 Você acredita que homens possuem vantagens sobre \n",
      "9 Você diria que existe qualquer tipo de segregaç�\n",
      "10 Você ou alguém próximo a você já sofreu algum\n",
      "11 Você acha que a questão de assédio e discrimina\n",
      "12 Escreva aqui comentários/sugestões caso deseje.\n",
      "13 Qual o seu curso?\n",
      "14 Tipo curso\n"
     ]
    }
   ],
   "source": [
    "for j in range(data.shape[1]):\n",
    "    print j, data[1,j][:50]"
   ]
  },
  {
   "cell_type": "markdown",
   "metadata": {},
   "source": [
    "Fixing the data..."
   ]
  },
  {
   "cell_type": "code",
   "execution_count": 4,
   "metadata": {
    "collapsed": true
   },
   "outputs": [],
   "source": [
    "data[122,4] = '2008'\n",
    "data[149,4] = '0'"
   ]
  },
  {
   "cell_type": "markdown",
   "metadata": {},
   "source": [
    "Finding records in each of the three fields... Exact, bio and social sciences"
   ]
  },
  {
   "cell_type": "code",
   "execution_count": 44,
   "metadata": {
    "collapsed": false
   },
   "outputs": [],
   "source": [
    "IDX_exct = data[:,14] == 'Exatas'\n",
    "data_exct = data[IDX_exct]\n",
    "\n",
    "IDX_biol = data[:,14] == 'Biol\\xc3\\xb3gicas'\n",
    "data_biol = data[IDX_biol]\n",
    "\n",
    "IDX_humn = data[:,14] == 'Humanas'\n",
    "data_humn = data[IDX_humn]"
   ]
  },
  {
   "cell_type": "markdown",
   "metadata": {},
   "source": [
    "### Number of responses"
   ]
  },
  {
   "cell_type": "code",
   "execution_count": 16,
   "metadata": {
    "collapsed": false
   },
   "outputs": [
    {
     "name": "stdout",
     "output_type": "stream",
     "text": [
      "Total number of responses:  157\n"
     ]
    }
   ],
   "source": [
    "print 'Total number of responses: ', data.shape[0]"
   ]
  },
  {
   "cell_type": "markdown",
   "metadata": {},
   "source": [
    "Now checking per gender..."
   ]
  },
  {
   "cell_type": "code",
   "execution_count": 86,
   "metadata": {
    "collapsed": false
   },
   "outputs": [
    {
     "name": "stdout",
     "output_type": "stream",
     "text": [
      "Female:  115\n",
      "Male:  40\n"
     ]
    },
    {
     "data": {
      "image/png": "[encoded data removed]",
      "text/plain": [
       "<matplotlib.figure.Figure at 0x7fcc9829e690>"
      ]
     },
     "metadata": {},
     "output_type": "display_data"
    }
   ],
   "source": [
    "femdata = data[ data[:,1] == 'Feminino' ]\n",
    "maldata = data[ data[:,1] == 'Masculino' ]\n",
    "genCounting = [ femdata.shape[0] , maldata.shape[0] ]\n",
    "\n",
    "print 'Female: ', genCounting[0]\n",
    "print 'Male: ', genCounting[1]\n",
    "\n",
    "pl.bar( [0.5,1.5], genCounting, color=(0.3,1.0,0.7) )\n",
    "\n",
    "pl.xlim(0.2,2.5)\n",
    "pl.xticks([0.9,1.9], ['Female', 'Male'])\n",
    "pl.ylabel('Count')\n",
    "pl.show()"
   ]
  },
  {
   "cell_type": "code",
   "execution_count": 59,
   "metadata": {
    "collapsed": false
   },
   "outputs": [
    {
     "data": {
      "text/plain": [
       "(38, 15)"
      ]
     },
     "execution_count": 59,
     "metadata": {},
     "output_type": "execute_result"
    }
   ],
   "source": [
    "data_exct[ data_exct[:,1] == 'Masculino' ].shape"
   ]
  },
  {
   "cell_type": "code",
   "execution_count": 77,
   "metadata": {
    "collapsed": false
   },
   "outputs": [
    {
     "data": {
      "image/png": "[encoded data removed]",
      "text/plain": [
       "<matplotlib.figure.Figure at 0x7fcc7a4da310>"
      ]
     },
     "metadata": {},
     "output_type": "display_data"
    }
   ],
   "source": [
    "Nexct = data_exct.shape[0]\n",
    "genCounting_exct = [ data_exct[ data_exct[:,1] == 'Feminino' ].shape[0] , \n",
    "                    data_exct[ data_exct[:,1] == 'Masculino' ].shape[0] ]\n",
    "\n",
    "Nbiol = data_biol.shape[0]\n",
    "genCounting_biol = [ data_biol[ data_biol[:,1] == 'Feminino' ].shape[0] , \n",
    "                    data_biol[ data_biol[:,1] == 'Masculino' ].shape[0] ]\n",
    "\n",
    "Nhumn = data_humn.shape[0]\n",
    "genCounting_humn = [ data_humn[ data_humn[:,1] == 'Feminino' ].shape[0] , \n",
    "                    data_humn[ data_humn[:,1] == 'Masculino' ].shape[0] ]\n",
    "\n",
    "\n",
    "MenData   = [genCounting_exct[1],genCounting_biol[1],genCounting_humn[1]]\n",
    "WomenData = [genCounting_exct[0],genCounting_biol[0],genCounting_humn[0]]\n",
    "pl.bar( [0.1,1.1,2.1], MenData, 0.8, color=(1.0,0.7,0.3), bottom=WomenData, label='Men' )\n",
    "pl.bar( [0.1,1.1,2.1], WomenData, 0.8, color=(0.3,1.0,0.7), label='Women' )\n",
    "\n",
    "pl.xlim(-0.2,3.2)\n",
    "pl.xticks([0.5,1.5, 2.5], ['Exact', 'Biological', 'Humanities'])\n",
    "pl.ylabel('Count')\n",
    "pl.legend(bbox_to_anchor=(0.7, 0.95))\n",
    "pl.show()"
   ]
  },
  {
   "cell_type": "markdown",
   "metadata": {},
   "source": [
    "## Year they attended college"
   ]
  },
  {
   "cell_type": "code",
   "execution_count": 6,
   "metadata": {
    "collapsed": false
   },
   "outputs": [
    {
     "data": {
      "image/png": "[encoded data removed]",
      "text/plain": [
       "<matplotlib.figure.Figure at 0x7fcc7af10ad0>"
      ]
     },
     "metadata": {},
     "output_type": "display_data"
    }
   ],
   "source": [
    "years = np.array( data[2:,4], dtype=int)\n",
    "years = years[years>0]  #eliminating ill-data\n",
    "\n",
    "pl.hist(years, 7,  color=(0.3,1.0,0.7))\n",
    "\n",
    "pl.xlim(years.min()-2, 2016)\n",
    "pl.xlabel('Year')\n",
    "pl.ylabel('Count')\n",
    "pl.show()"
   ]
  },
  {
   "cell_type": "markdown",
   "metadata": {},
   "source": [
    "### Number of women in their classes"
   ]
  },
  {
   "cell_type": "code",
   "execution_count": 7,
   "metadata": {
    "collapsed": false
   },
   "outputs": [
    {
     "data": {
      "image/png": "[encoded data removed]",
      "text/plain": [
       "<matplotlib.figure.Figure at 0x7fcc7aaa3650>"
      ]
     },
     "metadata": {},
     "output_type": "display_data"
    }
   ],
   "source": [
    "gIN = data[2:,5]\n",
    "gIN[gIN == 'metade da sala, aproximadamente 36 mulheres.'] = '36'\n",
    "gIN[gIN == '30 (metade da turma)'] = '30'\n",
    "gIN[gIN == 'Entre 15-20'] = '17'\n",
    "gIN[gIN == '~25'] = '25'\n",
    "gIN[gIN == 'entre 8 e 10'] = '9'\n",
    "gIN[gIN == 'Aproximadamente 3/4 de uma turma de 35 pessoas'] = '26'\n",
    "gIN[gIN == 'em torno de 8'] = '8'\n",
    "gIN[gIN == 'Aproximadamente 20'] = '20'\n",
    "gIN[gIN == 'por volta de 8'] = '8'\n",
    "gIN[gIN == '11 de 60'] = '11'\n",
    "gIN[gIN == '55 de 75'] = '55'\n",
    "gIN[gIN == 'Aproximadamente metade da turma de 60 pessoas'] = '30'\n",
    "\n",
    "pl.hist(np.array(gIN, dtype=int), 7,  color=(0.3,1.0,0.7))\n",
    "\n",
    "pl.xlabel('Number of women attended')\n",
    "pl.ylabel('Count')\n",
    "pl.show()"
   ]
  },
  {
   "cell_type": "code",
   "execution_count": 8,
   "metadata": {
    "collapsed": false
   },
   "outputs": [
    {
     "data": {
      "image/png": "[encoded data removed]",
      "text/plain": [
       "<matplotlib.figure.Figure at 0x7fcc7aef9f10>"
      ]
     },
     "metadata": {},
     "output_type": "display_data"
    }
   ],
   "source": [
    "gOUT = data[2:,6]\n",
    "gOUT[gOUT == '25 +/-'] = '25'\n",
    "gOUT[gOUT == 'aproximadamente 30'] = '30'\n",
    "gOUT[gOUT == 'nao se aplica'] = '-10'\n",
    "gOUT[gOUT == 'Acho que umas 53, n\\xc3\\xa3o tenho certeza.'] = '53'\n",
    "gOUT[gOUT == 'N\\xc3\\xa3o sei'] = '-10'\n",
    "gOUT[gOUT == '2 se formaram'] = '2'\n",
    "gOUT[gOUT == '8 continuam no curso'] = '8'\n",
    "gOUT[gOUT == 'por volta de 6'] = '6'\n",
    "gOUT[gOUT == '7, ainda nenhuma se formou'] = '7'\n",
    "gOUT[gOUT == 'Aproximadamente 20'] = '20'\n",
    "gOUT[gOUT == 'em torno de 8'] = '8'\n",
    "gOUT[gOUT == ''] = '-10'\n",
    "gOUT[gOUT == '-'] = '-10'\n",
    "gOUT[gOUT == '~15'] = '15'\n",
    "gOUT[gOUT == 'Todas continuam'] = '10'\n",
    "gOUT[gOUT == 'Todas se formaram no per\\xc3\\xadodo ideal, exceto as que fizeram interc\\xc3\\xa2mbio.'] = '10'\n",
    "gOUT[gOUT == 'N\\xc3\\xa3o lembro de nenhuma que saiu do curso.'] = '30'\n",
    "gOUT[47] = 7\n",
    "gOUT[121] = 50\n",
    "\n",
    "pl.hist(np.array(gOUT[np.array(gOUT, dtype=int) > -1], dtype=int), 7,  color=(0.3,1.0,0.7))\n",
    "\n",
    "pl.xlabel('Number of women finished')\n",
    "pl.xlim(-5,80)\n",
    "pl.ylabel('Count')\n",
    "pl.show()"
   ]
  },
  {
   "cell_type": "code",
   "execution_count": 9,
   "metadata": {
    "collapsed": false
   },
   "outputs": [
    {
     "data": {
      "image/png": "[encoded data removed]",
      "text/plain": [
       "<matplotlib.figure.Figure at 0x7fcc7af10810>"
      ]
     },
     "metadata": {},
     "output_type": "display_data"
    }
   ],
   "source": [
    "Delta = np.array(gIN[np.array(gOUT, dtype=int) > 0], dtype=int) - \\\n",
    "        np.array(gOUT[np.array(gOUT, dtype=int) > 0], dtype=int)\n",
    "\n",
    "pl.hist(Delta[Delta >= 0], 7,  color=(0.3,1.0,0.7))\n",
    "\n",
    "pl.xlabel('Number of women drop out')\n",
    "pl.ylabel('Count')\n",
    "pl.xlim(-3,28)\n",
    "pl.show()"
   ]
  },
  {
   "cell_type": "markdown",
   "metadata": {},
   "source": [
    "## Existe qualquer tipo de segregação ou discriminação de gênero no seu curso, mesmo que de forma sutil?"
   ]
  },
  {
   "cell_type": "code",
   "execution_count": 98,
   "metadata": {
    "collapsed": false
   },
   "outputs": [
    {
     "data": {
      "image/png": "[encoded data removed]",
      "text/plain": [
       "<matplotlib.figure.Figure at 0x7fcc7a9ebc90>"
      ]
     },
     "metadata": {},
     "output_type": "display_data"
    }
   ],
   "source": [
    "ansMale   = [maldata[ maldata[2:,9] == 'SIm' ].shape[0], maldata[ maldata[2:,9] == 'N\\xc3\\xa3o' ].shape[0] ]\n",
    "ansFemale = [femdata[ femdata[2:,9] == 'SIm' ].shape[0], femdata[ femdata[2:,9] == 'N\\xc3\\xa3o' ].shape[0] ]\n",
    "\n",
    "pl.bar( [0.,1.], ansMale  , 0.3, color=(1.0,0.7,0.3), label='Male' )\n",
    "pl.bar( [-0.3,0.7], ansFemale, 0.3, color=(0.3,1.0,0.7), label='Female' )\n",
    "\n",
    "pl.xlim(-0.5,2.)\n",
    "pl.xticks([0,1], ['Yes', 'No'])\n",
    "pl.ylabel('Count')\n",
    "pl.legend(bbox_to_anchor=(0.97, 0.95))\n",
    "pl.show()"
   ]
  },
  {
   "cell_type": "code",
   "execution_count": null,
   "metadata": {
    "collapsed": true
   },
   "outputs": [],
   "source": [
    "fdata = data_biol[data_humn[:,1] == 'Feminino']\n",
    "mdata = data_biol[data_humn[:,1] == 'Masculino']\n",
    "ansMale_biol   = [mdata[ mdata[2:,9] == 'SIm' ].shape[0], mdata[ mdata[2:,9] == 'N\\xc3\\xa3o' ].shape[0] ]\n",
    "ansFemale_biol = [fdata[ fdata[2:,9] == 'SIm' ].shape[0], fdata[ fdata[2:,9] == 'N\\xc3\\xa3o' ].shape[0] ]\n",
    "\n",
    "fdata = data_exact[data_humn[:,1] == 'Feminino']\n",
    "mdata = data_excat[data_humn[:,1] == 'Masculino']\n",
    "ansMale_exact   = [mdata[ mdata[2:,9] == 'SIm' ].shape[0], mdata[ mdata[2:,9] == 'N\\xc3\\xa3o' ].shape[0] ]\n",
    "ansFemale_exact = [fdata[ fdata[2:,9] == 'SIm' ].shape[0], fdata[ fdata[2:,9] == 'N\\xc3\\xa3o' ].shape[0] ]\n",
    "\n",
    "fdata = data_humn[data_humn[:,1] == 'Feminino']\n",
    "mdata = data_humn[data_humn[:,1] == 'Masculino']\n",
    "ansMale_humn   = [mdata[ mdata[2:,9] == 'SIm' ].shape[0], mdata[ mdata[2:,9] == 'N\\xc3\\xa3o' ].shape[0] ]\n",
    "ansFemale_humn = [fdata[ fdata[2:,9] == 'SIm' ].shape[0], fdata[ fdata[2:,9] == 'N\\xc3\\xa3o' ].shape[0] ]\n",
    "\n",
    "\n",
    "pl.bar( [0.,1.], ansMale  , 0.3, color=(1.0,0.7,0.3), label='Male' )\n",
    "pl.bar( [-0.3,0.7], ansFemale, 0.3, color=(0.3,1.0,0.7), label='Female' )\n",
    "\n",
    "pl.xlim(-0.5,2.)\n",
    "pl.xticks([0,1], ['Yes', 'No'])\n",
    "pl.ylabel('Count')\n",
    "pl.legend(bbox_to_anchor=(0.97, 0.95))\n",
    "pl.show()"
   ]
  },
  {
   "cell_type": "markdown",
   "metadata": {},
   "source": [
    "## Você ou alguém próximo a você já sofreu algum (...)"
   ]
  },
  {
   "cell_type": "code",
   "execution_count": 10,
   "metadata": {
    "collapsed": true
   },
   "outputs": [],
   "source": [
    "PosAns = {\n",
    "    1 : 'Sim, j\\xc3\\xa1 sofri algum tipo de discrimina\\xc3\\xa7\\xc3\\xa3o/ass\\xc3\\xa9dio sutil durante a universidade',\n",
    "    2 : 'Sim, j\\xc3\\xa1 sofri discrimina\\xc3\\xa7\\xc3\\xa3o/ass\\xc3\\xa9dio expl\\xc3\\xadcito durante a universidade',\n",
    "    3 : 'Sim, algu\\xc3\\xa9m pr\\xc3\\xb3ximo a mim j\\xc3\\xa1 sofreu algum tipo de discrimina\\xc3\\xa7\\xc3\\xa3o/ass\\xc3\\xa9dio sutil durante a universidade',\n",
    "    4 : 'Sim, algu\\xc3\\xa9m pr\\xc3\\xb3ximo a mim j\\xc3\\xa1 sofreu discrimina\\xc3\\xa7\\xc3\\xa3o/ass\\xc3\\xa9dio expl\\xc3\\xadcito durante a universidade',\n",
    "    5 : 'Sim, eu e algu\\xc3\\xa9m pr\\xc3\\xb3ximo a mim j\\xc3\\xa1 sofremos algum tipo de discrimina\\xc3\\xa7\\xc3\\xa3o/ass\\xc3\\xa9dio sutil durante a universidade',\n",
    "    6 : 'Sim, eu e algu\\xc3\\xa9m pr\\xc3\\xb3ximo a mim j\\xc3\\xa1 sofremos discrimina\\xc3\\xa7\\xc3\\xa3o/ass\\xc3\\xa9dio expl\\xc3\\xadcito durante a universidade',\n",
    "    7 : 'N\\xc3\\xa3o, nunca sofri e ningu\\xc3\\xa9m pr\\xc3\\xb3ximo a mim sofreu nenhum tipo de discrimina\\xc3\\xa7\\xc3\\xa3o/ass\\xc3\\xa9dio durante a universidade'\n",
    "}"
   ]
  },
  {
   "cell_type": "code",
   "execution_count": 11,
   "metadata": {
    "collapsed": false
   },
   "outputs": [],
   "source": [
    "RCons = np.zeros((7,1))\n",
    "for j in range(1,8):\n",
    "    RCons[j-1] = data[ data[:,10] == PosAns[j] ].shape[0]"
   ]
  },
  {
   "cell_type": "code",
   "execution_count": 12,
   "metadata": {
    "collapsed": false
   },
   "outputs": [
    {
     "data": {
      "image/png": "[encoded data removed]",
      "text/plain": [
       "<matplotlib.figure.Figure at 0x7fcc9829e6d0>"
      ]
     },
     "metadata": {},
     "output_type": "display_data"
    }
   ],
   "source": [
    "pl.bar( np.array(range(7)) + 0.6, RCons, color=(0.3,1.0,0.7) )\n",
    "pl.xlim(0.1,7.9)\n",
    "pl.xlabel('Answer label')\n",
    "pl.ylim(0,45)\n",
    "pl.ylabel('Count')\n",
    "pl.show()"
   ]
  },
  {
   "cell_type": "markdown",
   "metadata": {},
   "source": [
    "Separando essas respostas por genero"
   ]
  },
  {
   "cell_type": "code",
   "execution_count": 73,
   "metadata": {
    "collapsed": false
   },
   "outputs": [
    {
     "data": {
      "image/png": "[encoded data removed]",
      "text/plain": [
       "<matplotlib.figure.Figure at 0x7fcc7a482310>"
      ]
     },
     "metadata": {},
     "output_type": "display_data"
    }
   ],
   "source": [
    "fRCons = np.zeros((7,1))\n",
    "fdata = data[data[:,1] == 'Feminino']\n",
    "for j in range(1,8):\n",
    "    fRCons[j-1] = fdata[ fdata[:,10] == PosAns[j] ].shape[0]\n",
    "\n",
    "mRCons = np.zeros((7,1))\n",
    "mdata = data[data[:,1] == 'Masculino']\n",
    "for j in range(1,8):\n",
    "    mRCons[j-1] = mdata[ mdata[:,10] == PosAns[j] ].shape[0]\n",
    "\n",
    "pl.bar( np.array(range(7)) + 0.6, fRCons, 0.4, color=(0.3,1.0,0.7), label='Women' )\n",
    "pl.bar( np.array(range(7)) + 1.0, mRCons, 0.4, color=(1.0,0.7,0.3), label='Men' )\n",
    "pl.xlim(0.1,7.9)\n",
    "pl.xlabel('Answer label')\n",
    "pl.ylim(0,33)\n",
    "pl.ylabel('Count')\n",
    "pl.legend(bbox_to_anchor=(0.3, 0.95))\n",
    "pl.show()"
   ]
  },
  {
   "cell_type": "code",
   "execution_count": 14,
   "metadata": {
    "collapsed": false
   },
   "outputs": [
    {
     "data": {
      "image/png": "[encoded data removed]",
      "text/plain": [
       "<matplotlib.figure.Figure at 0x7fcc7acdcdd0>"
      ]
     },
     "metadata": {},
     "output_type": "display_data"
    }
   ],
   "source": [
    "fRCons = np.zeros((7,1))\n",
    "fdata = data[data[:,1] == 'Feminino']\n",
    "for j in range(1,8):\n",
    "    fRCons[j-1] = fdata[ fdata[:,10] == PosAns[j] ].shape[0] / float(genCounting[0])\n",
    "\n",
    "mRCons = np.zeros((7,1))\n",
    "mdata = data[data[:,1] == 'Masculino']\n",
    "for j in range(1,8):\n",
    "    mRCons[j-1] = mdata[ mdata[:,10] == PosAns[j] ].shape[0] / float(genCounting[1])\n",
    "\n",
    "pl.bar( np.array(range(7)) + 0.6, fRCons, 0.4, color=(0.3,1.0,0.7), label='Women' )\n",
    "pl.bar( np.array(range(7)) + 1.0, mRCons, 0.4, color=(1.0,0.7,0.3), label='Men' )\n",
    "pl.xlim(0.1,7.9)\n",
    "pl.xlabel('Answer label')\n",
    "pl.ylabel('Count')\n",
    "pl.legend(bbox_to_anchor=(0.35, 0.95))\n",
    "pl.show()"
   ]
  },
  {
   "cell_type": "markdown",
   "metadata": {
    "collapsed": true
   },
   "source": [
    "### Let's now split by the areas"
   ]
  },
  {
   "cell_type": "code",
   "execution_count": 61,
   "metadata": {
    "collapsed": false
   },
   "outputs": [
    {
     "data": {
      "image/png": "[encoded data removed]",
      "text/plain": [
       "<matplotlib.figure.Figure at 0x7fcc7a506fd0>"
      ]
     },
     "metadata": {},
     "output_type": "display_data"
    }
   ],
   "source": [
    "fRCons = np.zeros((7,1))\n",
    "fdata = data_exct[data_exct[:,1] == 'Feminino']\n",
    "for j in range(1,8):\n",
    "    fRCons[j-1] = fdata[ fdata[:,10] == PosAns[j] ].shape[0] / float(genCounting_exct[0])\n",
    "\n",
    "mRCons = np.zeros((7,1))\n",
    "mdata = data_exct[data_exct[:,1] == 'Masculino']\n",
    "for j in range(1,8):\n",
    "    mRCons[j-1] = mdata[ mdata[:,10] == PosAns[j] ].shape[0] / float(genCounting_exct[1])\n",
    "\n",
    "pl.title('Exact sciences')\n",
    "pl.bar( np.array(range(7)) + 0.6, fRCons, 0.4, color=(0.3,1.0,0.7), label='Women' )\n",
    "pl.bar( np.array(range(7)) + 1.0, mRCons, 0.4, color=(1.0,0.7,0.3), label='Men' )\n",
    "pl.xlim(0.1,7.9)\n",
    "pl.xlabel('Answer label')\n",
    "pl.ylabel('Count')\n",
    "pl.legend(bbox_to_anchor=(0.35, 0.95))\n",
    "pl.show()"
   ]
  },
  {
   "cell_type": "code",
   "execution_count": 78,
   "metadata": {
    "collapsed": false
   },
   "outputs": [
    {
     "data": {
      "image/png": "[encoded data removed]",
      "text/plain": [
       "<matplotlib.figure.Figure at 0x7fcc7a932150>"
      ]
     },
     "metadata": {},
     "output_type": "display_data"
    }
   ],
   "source": [
    "fRCons = np.zeros((7,1))\n",
    "fdata = data_biol[data_biol[:,1] == 'Feminino']\n",
    "for j in range(1,8):\n",
    "    fRCons[j-1] = fdata[ fdata[:,10] == PosAns[j] ].shape[0] / float(genCounting_biol[0])\n",
    "\n",
    "mRCons = np.zeros((7,1))\n",
    "mdata = data_biol[data_biol[:,1] == 'Masculino']\n",
    "for j in range(1,8):\n",
    "    mRCons[j-1] = mdata[ mdata[:,10] == PosAns[j] ].shape[0] / float(genCounting_biol[1])\n",
    "\n",
    "pl.title('Biological sciences')\n",
    "pl.bar( np.array(range(7)) + 0.6, fRCons, 0.4, color=(0.3,1.0,0.7), label='Women' )\n",
    "pl.bar( np.array(range(7)) + 1.0, mRCons, 0.4, color=(1.0,0.7,0.3), label='Men' )\n",
    "pl.xlim(0.1,7.9)\n",
    "pl.xlabel('Answer label')\n",
    "pl.ylabel('Count')\n",
    "pl.legend(bbox_to_anchor=(0.3, 0.95))\n",
    "pl.show()"
   ]
  },
  {
   "cell_type": "code",
   "execution_count": 65,
   "metadata": {
    "collapsed": false
   },
   "outputs": [
    {
     "data": {
      "image/png": "[encoded data removed]",
      "text/plain": [
       "<matplotlib.figure.Figure at 0x7fcc7af0cad0>"
      ]
     },
     "metadata": {},
     "output_type": "display_data"
    }
   ],
   "source": [
    "fRCons = np.zeros((7,1))\n",
    "fdata = data_humn[data_humn[:,1] == 'Feminino']\n",
    "for j in range(1,8):\n",
    "    fRCons[j-1] = fdata[ fdata[:,10] == PosAns[j] ].shape[0] / float(genCounting_humn[0])\n",
    "\n",
    "mRCons = np.zeros((7,1))\n",
    "if genCounting_humn[1] > 0:\n",
    "    mdata = data_humn[data_humn[:,1] == 'Masculino']\n",
    "    for j in range(1,8):\n",
    "        mRCons[j-1] = mdata[ mdata[:,10] == PosAns[j] ].shape[0] / float(genCounting_humn[1])\n",
    "\n",
    "\n",
    "pl.title('Humanities')\n",
    "pl.bar( np.array(range(7)) + 0.6, fRCons, 0.4, color=(0.3,1.0,0.7), label='Women' )\n",
    "pl.bar( np.array(range(7)) + 1.0, mRCons, 0.4, color=(1.0,0.7,0.3), label='Men' )\n",
    "pl.xlim(0.1,7.9)\n",
    "pl.xlabel('Answer label')\n",
    "pl.ylabel('Count')\n",
    "pl.legend(bbox_to_anchor=(0.35, 0.95))\n",
    "pl.show()"
   ]
  },
  {
   "cell_type": "markdown",
   "metadata": {},
   "source": [
    "##  Assédio e discriminação de mulheres na universidade é um problema real? "
   ]
  },
  {
   "cell_type": "code",
   "execution_count": 108,
   "metadata": {
    "collapsed": false
   },
   "outputs": [
    {
     "data": {
      "image/png": "[encoded data removed]",
      "text/plain": [
       "<matplotlib.figure.Figure at 0x7fcc7a4ac750>"
      ]
     },
     "metadata": {},
     "output_type": "display_data"
    }
   ],
   "source": [
    "ansMale   = [maldata[ maldata[2:,11] == 'Sim' ].shape[0], maldata[ maldata[2:,11] == 'N\\xc3\\xa3o' ].shape[0],\n",
    "            0 ]\n",
    "ansMale[2] = maldata.shape[0] - ansMale[0] - ansMale[1]\n",
    "\n",
    "ansFemale = [femdata[ femdata[2:,11] == 'Sim' ].shape[0], femdata[ femdata[2:,11] == 'N\\xc3\\xa3o' ].shape[0],\n",
    "            0 ]\n",
    "ansFemale[2] = femdata.shape[0] - ansFemale[0] - ansFemale[1]\n",
    "\n",
    "pl.bar( [0.,1.,2.], ansMale  , 0.3, color=(1.0,0.7,0.3), label='Male' )\n",
    "pl.bar( [-0.3,0.7,1.7], ansFemale, 0.3, color=(0.3,1.0,0.7), label='Female' )\n",
    "\n",
    "pl.xlim(-0.5,3.)\n",
    "pl.xticks([0,1,2], ['Yes', 'No', 'Other'])\n",
    "pl.ylabel('Count')\n",
    "pl.legend(bbox_to_anchor=(0.97, 0.95))\n",
    "pl.show()"
   ]
  }
 ],
 "metadata": {
  "kernelspec": {
   "display_name": "Python 2",
   "language": "python",
   "name": "python2"
  },
  "language_info": {
   "codemirror_mode": {
    "name": "ipython",
    "version": 2
   },
   "file_extension": ".py",
   "mimetype": "text/x-python",
   "name": "python",
   "nbconvert_exporter": "python",
   "pygments_lexer": "ipython2",
   "version": "2.7.8"
  }
 },
 "nbformat": 4,
 "nbformat_minor": 0
}
