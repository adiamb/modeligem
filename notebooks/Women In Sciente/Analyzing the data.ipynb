{
 "cells": [
  {
   "cell_type": "markdown",
   "metadata": {},
   "source": [
    "Fazer uma lista de mas praticas de questionarios..."
   ]
  },
  {
   "cell_type": "code",
   "execution_count": 120,
   "metadata": {
    "collapsed": true
   },
   "outputs": [],
   "source": [
    "%matplotlib inline\n",
    "import pylab as pl\n",
    "import numpy as np"
   ]
  },
  {
   "cell_type": "code",
   "execution_count": 121,
   "metadata": {
    "collapsed": false
   },
   "outputs": [],
   "source": [
    "f = open('RespostaQuestionárioMulheresnaCiência.csv', 'r')\n",
    "\n",
    "maxNumElem = 0\n",
    "maxElemSize = 0\n",
    "Answers = []\n",
    "for line in f:\n",
    "    lspl = line.split('|')\n",
    "    Answers.append( lspl )\n",
    "    if maxNumElem < len( lspl ): maxNumElem = len( lspl ) \n",
    "    for item in lspl:\n",
    "        if maxElemSize < len(item): maxElemSize = len(item)\n",
    "\n",
    "data = np.chararray( ( len(Answers)+1,15), itemsize=maxElemSize )\n",
    "data[:] = ''\n",
    "j=0\n",
    "for answer in Answers:\n",
    "    j += 1\n",
    "    k = 0\n",
    "    for item in answer:\n",
    "        data[j,k] = item\n",
    "        k += 1"
   ]
  },
  {
   "cell_type": "markdown",
   "metadata": {},
   "source": [
    "Showing index of each question"
   ]
  },
  {
   "cell_type": "code",
   "execution_count": 122,
   "metadata": {
    "collapsed": false
   },
   "outputs": [
    {
     "name": "stdout",
     "output_type": "stream",
     "text": [
      "0 Indicação de data e hora\n",
      "1 Qual o seu gênero?\n",
      "2 Qual a sua universidade?\n",
      "3 Qual o seu instituto?\n",
      "4 Qual o seu ano de ingresso na universidade?\n",
      "5 Quantas mulheres entraram no seu curso no seu ano \n",
      "6 Quantas ainda continuam no curso? Caso tenha concl\n",
      "7 Na sua opinião, a presença de mulheres no seu cu\n",
      "8 Você acredita que homens possuem vantagens sobre \n",
      "9 Você diria que existe qualquer tipo de segregaç�\n",
      "10 Você ou alguém próximo a você já sofreu algum\n",
      "11 Você acha que a questão de assédio e discrimina\n",
      "12 Escreva aqui comentários/sugestões caso deseje.\n",
      "13 Qual o seu curso?\n",
      "14 \n"
     ]
    }
   ],
   "source": [
    "for j in range(data.shape[1]):\n",
    "    print j, data[1,j][:50]"
   ]
  },
  {
   "cell_type": "markdown",
   "metadata": {},
   "source": [
    "Fixing the data..."
   ]
  },
  {
   "cell_type": "code",
   "execution_count": 128,
   "metadata": {
    "collapsed": true
   },
   "outputs": [],
   "source": [
    "data[122,4] = '2008'\n",
    "data[149,4] = '0'"
   ]
  },
  {
   "cell_type": "markdown",
   "metadata": {},
   "source": [
    "### Number of female and male responses"
   ]
  },
  {
   "cell_type": "code",
   "execution_count": 307,
   "metadata": {
    "collapsed": false
   },
   "outputs": [
    {
     "data": {
      "image/png": "[encoded data removed]",
      "text/plain": [
       "<matplotlib.figure.Figure at 0x7f2bf7b3fbd0>"
      ]
     },
     "metadata": {},
     "output_type": "display_data"
    }
   ],
   "source": [
    "genCounting = [ data[ data[:,1] == 'Feminino' ].shape[0] , data[ data[:,1] == 'Masculino' ].shape[0] ]\n",
    "\n",
    "pl.bar( [0.5,1.5], genCounting, color=(0.3,1.0,0.7) )\n",
    "\n",
    "pl.xlim(0.2,2.5)\n",
    "pl.xticks([0.9,1.9], ['Female', 'Male'])\n",
    "pl.ylabel('Count')\n",
    "pl.show()"
   ]
  },
  {
   "cell_type": "markdown",
   "metadata": {},
   "source": [
    "### Year they attended college"
   ]
  },
  {
   "cell_type": "code",
   "execution_count": 149,
   "metadata": {
    "collapsed": false
   },
   "outputs": [
    {
     "data": {
      "image/png": "[encoded data removed]",
      "text/plain": [
       "<matplotlib.figure.Figure at 0x7f2bf7fe3410>"
      ]
     },
     "metadata": {},
     "output_type": "display_data"
    }
   ],
   "source": [
    "years = np.array( data[2:,4], dtype=int)\n",
    "years = years[years>0]  #eliminating ill-data\n",
    "\n",
    "pl.hist(years, 7,  color=(0.3,1.0,0.7))\n",
    "\n",
    "pl.xlim(years.min()-2, 2016)\n",
    "pl.xlabel('Year')\n",
    "pl.ylabel('Count')\n",
    "pl.show()"
   ]
  },
  {
   "cell_type": "markdown",
   "metadata": {},
   "source": [
    "### Number of women in their classes"
   ]
  },
  {
   "cell_type": "code",
   "execution_count": 244,
   "metadata": {
    "collapsed": false
   },
   "outputs": [
    {
     "data": {
      "image/png": "[encoded data removed]",
      "text/plain": [
       "<matplotlib.figure.Figure at 0x7f2bf7d2f2d0>"
      ]
     },
     "metadata": {},
     "output_type": "display_data"
    }
   ],
   "source": [
    "gIN = data[2:,5]\n",
    "gIN[gIN == 'metade da sala, aproximadamente 36 mulheres.'] = '36'\n",
    "gIN[gIN == '30 (metade da turma)'] = '30'\n",
    "gIN[gIN == 'Entre 15-20'] = '17'\n",
    "gIN[gIN == '~25'] = '25'\n",
    "gIN[gIN == 'entre 8 e 10'] = '9'\n",
    "gIN[gIN == 'Aproximadamente 3/4 de uma turma de 35 pessoas'] = '26'\n",
    "gIN[gIN == 'em torno de 8'] = '8'\n",
    "gIN[gIN == 'Aproximadamente 20'] = '20'\n",
    "gIN[gIN == 'por volta de 8'] = '8'\n",
    "gIN[gIN == '11 de 60'] = '11'\n",
    "gIN[gIN == '55 de 75'] = '55'\n",
    "gIN[gIN == 'Aproximadamente metade da turma de 60 pessoas'] = '30'\n",
    "\n",
    "pl.hist(np.array(gIN, dtype=int), 7,  color=(0.3,1.0,0.7))\n",
    "\n",
    "pl.xlabel('Number of women attended')\n",
    "pl.ylabel('Count')\n",
    "pl.show()"
   ]
  },
  {
   "cell_type": "code",
   "execution_count": 256,
   "metadata": {
    "collapsed": false
   },
   "outputs": [
    {
     "data": {
      "image/png": "[encoded data removed]",
      "text/plain": [
       "<matplotlib.figure.Figure at 0x7f2bf7c37510>"
      ]
     },
     "metadata": {},
     "output_type": "display_data"
    }
   ],
   "source": [
    "gOUT = data[2:,6]\n",
    "gOUT[gOUT == '25 +/-'] = '25'\n",
    "gOUT[gOUT == 'aproximadamente 30'] = '30'\n",
    "gOUT[gOUT == 'nao se aplica'] = '-10'\n",
    "gOUT[gOUT == 'Acho que umas 53, n\\xc3\\xa3o tenho certeza.'] = '53'\n",
    "gOUT[gOUT == 'N\\xc3\\xa3o sei'] = '-10'\n",
    "gOUT[gOUT == '2 se formaram'] = '2'\n",
    "gOUT[gOUT == '8 continuam no curso'] = '8'\n",
    "gOUT[gOUT == 'por volta de 6'] = '6'\n",
    "gOUT[gOUT == '7, ainda nenhuma se formou'] = '7'\n",
    "gOUT[gOUT == 'Aproximadamente 20'] = '20'\n",
    "gOUT[gOUT == 'em torno de 8'] = '8'\n",
    "gOUT[gOUT == ''] = '-10'\n",
    "gOUT[gOUT == '-'] = '-10'\n",
    "gOUT[gOUT == '~15'] = '15'\n",
    "gOUT[gOUT == 'Todas continuam'] = '10'\n",
    "gOUT[gOUT == 'Todas se formaram no per\\xc3\\xadodo ideal, exceto as que fizeram interc\\xc3\\xa2mbio.'] = '10'\n",
    "gOUT[gOUT == 'N\\xc3\\xa3o lembro de nenhuma que saiu do curso.'] = '30'\n",
    "gOUT[47] = 7\n",
    "gOUT[121] = 50\n",
    "\n",
    "pl.hist(np.array(gOUT[np.array(gOUT, dtype=int) > -1], dtype=int), 7,  color=(0.3,1.0,0.7))\n",
    "\n",
    "pl.xlabel('Number of women finished')\n",
    "pl.xlim(-5,80)\n",
    "pl.ylabel('Count')\n",
    "pl.show()"
   ]
  },
  {
   "cell_type": "code",
   "execution_count": 271,
   "metadata": {
    "collapsed": false
   },
   "outputs": [
    {
     "data": {
      "image/png": "[encoded data removed]",
      "text/plain": [
       "<matplotlib.figure.Figure at 0x7f2bf7ccff90>"
      ]
     },
     "metadata": {},
     "output_type": "display_data"
    }
   ],
   "source": [
    "Delta = np.array(gIN[np.array(gOUT, dtype=int) > 0], dtype=int) - \\\n",
    "        np.array(gOUT[np.array(gOUT, dtype=int) > 0], dtype=int)\n",
    "\n",
    "pl.hist(Delta[Delta >= 0], 7,  color=(0.3,1.0,0.7))\n",
    "\n",
    "pl.xlabel('Number of women drop out')\n",
    "pl.ylabel('Count')\n",
    "pl.xlim(-3,28)\n",
    "pl.show()"
   ]
  },
  {
   "cell_type": "markdown",
   "metadata": {},
   "source": [
    "### Você ou alguém próximo a você já sofreu algum (...)"
   ]
  },
  {
   "cell_type": "code",
   "execution_count": 276,
   "metadata": {
    "collapsed": true
   },
   "outputs": [],
   "source": [
    "PosAns = {\n",
    "    1 : 'Sim, j\\xc3\\xa1 sofri algum tipo de discrimina\\xc3\\xa7\\xc3\\xa3o/ass\\xc3\\xa9dio sutil durante a universidade',\n",
    "    2 : 'Sim, j\\xc3\\xa1 sofri discrimina\\xc3\\xa7\\xc3\\xa3o/ass\\xc3\\xa9dio expl\\xc3\\xadcito durante a universidade',\n",
    "    3 : 'Sim, algu\\xc3\\xa9m pr\\xc3\\xb3ximo a mim j\\xc3\\xa1 sofreu algum tipo de discrimina\\xc3\\xa7\\xc3\\xa3o/ass\\xc3\\xa9dio sutil durante a universidade',\n",
    "    4 : 'Sim, algu\\xc3\\xa9m pr\\xc3\\xb3ximo a mim j\\xc3\\xa1 sofreu discrimina\\xc3\\xa7\\xc3\\xa3o/ass\\xc3\\xa9dio expl\\xc3\\xadcito durante a universidade',\n",
    "    5 : 'Sim, eu e algu\\xc3\\xa9m pr\\xc3\\xb3ximo a mim j\\xc3\\xa1 sofremos algum tipo de discrimina\\xc3\\xa7\\xc3\\xa3o/ass\\xc3\\xa9dio sutil durante a universidade',\n",
    "    6 : 'Sim, eu e algu\\xc3\\xa9m pr\\xc3\\xb3ximo a mim j\\xc3\\xa1 sofremos discrimina\\xc3\\xa7\\xc3\\xa3o/ass\\xc3\\xa9dio expl\\xc3\\xadcito durante a universidade',\n",
    "    7 : 'N\\xc3\\xa3o, nunca sofri e ningu\\xc3\\xa9m pr\\xc3\\xb3ximo a mim sofreu nenhum tipo de discrimina\\xc3\\xa7\\xc3\\xa3o/ass\\xc3\\xa9dio durante a universidade'\n",
    "}"
   ]
  },
  {
   "cell_type": "code",
   "execution_count": 283,
   "metadata": {
    "collapsed": false
   },
   "outputs": [],
   "source": [
    "RCons = np.zeros((7,1))\n",
    "for j in range(1,8):\n",
    "    RCons[j-1] = data[ data[:,10] == PosAns[j] ].shape[0]"
   ]
  },
  {
   "cell_type": "code",
   "execution_count": 294,
   "metadata": {
    "collapsed": false
   },
   "outputs": [
    {
     "data": {
      "image/png": "[encoded data removed]",
      "text/plain": [
       "<matplotlib.figure.Figure at 0x7f2bf7caecd0>"
      ]
     },
     "metadata": {},
     "output_type": "display_data"
    }
   ],
   "source": [
    "pl.bar( np.array(range(7)) + 0.6, RCons, color=(0.3,1.0,0.7) )\n",
    "pl.xlim(0.1,7.9)\n",
    "pl.xlabel('Answer label')\n",
    "pl.ylim(0,45)\n",
    "pl.ylabel('Count')\n",
    "pl.show()"
   ]
  },
  {
   "cell_type": "markdown",
   "metadata": {},
   "source": [
    "Separando essas respostas por genero"
   ]
  },
  {
   "cell_type": "code",
   "execution_count": 309,
   "metadata": {
    "collapsed": false
   },
   "outputs": [
    {
     "data": {
      "image/png": "[encoded data removed]",
      "text/plain": [
       "<matplotlib.figure.Figure at 0x7f2bf7e81f90>"
      ]
     },
     "metadata": {},
     "output_type": "display_data"
    }
   ],
   "source": [
    "fRCons = np.zeros((7,1))\n",
    "fdata = data[data[:,1] == 'Feminino']\n",
    "for j in range(1,8):\n",
    "    fRCons[j-1] = fdata[ fdata[:,10] == PosAns[j] ].shape[0]\n",
    "\n",
    "mRCons = np.zeros((7,1))\n",
    "mdata = data[data[:,1] == 'Masculino']\n",
    "for j in range(1,8):\n",
    "    mRCons[j-1] = mdata[ mdata[:,10] == PosAns[j] ].shape[0]\n",
    "\n",
    "pl.bar( np.array(range(7)) + 0.6, fRCons, 0.4, color=(0.3,1.0,0.7) )\n",
    "pl.bar( np.array(range(7)) + 1.0, mRCons, 0.4, color=(1.0,0.7,0.3) )\n",
    "pl.xlim(0.1,7.9)\n",
    "pl.xlabel('Answer label')\n",
    "pl.ylim(0,33)\n",
    "pl.ylabel('Count')\n",
    "pl.show()"
   ]
  },
  {
   "cell_type": "code",
   "execution_count": 316,
   "metadata": {
    "collapsed": false
   },
   "outputs": [
    {
     "data": {
      "image/png": "[encoded data removed]",
      "text/plain": [
       "<matplotlib.figure.Figure at 0x7f2bf7da0dd0>"
      ]
     },
     "metadata": {},
     "output_type": "display_data"
    }
   ],
   "source": [
    "fRCons = np.zeros((7,1))\n",
    "fdata = data[data[:,1] == 'Feminino']\n",
    "for j in range(1,8):\n",
    "    fRCons[j-1] = fdata[ fdata[:,10] == PosAns[j] ].shape[0] / float(genCounting[0])\n",
    "\n",
    "mRCons = np.zeros((7,1))\n",
    "mdata = data[data[:,1] == 'Masculino']\n",
    "for j in range(1,8):\n",
    "    mRCons[j-1] = mdata[ mdata[:,10] == PosAns[j] ].shape[0] / float(genCounting[1])\n",
    "\n",
    "pl.bar( np.array(range(7)) + 0.6, fRCons, 0.4, color=(0.3,1.0,0.7), label='Women' )\n",
    "pl.bar( np.array(range(7)) + 1.0, mRCons, 0.4, color=(1.0,0.7,0.3), label='Men' )\n",
    "pl.xlim(0.1,7.9)\n",
    "pl.xlabel('Answer label')\n",
    "pl.ylabel('Count')\n",
    "pl.legend(bbox_to_anchor=(0.35, 0.95))\n",
    "pl.show()"
   ]
  },
  {
   "cell_type": "code",
   "execution_count": null,
   "metadata": {
    "collapsed": true
   },
   "outputs": [],
   "source": []
  }
 ],
 "metadata": {
  "kernelspec": {
   "display_name": "Python 2",
   "language": "python",
   "name": "python2"
  },
  "language_info": {
   "codemirror_mode": {
    "name": "ipython",
    "version": 2
   },
   "file_extension": ".py",
   "mimetype": "text/x-python",
   "name": "python",
   "nbconvert_exporter": "python",
   "pygments_lexer": "ipython2",
   "version": "2.7.8"
  }
 },
 "nbformat": 4,
 "nbformat_minor": 0
}
